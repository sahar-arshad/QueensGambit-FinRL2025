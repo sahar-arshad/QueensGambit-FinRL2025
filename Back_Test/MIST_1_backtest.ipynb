{
 "cells": [
  {
   "cell_type": "code",
   "execution_count": null,
   "metadata": {
    "colab": {
     "base_uri": "https://localhost:8080/"
    },
    "executionInfo": {
     "elapsed": 27323,
     "status": "ok",
     "timestamp": 1744648877255,
     "user": {
      "displayName": "Huma Ameer",
      "userId": "09038294176164290895"
     },
     "user_tz": -300
    },
    "id": "hnpORfCDqrBp",
    "outputId": "8d2458d6-df2d-41ec-9e88-cf04f656d4b2"
   },
   "outputs": [],
   "source": [
    "# Mount Google Drive\n",
    "from google.colab import drive\n",
    "drive.mount('/content/drive')\n"
   ]
  },
  {
   "cell_type": "markdown",
   "metadata": {
    "id": "Ossz1l2sq8sr"
   },
   "source": [
    "# Installation\n"
   ]
  },
  {
   "cell_type": "code",
   "execution_count": null,
   "metadata": {
    "colab": {
     "base_uri": "https://localhost:8080/"
    },
    "executionInfo": {
     "elapsed": 219543,
     "status": "ok",
     "timestamp": 1744649096800,
     "user": {
      "displayName": "Huma Ameer",
      "userId": "09038294176164290895"
     },
     "user_tz": -300
    },
    "id": "8HFYtmqpqtys",
    "outputId": "fc23bd14-d2dc-41e6-80f1-3ab4d9f8572a"
   },
   "outputs": [],
   "source": [
    "!pip install git+https://github.com/AI4Finance-LLC/FinRL-Library.git"
   ]
  },
  {
   "cell_type": "code",
   "execution_count": null,
   "metadata": {
    "colab": {
     "base_uri": "https://localhost:8080/"
    },
    "executionInfo": {
     "elapsed": 14519,
     "status": "ok",
     "timestamp": 1744649117085,
     "user": {
      "displayName": "Huma Ameer",
      "userId": "09038294176164290895"
     },
     "user_tz": -300
    },
    "id": "V9QXmpAAq2jJ",
    "outputId": "ec52cc94-a2a2-4f3b-9b5d-01d7a60bd095"
   },
   "outputs": [],
   "source": [
    "!pip install selenium webdriver-manager alpaca-py datasets\n"
   ]
  },
  {
   "cell_type": "code",
   "execution_count": null,
   "metadata": {
    "colab": {
     "base_uri": "https://localhost:8080/"
    },
    "executionInfo": {
     "elapsed": 1740,
     "status": "ok",
     "timestamp": 1744649123529,
     "user": {
      "displayName": "Huma Ameer",
      "userId": "09038294176164290895"
     },
     "user_tz": -300
    },
    "id": "PC603SFdq3S9",
    "outputId": "fc8fd4c9-7908-4afd-970f-fb7f9b90cf5b"
   },
   "outputs": [],
   "source": [
    "!git clone https://github.com/benstaf/FinRL_DeepSeek.git\n",
    "%cd FinRL_DeepSeek"
   ]
  },
  {
   "cell_type": "code",
   "execution_count": null,
   "metadata": {
    "id": "XKCnDWHErBYP"
   },
   "outputs": [],
   "source": [
    "import sys\n",
    "sys.path.append(\"/content/FinRL_DeepSeek/\")"
   ]
  },
  {
   "cell_type": "code",
   "execution_count": null,
   "metadata": {
    "colab": {
     "base_uri": "https://localhost:8080/"
    },
    "executionInfo": {
     "elapsed": 3183,
     "status": "ok",
     "timestamp": 1744649132316,
     "user": {
      "displayName": "Huma Ameer",
      "userId": "09038294176164290895"
     },
     "user_tz": -300
    },
    "id": "wm-tTaATrB93",
    "outputId": "adb4d290-01e1-4e39-e7e1-213a280f9a88"
   },
   "outputs": [],
   "source": [
    "!git clone https://huggingface.co/benstaf/Trading_agents"
   ]
  },
  {
   "cell_type": "code",
   "execution_count": null,
   "metadata": {
    "colab": {
     "base_uri": "https://localhost:8080/"
    },
    "executionInfo": {
     "elapsed": 11586,
     "status": "ok",
     "timestamp": 1744649145299,
     "user": {
      "displayName": "Huma Ameer",
      "userId": "09038294176164290895"
     },
     "user_tz": -300
    },
    "id": "lVV6t2JcrCBP",
    "outputId": "9ba139a0-6c74-4f4b-aed5-7e1928ea01a1"
   },
   "outputs": [],
   "source": [
    "!pip install pandas_market_calendars\n",
    "!pip install datasets"
   ]
  },
  {
   "cell_type": "markdown",
   "metadata": {
    "id": "q6xBnF1ZrJS-"
   },
   "source": [
    "# Import libraries"
   ]
  },
  {
   "cell_type": "code",
   "execution_count": null,
   "metadata": {
    "id": "AXnjOB5HrLzO"
   },
   "outputs": [],
   "source": [
    "import matplotlib.pyplot as plt\n",
    "import numpy as np\n",
    "import pandas as pd\n",
    "#from stable_baselines3 import A2C, DDPG, PPO, SAC, TD3\n",
    "\n",
    "#from finrl.agents.stablebaselines3.models import DRLAgent\n",
    "from finrl.config import INDICATORS, TRAINED_MODEL_DIR\n",
    "from env_stocktrading import StockTradingEnv\n",
    "\n",
    "\n",
    "# Import PPO-DeepSeek environments\n",
    "from env_stocktrading_llm import StockTradingEnv as StockTradingEnv_llm\n",
    "from env_stocktrading_llm_1 import StockTradingEnv as StockTradingEnv_llm_1\n",
    "from env_stocktrading_llm_01 import StockTradingEnv as StockTradingEnv_llm_01\n",
    "\n",
    "# Import CPPO-DeepSeek risk environments\n",
    "from env_stocktrading_llm_risk import StockTradingEnv as StockTradingEnv_llm_risk\n",
    "from env_stocktrading_llm_risk_1 import StockTradingEnv as StockTradingEnv_llm_risk_1\n",
    "from env_stocktrading_llm_risk_01 import StockTradingEnv as StockTradingEnv_llm_risk_01\n",
    "\n",
    "#from env_stocktrading_llm import StockTradingEnv as StockTradingEnv_llm\n",
    "\n",
    "#from env_stocktrading_llm_risk import StockTradingEnv as StockTradingEnv_llm_risk\n",
    "\n",
    "\n",
    "#from finrl.meta.env_stock_trading.env_stocktrading_llm import StockTradingEnv\n",
    "from finrl.meta.preprocessor.yahoodownloader import YahooDownloader\n",
    "\n",
    "\n",
    "from datasets import load_dataset\n",
    "\n",
    "%matplotlib inline"
   ]
  },
  {
   "cell_type": "markdown",
   "metadata": {
    "id": "HMsiawUhrNyT"
   },
   "source": [
    "# Part2.Backtesting"
   ]
  },
  {
   "cell_type": "code",
   "execution_count": null,
   "metadata": {
    "colab": {
     "base_uri": "https://localhost:8080/",
     "height": 407,
     "referenced_widgets": [
      "f6f6b07fd2534991a67ff7f364bb7227",
      "759d3c26f50546569f98e0f899c9217c",
      "498371412bea48349228da463c0157de",
      "4ebc636b9e6a45189f5a7c78ea355bb4",
      "ad889b584f5c4828bc960fee87cdb9fe",
      "6adbb7b8faeb4aafb4b0a93b56a76f15",
      "67449d7583c34ba2a00bc7b2f695c66f",
      "96f019941be34001968cbaeb724b4b44",
      "c703b3018ae6459881926316129176a6",
      "76d4ebe22d134f07921e851bc7c5b1ea",
      "6835299ef115434b8cc9c1870dc9180b",
      "9a03b5e418924201910cc938b19f3e12",
      "c36641d8aa7c4dd195227115dfea2740",
      "278c46e8c8b54ff092d7249ea66644d0",
      "543db501fb8e4054b70237a0428bacec",
      "6fe7955b9599410cb3c5e94a56c2c8cc",
      "5b3c49f30b2f445f86d0dba5a6d2157f",
      "2602170430054884971b584ba66daafa",
      "bc94fafb582847a9a4ef082d351169dc",
      "292f19e0fccf46cfacc9686500fd24d9",
      "4e0d2b1db6a94e4896f29ec60a2c4b16",
      "f5c2fa071b3c4346a6c50afa6558b888",
      "fc6b331abe3d4d0bb4b72b0fc1bf123b",
      "ef5d06e3c2c64ced93da1aed88abfd82",
      "47ae5f0a390a470391346f19390bb4cb",
      "37a1247809324ee5a45f71a3be4dcc99",
      "cdf9ce230c1d44d1b980574fa61e6a88",
      "09740299af8a458f8595292cee232400",
      "145d6cb536704ab3ab0e7ef54392c0ea",
      "2d6c6ae1de684f00abacb95e0a96c792",
      "4919ae3d847c43689f2ab835b453ce91",
      "2c53c1191bc34d36a81ddb36aab8a9f4",
      "cc103831873240dab9f7dcbe4d18ccb8"
     ]
    },
    "executionInfo": {
     "elapsed": 24197,
     "status": "ok",
     "timestamp": 1744649206519,
     "user": {
      "displayName": "Huma Ameer",
      "userId": "09038294176164290895"
     },
     "user_tz": -300
    },
    "id": "WqMAWD88rM0d",
    "outputId": "29d9df16-417a-47d8-aa96-357398b9e83a"
   },
   "outputs": [],
   "source": [
    "# from Huggging Face :\n",
    "dataset = load_dataset(\"benstaf/nasdaq_2013_2023\", data_files='trade_data_deepseek_sentiment_2019_2023.csv')\n",
    "\n",
    "# Convert to pandas DataFrame\n",
    "trade = pd.DataFrame(dataset['train'])\n",
    "\n",
    "#trade= pd.read_csv('/content/machine_learning/trade_data_qwen_sentiment.csv')\n",
    "\n",
    "trade = trade.drop('Unnamed: 0',axis=1)\n",
    "\n",
    "# Create a new index based on unique dates\n",
    "unique_dates = trade['date'].unique()\n",
    "date_to_idx = {date: idx for idx, date in enumerate(unique_dates)}\n",
    "\n",
    "# Create new index based on the date mapping\n",
    "trade['new_idx'] = trade['date'].map(date_to_idx)\n",
    "\n",
    "# Set this as the index\n",
    "trade = trade.set_index('new_idx')\n",
    "\n",
    "\n",
    "#missing values with 0\n",
    "trade['llm_sentiment'].fillna(0, inplace=True)\n",
    "trade_llm=trade.copy()"
   ]
  },
  {
   "cell_type": "markdown",
   "metadata": {
    "id": "lMh8V2RssXlh"
   },
   "source": [
    "###  Reducing size from 84 to 8 companies"
   ]
  },
  {
   "cell_type": "code",
   "execution_count": null,
   "metadata": {
    "id": "WGh0qd1OsSoL"
   },
   "outputs": [],
   "source": [
    "tickers = ['AMD', 'ADBE', 'PYPL', 'CSCO', 'NFLX', 'NVDA', 'EBAY', 'MNST', 'GOOGL']\n",
    "trade = trade[\n",
    "    (trade['tic'].isin(tickers))\n",
    "].sort_values(by='date')\n",
    "\n",
    "# Step 3: Create a mapping from unique dates to a new index\n",
    "date_to_idx = {date: idx for idx, date in enumerate(sorted(trade['date'].unique()))}\n",
    "\n",
    "# Step 4: Map that to a new column\n",
    "trade['new_idx'] = trade['date'].map(date_to_idx)\n",
    "\n",
    "# Step 5: Set new_idx as the actual DataFrame index\n",
    "trade.set_index('new_idx', inplace=True)"
   ]
  },
  {
   "cell_type": "code",
   "execution_count": null,
   "metadata": {
    "id": "E1HjZaq5sUr8"
   },
   "outputs": [],
   "source": [
    "if 'new_idx' in trade.columns:\n",
    "    trade.drop(columns='new_idx', inplace=True)"
   ]
  },
  {
   "cell_type": "code",
   "execution_count": null,
   "metadata": {
    "colab": {
     "base_uri": "https://localhost:8080/",
     "height": 344
    },
    "executionInfo": {
     "elapsed": 122,
     "status": "ok",
     "timestamp": 1744649213943,
     "user": {
      "displayName": "Huma Ameer",
      "userId": "09038294176164290895"
     },
     "user_tz": -300
    },
    "id": "fqozQzezsdqq",
    "outputId": "b5fe961e-9999-42f8-e662-c0ab77086f41"
   },
   "outputs": [],
   "source": [
    "trade.head()"
   ]
  },
  {
   "cell_type": "code",
   "execution_count": null,
   "metadata": {
    "colab": {
     "base_uri": "https://localhost:8080/"
    },
    "executionInfo": {
     "elapsed": 32,
     "status": "ok",
     "timestamp": 1744649216551,
     "user": {
      "displayName": "Huma Ameer",
      "userId": "09038294176164290895"
     },
     "user_tz": -300
    },
    "id": "0iUi6s0FseAq",
    "outputId": "0683e44b-37c9-409c-87b4-4a8efcee9319"
   },
   "outputs": [],
   "source": [
    "trade.shape"
   ]
  },
  {
   "cell_type": "code",
   "execution_count": null,
   "metadata": {
    "id": "HEkuL05dsf_r"
   },
   "outputs": [],
   "source": [
    "trade_llm=trade.copy()"
   ]
  },
  {
   "cell_type": "code",
   "execution_count": null,
   "metadata": {
    "colab": {
     "base_uri": "https://localhost:8080/",
     "height": 344
    },
    "executionInfo": {
     "elapsed": 162,
     "status": "ok",
     "timestamp": 1744649220535,
     "user": {
      "displayName": "Huma Ameer",
      "userId": "09038294176164290895"
     },
     "user_tz": -300
    },
    "id": "BmbWE8f6shp_",
    "outputId": "d78378f1-5a22-49da-db73-1ba7f76eedcf"
   },
   "outputs": [],
   "source": [
    "trade_llm.head()"
   ]
  },
  {
   "cell_type": "code",
   "execution_count": null,
   "metadata": {
    "colab": {
     "base_uri": "https://localhost:8080/"
    },
    "executionInfo": {
     "elapsed": 60,
     "status": "ok",
     "timestamp": 1744649223210,
     "user": {
      "displayName": "Huma Ameer",
      "userId": "09038294176164290895"
     },
     "user_tz": -300
    },
    "id": "aTyuokJ-sjEQ",
    "outputId": "a7d253bd-e36a-41bf-dfaf-1b32a0aca00e"
   },
   "outputs": [],
   "source": [
    "len(trade_llm['date'].unique())"
   ]
  },
  {
   "cell_type": "markdown",
   "metadata": {
    "id": "RIeSj56ssl2Z"
   },
   "source": [
    "### Continue with base code"
   ]
  },
  {
   "cell_type": "markdown",
   "metadata": {
    "id": "zyJXbCxss2eG"
   },
   "source": [
    "### Trading (Out-of-sample Performance)\n",
    "\n",
    "We update periodically in order to take full advantage of the data, e.g., retrain quarterly, monthly or weekly. We also tune the parameters along the way, in this notebook we use the in-sample data from 2009-01 to 2020-07 to tune the parameters once, so there is some alpha decay here as the length of trade date extends.\n",
    "\n",
    "Numerous hyperparameters – e.g. the learning rate, the total number of samples to train on – influence the learning process and are usually determined by testing some variations."
   ]
  },
  {
   "cell_type": "code",
   "execution_count": null,
   "metadata": {
    "colab": {
     "base_uri": "https://localhost:8080/"
    },
    "executionInfo": {
     "elapsed": 53,
     "status": "ok",
     "timestamp": 1744649225771,
     "user": {
      "displayName": "Huma Ameer",
      "userId": "09038294176164290895"
     },
     "user_tz": -300
    },
    "id": "Y9LFQALgs1jv",
    "outputId": "e619d0c3-9f64-4f98-a54b-61908173a73b"
   },
   "outputs": [],
   "source": [
    "stock_dimension_llm = len(trade_llm.tic.unique())\n",
    "state_space_llm = 1 + 2 * stock_dimension_llm + (1+len(INDICATORS)) * stock_dimension_llm #+ stock_dimension # +LLM sentiment\n",
    "print(f\"Stock Dimension: {stock_dimension_llm}, State Space: {state_space_llm}\")\n"
   ]
  },
  {
   "cell_type": "code",
   "execution_count": null,
   "metadata": {
    "id": "6TGtFgL0slMd"
   },
   "outputs": [],
   "source": [
    "buy_cost_list_llm = sell_cost_list_llm = [0.001] * stock_dimension_llm\n",
    "num_stock_shares_llm = [0] * stock_dimension_llm\n",
    "#Environment indicators + sentiments\n",
    "env_kwargs_llm = {\n",
    "    \"hmax\": 100,\n",
    "    \"initial_amount\": 1000000,\n",
    "    \"num_stock_shares\": num_stock_shares_llm,\n",
    "    \"buy_cost_pct\": buy_cost_list_llm,\n",
    "    \"sell_cost_pct\": sell_cost_list_llm,\n",
    "    \"state_space\": state_space_llm,\n",
    "    \"stock_dim\": stock_dimension_llm,\n",
    "    \"tech_indicator_list\": INDICATORS,\n",
    "    \"action_space\": stock_dimension_llm,\n",
    "    \"reward_scaling\": 1e-4\n",
    "}"
   ]
  },
  {
   "cell_type": "code",
   "execution_count": null,
   "metadata": {
    "id": "21iUAq3es-IJ"
   },
   "outputs": [],
   "source": [
    "e_trade_llm_gym = StockTradingEnv_llm(df = trade_llm, turbulence_threshold = 70,risk_indicator_col='vix', **env_kwargs_llm)\n",
    "# env_trade, obs_trade = e_trade_gym.get_sb_env()"
   ]
  },
  {
   "cell_type": "code",
   "execution_count": null,
   "metadata": {
    "id": "jy4jC1aEtAEG"
   },
   "outputs": [],
   "source": [
    "observation_space_llm=e_trade_llm_gym.observation_space\n",
    "action_space_llm=e_trade_llm_gym.action_space"
   ]
  },
  {
   "cell_type": "code",
   "execution_count": null,
   "metadata": {
    "colab": {
     "base_uri": "https://localhost:8080/"
    },
    "executionInfo": {
     "elapsed": 29,
     "status": "ok",
     "timestamp": 1744649230873,
     "user": {
      "displayName": "Huma Ameer",
      "userId": "09038294176164290895"
     },
     "user_tz": -300
    },
    "id": "0-2Y5fQ-tCl4",
    "outputId": "ba491556-d4db-4430-8710-1fe950389236"
   },
   "outputs": [],
   "source": [
    "print(\"observation shape:\", observation_space_llm.shape)"
   ]
  },
  {
   "cell_type": "code",
   "execution_count": null,
   "metadata": {
    "colab": {
     "base_uri": "https://localhost:8080/"
    },
    "executionInfo": {
     "elapsed": 61,
     "status": "ok",
     "timestamp": 1744649233429,
     "user": {
      "displayName": "Huma Ameer",
      "userId": "09038294176164290895"
     },
     "user_tz": -300
    },
    "id": "-vl4YYPdtE03",
    "outputId": "d5526110-4b84-4ab0-a503-6a1dba3300c7"
   },
   "outputs": [],
   "source": [
    "print(\"action shape:\", action_space_llm.shape)"
   ]
  },
  {
   "cell_type": "code",
   "execution_count": null,
   "metadata": {
    "id": "gVVBKedztGeG"
   },
   "outputs": [],
   "source": [
    "\n",
    "import numpy as np\n",
    "import scipy.signal\n",
    "from gymnasium.spaces import Box, Discrete\n",
    "\n",
    "import torch\n",
    "import torch.nn as nn\n",
    "from torch.distributions.normal import Normal\n",
    "from torch.distributions.categorical import Categorical\n",
    "\n",
    "\n",
    "def combined_shape(length, shape=None):\n",
    "    if shape is None:\n",
    "        return (length,)\n",
    "    return (length, shape) if np.isscalar(shape) else (length, *shape)\n",
    "\n",
    "\n",
    "def mlp(sizes, activation, output_activation=nn.Identity):\n",
    "    layers = []\n",
    "    for j in range(len(sizes)-1):\n",
    "        act = activation if j < len(sizes)-2 else output_activation\n",
    "        layers += [nn.Linear(sizes[j], sizes[j+1]), act()]\n",
    "    return nn.Sequential(*layers)\n",
    "\n",
    "\n",
    "def count_vars(module):\n",
    "    return sum([np.prod(p.shape) for p in module.parameters()])\n",
    "\n",
    "\n",
    "def discount_cumsum(x, discount):\n",
    "    \"\"\"\n",
    "    magic from rllab for computing discounted cumulative sums of vectors.\n",
    "\n",
    "    input:\n",
    "        vector x,\n",
    "        [x0,\n",
    "         x1,\n",
    "         x2]\n",
    "\n",
    "    output:\n",
    "        [x0 + discount * x1 + discount^2 * x2,\n",
    "         x1 + discount * x2,\n",
    "         x2]\n",
    "    \"\"\"\n",
    "    return scipy.signal.lfilter([1], [1, float(-discount)], x[::-1], axis=0)[::-1]\n",
    "\n",
    "\n",
    "class Actor(nn.Module):\n",
    "\n",
    "    def _distribution(self, obs):\n",
    "        raise NotImplementedError\n",
    "\n",
    "    def _log_prob_from_distribution(self, pi, act):\n",
    "        raise NotImplementedError\n",
    "\n",
    "    def forward(self, obs, act=None):\n",
    "        # Produce action distributions for given observations, and\n",
    "        # optionally compute the log likelihood of given actions under\n",
    "        # those distributions.\n",
    "        pi = self._distribution(obs)\n",
    "        logp_a = None\n",
    "        if act is not None:\n",
    "            logp_a = self._log_prob_from_distribution(pi, act)\n",
    "        return pi, logp_a\n",
    "\n",
    "\n",
    "class MLPCategoricalActor(Actor):\n",
    "\n",
    "    def __init__(self, obs_dim, act_dim, hidden_sizes, activation):\n",
    "        super().__init__()\n",
    "        self.logits_net = mlp([obs_dim] + list(hidden_sizes) + [act_dim], activation)\n",
    "\n",
    "    def _distribution(self, obs):\n",
    "        logits = self.logits_net(obs)\n",
    "        return Categorical(logits=logits)\n",
    "\n",
    "    def _log_prob_from_distribution(self, pi, act):\n",
    "        return pi.log_prob(act)\n",
    "\n",
    "\n",
    "class MLPGaussianActor(Actor):\n",
    "\n",
    "    def __init__(self, obs_dim, act_dim, hidden_sizes, activation):\n",
    "        super().__init__()\n",
    "        log_std = -0.5 * np.ones(act_dim, dtype=np.float32)\n",
    "        self.log_std = torch.nn.Parameter(torch.as_tensor(log_std))\n",
    "        self.mu_net = mlp([obs_dim] + list(hidden_sizes) + [act_dim], activation)\n",
    "\n",
    "    def _distribution(self, obs):\n",
    "        mu = self.mu_net(obs)\n",
    "        std = torch.exp(self.log_std)\n",
    "        return Normal(mu, std)\n",
    "\n",
    "    def _log_prob_from_distribution(self, pi, act):\n",
    "        return pi.log_prob(act).sum(axis=-1)    # Last axis sum needed for Torch Normal distribution\n",
    "\n",
    "\n",
    "class MLPCritic(nn.Module):\n",
    "\n",
    "    def __init__(self, obs_dim, hidden_sizes, activation):\n",
    "        super().__init__()\n",
    "        self.v_net = mlp([obs_dim] + list(hidden_sizes) + [1], activation)\n",
    "\n",
    "    def forward(self, obs):\n",
    "        return torch.squeeze(self.v_net(obs), -1) # Critical to ensure v has right shape.\n",
    "\n",
    "\n",
    "\n",
    "class MLPActorCritic(nn.Module):\n",
    "    def __init__(self, observation_space, action_space,\n",
    "                 hidden_sizes=(64, 64), activation=nn.Tanh):\n",
    "        super().__init__()\n",
    "\n",
    "        obs_dim = observation_space.shape[0]\n",
    "\n",
    "        # policy builder depends on action space\n",
    "        if isinstance(action_space, Box):\n",
    "            self.pi = MLPGaussianActor(obs_dim, action_space.shape[0], hidden_sizes, activation)\n",
    "        elif isinstance(action_space, Discrete):\n",
    "            self.pi = MLPCategoricalActor(obs_dim, action_space.n, hidden_sizes, activation)\n",
    "\n",
    "        # build value function\n",
    "        self.v = MLPCritic(obs_dim, hidden_sizes, activation)\n",
    "\n",
    "    def step(self, obs):\n",
    "        with torch.no_grad():\n",
    "            pi = self.pi._distribution(obs)\n",
    "            a = pi.sample()\n",
    "            logp_a = self.pi._log_prob_from_distribution(pi, a)\n",
    "            v = self.v(obs)\n",
    "        return a.numpy(), v.numpy(), logp_a.numpy()\n",
    "\n",
    "    def act(self, obs):\n",
    "        return self.step(obs)[0]"
   ]
  },
  {
   "cell_type": "code",
   "execution_count": null,
   "metadata": {
    "colab": {
     "base_uri": "https://localhost:8080/"
    },
    "executionInfo": {
     "elapsed": 150,
     "status": "ok",
     "timestamp": 1744649241126,
     "user": {
      "displayName": "Huma Ameer",
      "userId": "09038294176164290895"
     },
     "user_tz": -300
    },
    "id": "PPwerTR0tIwP",
    "outputId": "6cf27fb7-e9d0-478c-9ffd-abc25ec8758e"
   },
   "outputs": [],
   "source": [
    "!dir"
   ]
  },
  {
   "cell_type": "markdown",
   "metadata": {
    "id": "DwASPQydtXTQ"
   },
   "source": [
    "finRL_working_subset_train_ppo_llm_50_epochs_8k_steps_"
   ]
  },
  {
   "cell_type": "code",
   "execution_count": null,
   "metadata": {
    "colab": {
     "base_uri": "https://localhost:8080/"
    },
    "executionInfo": {
     "elapsed": 854,
     "status": "ok",
     "timestamp": 1744649249496,
     "user": {
      "displayName": "Huma Ameer",
      "userId": "09038294176164290895"
     },
     "user_tz": -300
    },
    "id": "GSZyOGCKtLEM",
    "outputId": "f351ac15-b100-47d6-b14f-f89632adf2ae"
   },
   "outputs": [],
   "source": [
    "# Load the model\n",
    "loaded_ppo_llm = MLPActorCritic(observation_space_llm,action_space_llm, hidden_sizes=(512, 512))\n",
    "\n",
    "loaded_ppo_llm.load_state_dict(torch.load('/content/drive/MyDrive/FinRL/finrl_ppo_models/MIST_1_ppo_deepseek_50_epochs_8k_steps_01_cpu.pth'))\n",
    "\n",
    "loaded_ppo_llm.eval()  # Set the model to evaluation mode"
   ]
  },
  {
   "cell_type": "markdown",
   "metadata": {
    "id": "lcVP4OFoteej"
   },
   "source": [
    "MIST_1_ppo_deepseek_50_epochs_8k_steps_01"
   ]
  },
  {
   "cell_type": "code",
   "execution_count": null,
   "metadata": {
    "colab": {
     "base_uri": "https://localhost:8080/"
    },
    "executionInfo": {
     "elapsed": 54,
     "status": "ok",
     "timestamp": 1744649257077,
     "user": {
      "displayName": "Huma Ameer",
      "userId": "09038294176164290895"
     },
     "user_tz": -300
    },
    "id": "Yeudla-_tQ5v",
    "outputId": "bbdc9ca1-8c19-4971-f987-b27b643ac2d6"
   },
   "outputs": [],
   "source": [
    "# Load the model\n",
    "loaded_ppo_llm_mist = MLPActorCritic(observation_space_llm,action_space_llm, hidden_sizes=(512, 512))\n",
    "\n",
    "loaded_ppo_llm_mist.load_state_dict(torch.load('/content/drive/MyDrive/FinRL/finrl_ppo_models/MIST_1_ppo_deepseek_50_epochs_8k_steps_01_cpu.pth'))\n",
    "\n",
    "\n",
    "loaded_ppo_llm_mist.eval()  # Set the model to evaluation mode"
   ]
  },
  {
   "cell_type": "code",
   "execution_count": null,
   "metadata": {
    "id": "cSjCqYVWtWJC"
   },
   "outputs": [],
   "source": [
    "\n",
    "def DRL_prediction(act, environment):\n",
    "    import torch\n",
    "    _torch = torch\n",
    "\n",
    "    state, _ = environment.reset()\n",
    "    account_memory = []  # To store portfolio values\n",
    "    actions_memory = []  # To store actions taken\n",
    "    portfolio_distribution = []  # To store portfolio distribution\n",
    "    episode_total_assets = [environment.initial_amount]\n",
    "\n",
    "    with _torch.no_grad():\n",
    "        for i in range(len(environment.df.index.unique())):\n",
    "            s_tensor = _torch.as_tensor((state,), dtype=torch.float32, device=torch.device(\"cuda\" if torch.cuda.is_available() else \"cpu\"))\n",
    "            a_tensor, _, _ = act.step(s_tensor)  # Compute action\n",
    "            action = a_tensor[0]  # Extract action\n",
    "\n",
    "            # Step through the environment\n",
    "            state, reward, done, _, _ = environment.step(action)\n",
    "\n",
    "            # Get stock prices for the current day\n",
    "            price_array = environment.df.loc[environment.day, \"close\"].values\n",
    "\n",
    "            # Stock holdings and cash balance\n",
    "            stock_holdings = environment.num_stock_shares\n",
    "            cash_balance = environment.asset_memory[-1]\n",
    "\n",
    "            # Calculate total portfolio value\n",
    "            total_asset = cash_balance + (price_array * stock_holdings).sum()\n",
    "\n",
    "            # Calculate portfolio distribution\n",
    "            stock_values = price_array * stock_holdings\n",
    "            total_invested = stock_values.sum()\n",
    "            distribution = stock_values / total_asset  # Fraction of each stock in the total portfolio\n",
    "            cash_fraction = cash_balance / total_asset\n",
    "\n",
    "            # Store results\n",
    "            episode_total_assets.append(total_asset)\n",
    "            account_memory.append(total_asset)\n",
    "            actions_memory.append(action)\n",
    "            portfolio_distribution.append({\"cash\": cash_fraction, \"stocks\": distribution.tolist()})\n",
    "\n",
    "       #     print(\"Total Asset Value:\", total_asset)\n",
    "        #    print(\"Portfolio Distribution:\", {\"cash\": cash_fraction, \"stocks\": distribution.tolist()})\n",
    "\n",
    "            if done:\n",
    "                break\n",
    "\n",
    "    print(\"Test Finished!\")\n",
    "    return episode_total_assets, account_memory, actions_memory, portfolio_distribution"
   ]
  },
  {
   "cell_type": "code",
   "execution_count": null,
   "metadata": {
    "colab": {
     "base_uri": "https://localhost:8080/"
    },
    "executionInfo": {
     "elapsed": 11280,
     "status": "ok",
     "timestamp": 1744649274201,
     "user": {
      "displayName": "Huma Ameer",
      "userId": "09038294176164290895"
     },
     "user_tz": -300
    },
    "id": "f5IRDCWftkOh",
    "outputId": "053b1b3a-15fe-41ef-f164-35cdc9e5053b"
   },
   "outputs": [],
   "source": [
    "df_assets_ppo_llm, df_account_value_ppo_llm, df_actions_ppo_llm, df_portfolio_distribution_ppo_llm = DRL_prediction(act=loaded_ppo_llm, environment=e_trade_llm_gym)"
   ]
  },
  {
   "cell_type": "markdown",
   "metadata": {
    "id": "hnrIWUt0u38E"
   },
   "source": [
    "# Part 4: NASDAQ 100 index"
   ]
  },
  {
   "cell_type": "code",
   "execution_count": null,
   "metadata": {
    "id": "B1Z1KTrPtnZR"
   },
   "outputs": [],
   "source": [
    "TRAIN_START_DATE = '2013-01-01'\n",
    "TRAIN_END_DATE = '2018-12-31'\n",
    "TRADE_START_DATE = '2019-01-01'\n",
    "TRADE_END_DATE = '2023-12-31'"
   ]
  },
  {
   "cell_type": "code",
   "execution_count": null,
   "metadata": {
    "colab": {
     "base_uri": "https://localhost:8080/"
    },
    "executionInfo": {
     "elapsed": 328,
     "status": "ok",
     "timestamp": 1744649278503,
     "user": {
      "displayName": "Huma Ameer",
      "userId": "09038294176164290895"
     },
     "user_tz": -300
    },
    "id": "-icpemtxu6x8",
    "outputId": "ba12493d-f547-4b0d-bf4c-c1f179adbc8c"
   },
   "outputs": [],
   "source": [
    "df_dji = YahooDownloader(\n",
    "    start_date=TRADE_START_DATE, end_date=TRADE_END_DATE, ticker_list=[\"ndx\"]\n",
    ").fetch_data()"
   ]
  },
  {
   "cell_type": "code",
   "execution_count": null,
   "metadata": {
    "colab": {
     "base_uri": "https://localhost:8080/"
    },
    "executionInfo": {
     "elapsed": 32,
     "status": "ok",
     "timestamp": 1744649279795,
     "user": {
      "displayName": "Huma Ameer",
      "userId": "09038294176164290895"
     },
     "user_tz": -300
    },
    "id": "j1XafMTswP6K",
    "outputId": "9c018824-eef1-4a12-a614-d685f2250ce5"
   },
   "outputs": [],
   "source": [
    "len(df_dji)"
   ]
  },
  {
   "cell_type": "code",
   "execution_count": null,
   "metadata": {
    "colab": {
     "base_uri": "https://localhost:8080/",
     "height": 1000
    },
    "executionInfo": {
     "elapsed": 52,
     "status": "ok",
     "timestamp": 1744649280551,
     "user": {
      "displayName": "Huma Ameer",
      "userId": "09038294176164290895"
     },
     "user_tz": -300
    },
    "id": "UlbIC8_iwRyw",
    "outputId": "63877a4d-4529-45d7-dae3-5275cb1fd22b"
   },
   "outputs": [],
   "source": [
    "df_dji[:50]"
   ]
  },
  {
   "cell_type": "code",
   "execution_count": null,
   "metadata": {
    "id": "OUlAHJRcwTlv"
   },
   "outputs": [],
   "source": [
    "df_dji = df_dji[[\"date\", \"close\"]]\n",
    "fst_day = df_dji[\"close\"][0]\n",
    "dji = pd.merge(\n",
    "    df_dji[\"date\"],\n",
    "    df_dji[\"close\"].div(fst_day).mul(1000000),\n",
    "    how=\"outer\",\n",
    "    left_index=True,\n",
    "    right_index=True,\n",
    ").set_index(\"date\")"
   ]
  },
  {
   "cell_type": "code",
   "execution_count": null,
   "metadata": {
    "colab": {
     "base_uri": "https://localhost:8080/",
     "height": 237
    },
    "executionInfo": {
     "elapsed": 62,
     "status": "ok",
     "timestamp": 1744649282311,
     "user": {
      "displayName": "Huma Ameer",
      "userId": "09038294176164290895"
     },
     "user_tz": -300
    },
    "id": "f7f_RzAIwtQO",
    "outputId": "13b3ed76-a608-4699-a3fc-8842eeb3c6ad"
   },
   "outputs": [],
   "source": [
    "dji.head(5)"
   ]
  },
  {
   "cell_type": "code",
   "execution_count": null,
   "metadata": {
    "id": "pOhmETggw1bJ"
   },
   "outputs": [],
   "source": [
    "fst_day = df_dji[\"close\"].iloc[0]  # Safely get the first value\n",
    "df_dji_normalized_close = list(df_dji[\"close\"].div(fst_day).mul(1000000))"
   ]
  },
  {
   "cell_type": "code",
   "execution_count": null,
   "metadata": {
    "colab": {
     "base_uri": "https://localhost:8080/"
    },
    "executionInfo": {
     "elapsed": 63,
     "status": "ok",
     "timestamp": 1744649285874,
     "user": {
      "displayName": "Huma Ameer",
      "userId": "09038294176164290895"
     },
     "user_tz": -300
    },
    "id": "cEwJ-Z_XxGTA",
    "outputId": "550b330c-84c1-462e-c35c-c781b1581e69"
   },
   "outputs": [],
   "source": [
    "#df_dji_normalized_close[0]\n",
    "len(df_dji_normalized_close),"
   ]
  },
  {
   "cell_type": "markdown",
   "metadata": {
    "id": "IoVR6xeMxg_X"
   },
   "source": [
    "<a id='4'></a>\n",
    "# Part 5: Backtesting Results\n",
    "Backtesting plays a key role in evaluating the performance of a trading strategy. Automated backtesting tool is preferred because it reduces the human error. We usually use the Quantopian pyfolio package to backtest our trading strategies. It is easy to use and consists of various individual plots that provide a comprehensive image of the performance of a trading strategy."
   ]
  },
  {
   "cell_type": "code",
   "execution_count": null,
   "metadata": {
    "id": "bhpfpdd-xM4E"
   },
   "outputs": [],
   "source": [
    "fst_day_ppo_llm = df_assets_ppo_llm[1]  # Safely get the first value\n",
    "df_assets_ppo_llm_series = pd.Series(df_assets_ppo_llm[1:])\n",
    "df_ppo_llm_normalized_close = list(df_assets_ppo_llm_series.div(fst_day_ppo_llm).mul(1000000))"
   ]
  },
  {
   "cell_type": "code",
   "execution_count": null,
   "metadata": {
    "colab": {
     "base_uri": "https://localhost:8080/"
    },
    "executionInfo": {
     "elapsed": 37,
     "status": "ok",
     "timestamp": 1744649288581,
     "user": {
      "displayName": "Huma Ameer",
      "userId": "09038294176164290895"
     },
     "user_tz": -300
    },
    "id": "fi6Y8uXNx92-",
    "outputId": "2a7a8a98-146b-4e01-859e-9713abd5497c"
   },
   "outputs": [],
   "source": [
    "len(trade['date'].drop_duplicates().values)"
   ]
  },
  {
   "cell_type": "code",
   "execution_count": null,
   "metadata": {
    "id": "brYI6oCJyEHE"
   },
   "outputs": [],
   "source": [
    "def filter_to_common_dates(trade, df_dji, df_assets_ppo, df_dji_normalized_close):\n",
    "    \"\"\"\n",
    "    Filters df_assets_ppo and df_dji_normalized_close based on the common dates from trade and df_dji.\n",
    "\n",
    "    Parameters:\n",
    "        trade (pd.DataFrame): DataFrame containing a 'date' column for the trade data.\n",
    "        df_dji (pd.DataFrame): DataFrame containing a 'date' column for DJI data.\n",
    "        df_assets_ppo (list or array-like): Values corresponding to trade['date'].\n",
    "        df_dji_normalized_close (list or array-like): Values corresponding to df_dji['date'].\n",
    "\n",
    "    Returns:\n",
    "        pd.Series, pd.Series: Filtered series for df_assets_ppo and df_dji_normalized_close.\n",
    "    \"\"\"\n",
    "    # Extract unique trading dates from trade and DJI dates\n",
    "    trade_dates = pd.to_datetime(trade['date'].unique())\n",
    "    dji_dates = pd.to_datetime(df_dji['date'].unique())\n",
    "\n",
    "\n",
    "  #  first_date = trade_dates[0]\n",
    "   # date_before_first = first_date - pd.DateOffset(days=1)\n",
    "\n",
    "# Prepend the date before the first date to trade_dates\n",
    "    #trade_dates = pd.DatetimeIndex([date_before_first] + trade_dates.tolist())\n",
    "\n",
    "    # Convert inputs to pandas Series with their respective dates as indices\n",
    "    df_assets_ppo_series = pd.Series(df_assets_ppo, index=trade_dates)\n",
    "    df_dji_normalized_close_series = pd.Series(df_dji_normalized_close, index=dji_dates)\n",
    "\n",
    "    # Find the common dates\n",
    "    common_dates = trade_dates.intersection(dji_dates)\n",
    "\n",
    "    # Filter both series to the common dates\n",
    "    df_assets_ppo_filtered = df_assets_ppo_series.reindex(common_dates)\n",
    "    df_dji_normalized_close_filtered = df_dji_normalized_close_series.reindex(common_dates)\n",
    "\n",
    "    # Return the filtered series\n",
    "    return df_assets_ppo_filtered, df_dji_normalized_close_filtered, common_dates"
   ]
  },
  {
   "cell_type": "code",
   "execution_count": null,
   "metadata": {
    "id": "lSEvRpDtyP1D"
   },
   "outputs": [],
   "source": [
    "df_assets_ppo_llm_filtered, df_dji_normalized_close_filtered, common_dates = filter_to_common_dates(trade, df_dji, df_ppo_llm_normalized_close, df_dji_normalized_close)"
   ]
  },
  {
   "cell_type": "code",
   "execution_count": null,
   "metadata": {
    "colab": {
     "base_uri": "https://localhost:8080/"
    },
    "executionInfo": {
     "elapsed": 54,
     "status": "ok",
     "timestamp": 1744649291597,
     "user": {
      "displayName": "Huma Ameer",
      "userId": "09038294176164290895"
     },
     "user_tz": -300
    },
    "id": "CHEDPGrkyTl1",
    "outputId": "c64fb2f0-b1f6-4750-c06d-22756d9a3b73"
   },
   "outputs": [],
   "source": [
    "df_dji_normalized_close_filtered[1]"
   ]
  },
  {
   "cell_type": "code",
   "execution_count": null,
   "metadata": {
    "colab": {
     "base_uri": "https://localhost:8080/"
    },
    "executionInfo": {
     "elapsed": 53,
     "status": "ok",
     "timestamp": 1744649292762,
     "user": {
      "displayName": "Huma Ameer",
      "userId": "09038294176164290895"
     },
     "user_tz": -300
    },
    "id": "cgmAJMoTyWl9",
    "outputId": "44167155-9313-4c3a-8a13-969d4e57235d"
   },
   "outputs": [],
   "source": [
    "result = pd.DataFrame(\n",
    "    {\n",
    "        \"PPO-DeepSeek 50 epochs\": df_assets_ppo_llm_filtered,\n",
    "      #  \"PPO-DeepSeek_MIST-1 epochs\": df_assets_ppo_llama_filtered,\n",
    "        \"Nasdaq-100 index\": df_dji_normalized_close_filtered,\n",
    "    }\n",
    ")\n",
    "\n",
    "# Display the result\n",
    "print(result)"
   ]
  },
  {
   "cell_type": "code",
   "execution_count": null,
   "metadata": {
    "colab": {
     "base_uri": "https://localhost:8080/",
     "height": 423
    },
    "executionInfo": {
     "elapsed": 59,
     "status": "ok",
     "timestamp": 1744649318555,
     "user": {
      "displayName": "Huma Ameer",
      "userId": "09038294176164290895"
     },
     "user_tz": -300
    },
    "id": "-CYUc9r6Fuo-",
    "outputId": "02ef3e86-6632-4ff6-adb0-e9a450b24f69"
   },
   "outputs": [],
   "source": [
    "result"
   ]
  },
  {
   "cell_type": "code",
   "execution_count": null,
   "metadata": {
    "id": "V3-IhrqfFdCL"
   },
   "outputs": [],
   "source": [
    "result.to_csv('/content/ppo_deepseek_output_vs_nasdaq_100_index.csv')"
   ]
  },
  {
   "cell_type": "code",
   "execution_count": null,
   "metadata": {
    "id": "o5jQ93dFy1D-"
   },
   "outputs": [],
   "source": [
    "\n",
    "import numpy as np\n",
    "import pandas as pd\n",
    "import matplotlib.pyplot as plt\n",
    "%matplotlib inline\n",
    "\n",
    "# Utility Functions\n",
    "def calculate_metric(returns_strategy, returns_benchmark, confidence_level=0.05, upside_confidence=0.95):\n",
    "    \"\"\"Calculate performance metrics: IR, CVaR, and Rachev Ratio.\"\"\"\n",
    "    excess_return = returns_strategy - returns_benchmark\n",
    "    ir = excess_return.mean() / excess_return.std()\n",
    "    var = np.percentile(returns_strategy, confidence_level * 100)\n",
    "    cvar = returns_strategy[returns_strategy <= var].mean()\n",
    "    upside_var = np.percentile(returns_strategy, upside_confidence * 100)\n",
    "    downside_var = var\n",
    "    rachev_ratio = returns_strategy[returns_strategy >= upside_var].mean() / abs(returns_strategy[returns_strategy <= downside_var].mean())\n",
    "    return {\"Information Ratio\": ir, \"CVaR\": cvar, \"Rachev Ratio\": rachev_ratio}\n",
    "\n",
    "def align_returns(result, col_strategy, col_benchmark):\n",
    "    \"\"\"Align returns for strategy and benchmark.\"\"\"\n",
    "    returns_strategy = result[col_strategy].pct_change().dropna()\n",
    "    returns_benchmark = result[col_benchmark].pct_change().dropna()\n",
    "    return returns_strategy.align(returns_benchmark, join=\"inner\")\n",
    "\n",
    "# Metrics Calculation\n",
    "def compute_metrics(result, strategies, benchmark, confidence_level=0.05, upside_confidence=0.95):\n",
    "    \"\"\"\n",
    "    Compute metrics for multiple strategies compared to a benchmark.\n",
    "\n",
    "    Parameters:\n",
    "        result (pd.DataFrame): DataFrame with strategies and benchmark columns.\n",
    "        strategies (list): List of strategy column names.\n",
    "        benchmark (str): Benchmark column name.\n",
    "        confidence_level (float): Confidence level for CVaR calculation.\n",
    "        upside_confidence (float): Confidence level for upside in Rachev Ratio.\n",
    "\n",
    "    Returns:\n",
    "        dict: Performance metrics for each strategy.\n",
    "    \"\"\"\n",
    "    metrics = {}\n",
    "    for strategy in strategies:\n",
    "        aligned_strategy, aligned_benchmark = align_returns(result, strategy, benchmark)\n",
    "        metrics[strategy] = calculate_metric(\n",
    "            aligned_strategy, aligned_benchmark, confidence_level, upside_confidence\n",
    "        )\n",
    "    return metrics\n",
    "\n",
    "# Plotting\n",
    "def plot_cumulative_returns(result, metrics, strategies, benchmark):\n",
    "    \"\"\"\n",
    "    Plot cumulative returns for strategies and benchmark with annotated metrics.\n",
    "\n",
    "    Parameters:\n",
    "        result (pd.DataFrame): DataFrame with strategies and benchmark.\n",
    "        metrics (dict): Performance metrics.\n",
    "        strategies (list): List of strategy column names.\n",
    "        benchmark (str): Benchmark column name.\n",
    "    \"\"\"\n",
    "    plt.figure(figsize=(12, 6))\n",
    "    for strategy in strategies:\n",
    "        cumulative_returns = (1 + result[strategy].pct_change().dropna()).cumprod()\n",
    "        plt.plot(cumulative_returns, label=f\"{strategy}\")\n",
    "    cumulative_benchmark = (1 + result[benchmark].pct_change().dropna()).cumprod()\n",
    "    plt.plot(cumulative_benchmark, label=f\"{benchmark} (Benchmark)\")\n",
    "    plt.title(\"Cumulative Returns with Performance Metrics\")\n",
    "    plt.legend()\n",
    "    plt.xlabel(\"Date\")\n",
    "    plt.ylabel(\"Cumulative Return\")\n",
    "    plt.grid()\n",
    "    plt.show()"
   ]
  },
  {
   "cell_type": "code",
   "execution_count": null,
   "metadata": {
    "colab": {
     "base_uri": "https://localhost:8080/",
     "height": 637
    },
    "executionInfo": {
     "elapsed": 716,
     "status": "ok",
     "timestamp": 1744649322356,
     "user": {
      "displayName": "Huma Ameer",
      "userId": "09038294176164290895"
     },
     "user_tz": -300
    },
    "id": "3BZaVKsaz_GG",
    "outputId": "18c70a16-e74a-46db-c234-e2b0348c9a3e"
   },
   "outputs": [],
   "source": [
    "import numpy as np\n",
    "import pandas as pd\n",
    "import matplotlib.pyplot as plt\n",
    "%matplotlib inline\n",
    "\n",
    "# Utility Functions\n",
    "def calculate_metric(returns_strategy, returns_benchmark, confidence_level=0.05, upside_confidence=0.95):\n",
    "    \"\"\"Calculate performance metrics: IR, CVaR, and Rachev Ratio.\"\"\"\n",
    "    excess_return = returns_strategy - returns_benchmark\n",
    "    ir = excess_return.mean() / excess_return.std()\n",
    "    var = np.percentile(returns_strategy, confidence_level * 100)\n",
    "    cvar = returns_strategy[returns_strategy <= var].mean()\n",
    "    upside_var = np.percentile(returns_strategy, upside_confidence * 100)\n",
    "    downside_var = var\n",
    "    rachev_ratio = returns_strategy[returns_strategy >= upside_var].mean() / abs(returns_strategy[returns_strategy <= downside_var].mean())\n",
    "    return {\"Information Ratio\": ir, \"CVaR\": cvar, \"Rachev Ratio\": rachev_ratio}\n",
    "\n",
    "def align_returns(result, col_strategy, col_benchmark):\n",
    "    \"\"\"Align returns for strategy and benchmark.\"\"\"\n",
    "    returns_strategy = result[col_strategy].pct_change().dropna()\n",
    "    returns_benchmark = result[col_benchmark].pct_change().dropna()\n",
    "    return returns_strategy.align(returns_benchmark, join=\"inner\")\n",
    "\n",
    "# Metrics Calculation\n",
    "def compute_metrics(result, strategies, benchmark, confidence_level=0.05, upside_confidence=0.95):\n",
    "    \"\"\"\n",
    "    Compute metrics for multiple strategies compared to a benchmark.\n",
    "\n",
    "    Parameters:\n",
    "        result (pd.DataFrame): DataFrame with strategies and benchmark columns.\n",
    "        strategies (list): List of strategy column names.\n",
    "        benchmark (str): Benchmark column name.\n",
    "        confidence_level (float): Confidence level for CVaR calculation.\n",
    "        upside_confidence (float): Confidence level for upside in Rachev Ratio.\n",
    "\n",
    "    Returns:\n",
    "        dict: Performance metrics for each strategy.\n",
    "    \"\"\"\n",
    "    metrics = {}\n",
    "    for strategy in strategies:\n",
    "        aligned_strategy, aligned_benchmark = align_returns(result, strategy, benchmark)\n",
    "        metrics[strategy] = calculate_metric(\n",
    "            aligned_strategy, aligned_benchmark, confidence_level, upside_confidence\n",
    "        )\n",
    "    return metrics\n",
    "\n",
    "# Plotting\n",
    "def plot_cumulative_returns(result, metrics, strategies, benchmark):\n",
    "    \"\"\"\n",
    "    Plot cumulative returns for strategies and benchmark with annotated metrics.\n",
    "\n",
    "    Parameters:\n",
    "        result (pd.DataFrame): DataFrame with strategies and benchmark.\n",
    "        metrics (dict): Performance metrics.\n",
    "        strategies (list): List of strategy column names.\n",
    "        benchmark (str): Benchmark column name.\n",
    "    \"\"\"\n",
    "    plt.figure(figsize=(12, 6))\n",
    "    for strategy in strategies:\n",
    "        cumulative_returns = (1 + result[strategy].pct_change().dropna()).cumprod()\n",
    "        plt.plot(cumulative_returns, label=f\"{strategy}\")\n",
    "    cumulative_benchmark = (1 + result[benchmark].pct_change().dropna()).cumprod()\n",
    "    plt.plot(cumulative_benchmark, label=f\"{benchmark} (Benchmark)\")\n",
    "    plt.title(\"Cumulative Returns with Performance Metrics\")\n",
    "    plt.legend()\n",
    "    plt.xlabel(\"Date\")\n",
    "    plt.ylabel(\"Cumulative Return\")\n",
    "    plt.grid()\n",
    "    plt.show()\n",
    "\n",
    "# Example Usage\n",
    "# Assuming `result` DataFrame is prepared with \"PPO 25 epochs\", \"CPPO 25 epochs\", and \"Nasdaq-100 index\"\n",
    "strategies = [\n",
    "\n",
    "\"PPO-DeepSeek 50 epochs\",\n",
    "\n",
    "]\n",
    "#strategies = [\"PPO 20 epochs\", \"CPPO 20 epochs\", \"CPPO-DeepSeek 20 epochs\"]\n",
    "benchmark = \"Nasdaq-100 index\"\n",
    "metrics = compute_metrics(result, strategies, benchmark)\n",
    "plot_cumulative_returns(result, metrics, strategies, benchmark)\n",
    "\n",
    "# Print metrics\n",
    "for strategy, strategy_metrics in metrics.items():\n",
    "    print(f\"{strategy} Metrics:\")\n",
    "    for metric_name, value in strategy_metrics.items():\n",
    "        print(f\"  {metric_name}: {value:.4f}\")"
   ]
  },
  {
   "cell_type": "code",
   "execution_count": null,
   "metadata": {
    "colab": {
     "base_uri": "https://localhost:8080/",
     "height": 637
    },
    "executionInfo": {
     "elapsed": 765,
     "status": "ok",
     "timestamp": 1744649326508,
     "user": {
      "displayName": "Huma Ameer",
      "userId": "09038294176164290895"
     },
     "user_tz": -300
    },
    "id": "6E_rQAPx0ad9",
    "outputId": "8274d03e-cff3-4194-efb9-527ed5bc7455"
   },
   "outputs": [],
   "source": [
    "import numpy as np\n",
    "import pandas as pd\n",
    "import matplotlib.pyplot as plt\n",
    "%matplotlib inline\n",
    "\n",
    "def calculate_information_ratio(returns_strategy, returns_benchmark):\n",
    "    \"\"\"Calculate the Information Ratio (IR).\"\"\"\n",
    "    excess_return = returns_strategy - returns_benchmark\n",
    "    return excess_return.mean() / excess_return.std()\n",
    "\n",
    "def calculate_cvar(returns_strategy, confidence_level=0.05):\n",
    "    \"\"\"Calculate the Conditional Value at Risk (CVaR).\"\"\"\n",
    "    var = np.percentile(returns_strategy, confidence_level * 100)\n",
    "    return returns_strategy[returns_strategy <= var].mean()\n",
    "\n",
    "def calculate_rachev_ratio(returns_strategy, upside_confidence=0.95, downside_confidence=0.05):\n",
    "    \"\"\"Calculate the Rachev Ratio.\"\"\"\n",
    "    upside_var = np.percentile(returns_strategy, upside_confidence * 100)\n",
    "    downside_var = np.percentile(returns_strategy, downside_confidence * 100)\n",
    "    upside_mean = returns_strategy[returns_strategy >= upside_var].mean()\n",
    "    downside_mean = abs(returns_strategy[returns_strategy <= downside_var].mean())\n",
    "    return upside_mean / downside_mean\n",
    "\n",
    "def align_and_compute_metrics(result, confidence_level=0.05, upside_confidence=0.95):\n",
    "    \"\"\"\n",
    "    Align data for PPO, CPPO, and benchmark, and compute performance metrics.\n",
    "\n",
    "    Parameters:\n",
    "        result (pd.DataFrame): DataFrame with strategies and benchmark.\n",
    "        confidence_level (float): Confidence level for CVaR calculation.\n",
    "        upside_confidence (float): Confidence level for upside in Rachev Ratio.\n",
    "\n",
    "    Returns:\n",
    "        dict: Performance metrics for PPO and CPPO.\n",
    "    \"\"\"\n",
    "    # Calculate returns\n",
    "    returns_ppo = result[\"PPO-DeepSeek 50 epochs\"].pct_change().dropna()\n",
    "   # returns_cppo = result[\"CPPO 100 epochs\"].pct_change().dropna()\n",
    "    returns_benchmark = result[\"Nasdaq-100 index\"].pct_change().dropna()\n",
    "\n",
    "    # Align returns\n",
    "    returns_ppo, returns_benchmark_ppo = returns_ppo.align(returns_benchmark, join=\"inner\")\n",
    "\n",
    "\n",
    "    # Compute metrics\n",
    "    metrics = {\n",
    "        \"PPO\": {\n",
    "            \"Information Ratio\": calculate_information_ratio(returns_ppo, returns_benchmark_ppo),\n",
    "            \"CVaR\": calculate_cvar(returns_ppo, confidence_level),\n",
    "            \"Rachev Ratio\": calculate_rachev_ratio(returns_ppo, upside_confidence, confidence_level),\n",
    "        }\n",
    "    }\n",
    "    return metrics\n",
    "\n",
    "def plot_cumulative_returns(result, metrics):\n",
    "    \"\"\"\n",
    "    Plot cumulative returns for PPO, CPPO, and benchmark with annotated metrics.\n",
    "\n",
    "    Parameters:\n",
    "        result (pd.DataFrame): DataFrame with strategies and benchmark.\n",
    "        metrics (dict): Performance metrics.\n",
    "    \"\"\"\n",
    "    # Calculate cumulative returns\n",
    "    cumulative_ppo = (1 + result[\"PPO-DeepSeek 50 epochs\"].pct_change().dropna()).cumprod()\n",
    "\n",
    "    cumulative_benchmark = (1 + result[\"Nasdaq-100 index\"].pct_change().dropna()).cumprod()\n",
    "\n",
    "    # Plot\n",
    "    plt.figure(figsize=(12, 6))\n",
    "    plt.plot(cumulative_ppo, label=f\"PPO 50 epochs (IR={metrics['PPO']['Information Ratio']:.4f})\")\n",
    "\n",
    "    plt.plot(cumulative_benchmark, label=\"Nasdaq-100 index (Benchmark)\")\n",
    "    plt.title(\"Cumulative Returns with Performance Metrics\")\n",
    "    plt.legend()\n",
    "    plt.xlabel(\"Date\")\n",
    "    plt.ylabel(\"Cumulative Return\")\n",
    "    plt.grid()\n",
    "    plt.show()\n",
    "\n",
    "# Example Usage\n",
    "# Assuming `result` DataFrame is prepared with \"PPO 25 epochs\", \"CPPO 25 epochs\", and \"Nasdaq-100 index\"\n",
    "metrics = align_and_compute_metrics(result)\n",
    "plot_cumulative_returns(result, metrics)\n",
    "\n",
    "# Print metrics\n",
    "for strategy, strategy_metrics in metrics.items():\n",
    "    print(f\"{strategy} Metrics:\")\n",
    "    for metric_name, value in strategy_metrics.items():\n",
    "        print(f\"  {metric_name}: {value:.4f}\")"
   ]
  },
  {
   "cell_type": "code",
   "execution_count": null,
   "metadata": {
    "colab": {
     "base_uri": "https://localhost:8080/"
    },
    "executionInfo": {
     "elapsed": 50,
     "status": "ok",
     "timestamp": 1744649327922,
     "user": {
      "displayName": "Huma Ameer",
      "userId": "09038294176164290895"
     },
     "user_tz": -300
    },
    "id": "vwbB-nssAeLE",
    "outputId": "1b7a16fc-e45b-4f75-b1f4-4d2e2798392d"
   },
   "outputs": [],
   "source": [
    "print(df_dji.columns)"
   ]
  },
  {
   "cell_type": "code",
   "execution_count": null,
   "metadata": {
    "colab": {
     "base_uri": "https://localhost:8080/",
     "height": 537
    },
    "executionInfo": {
     "elapsed": 467,
     "status": "ok",
     "timestamp": 1744649329663,
     "user": {
      "displayName": "Huma Ameer",
      "userId": "09038294176164290895"
     },
     "user_tz": -300
    },
    "id": "UsQRApd6Al_H",
    "outputId": "5c660ddf-ad9b-49f9-817b-a8398a67c1ca"
   },
   "outputs": [],
   "source": [
    "# Step 1: Get unique trading dates from your trade data\n",
    "trade_dates = pd.to_datetime(trade['date'].unique())\n",
    "first_date = trade_dates[0]\n",
    "date_before_first = first_date - pd.DateOffset(days=1)\n",
    "trade_dates = pd.DatetimeIndex([date_before_first] + trade_dates.tolist())\n",
    "\n",
    "# Step 2: Reindex your strategy results to match the extended trading dates\n",
    "df_assets_ppo_series = pd.Series(df_assets_ppo_llm_filtered, index=trade_dates)\n",
    "\n",
    "# Step 3: Fix df_dji columns – remove column name and normalize\n",
    "df_dji.columns.name = None  # Remove 'Price' header name\n",
    "df_dji['date'] = pd.to_datetime(df_dji['date'])\n",
    "df_dji = df_dji.set_index('date')\n",
    "df_dji['normalized_close'] = df_dji['close'] / df_dji['close'].iloc[0]\n",
    "\n",
    "# Step 4: Align both series using common dates\n",
    "common_dates = trade_dates.intersection(df_dji.index)\n",
    "df_assets_ppo_series = df_assets_ppo_series.reindex(common_dates)\n",
    "df_dji_normalized_close_series = df_dji['normalized_close'].reindex(common_dates)\n",
    "\n",
    "# Step 5: Create result DataFrame\n",
    "result = pd.DataFrame({\n",
    "    \"PPO 50 epochs\": df_assets_ppo_series,\n",
    "    \"Nasdaq-100 index\": df_dji_normalized_close_series,\n",
    "})\n",
    "\n",
    "# Optional: Plot the comparison\n",
    "result.plot(title=\"Strategy vs Nasdaq-100\", figsize=(12, 6))\n",
    "plt.xlabel(\"Date\")\n",
    "plt.ylabel(\"Normalized Value\")\n",
    "plt.grid(True)\n",
    "plt.show()"
   ]
  },
  {
   "cell_type": "code",
   "execution_count": null,
   "metadata": {
    "colab": {
     "base_uri": "https://localhost:8080/",
     "height": 564
    },
    "executionInfo": {
     "elapsed": 384,
     "status": "ok",
     "timestamp": 1744649331726,
     "user": {
      "displayName": "Huma Ameer",
      "userId": "09038294176164290895"
     },
     "user_tz": -300
    },
    "id": "YzbUB8ZjDTsC",
    "outputId": "efc70e73-3399-48e0-b424-45e61e37e42f"
   },
   "outputs": [],
   "source": [
    "# prompt: plot also the sharpe ratio and sortino ratio of nasdaq and ppo\n",
    "\n",
    "import matplotlib.pyplot as plt\n",
    "import pandas as pd\n",
    "import numpy as np\n",
    "\n",
    "# Assuming 'result' DataFrame is already created as in your provided code\n",
    "\n",
    "# Calculate daily returns\n",
    "result['PPO 50 epochs_daily_return'] = result['PPO 50 epochs'].pct_change()\n",
    "result['Nasdaq-100 index_daily_return'] = result['Nasdaq-100 index'].pct_change()\n",
    "\n",
    "\n",
    "# Calculate Sharpe Ratio\n",
    "sharpe_ppo = np.sqrt(252) * (result['PPO 50 epochs_daily_return'].mean() / result['PPO 50 epochs_daily_return'].std())\n",
    "sharpe_nasdaq = np.sqrt(252) * (result['Nasdaq-100 index_daily_return'].mean() / result['Nasdaq-100 index_daily_return'].std())\n",
    "\n",
    "# Calculate Sortino Ratio (assuming a target return of 0)\n",
    "downside_returns_ppo = result['PPO 50 epochs_daily_return'].where(result['PPO 50 epochs_daily_return'] < 0, 0)\n",
    "downside_returns_nasdaq = result['Nasdaq-100 index_daily_return'].where(result['Nasdaq-100 index_daily_return'] < 0, 0)\n",
    "\n",
    "sortino_ppo = np.sqrt(252) * (result['PPO 50 epochs_daily_return'].mean() / downside_returns_ppo.std())\n",
    "sortino_nasdaq = np.sqrt(252) * (result['Nasdaq-100 index_daily_return'].mean() / downside_returns_nasdaq.std())\n",
    "\n",
    "\n",
    "#Plotting\n",
    "plt.figure(figsize=(12, 6))\n",
    "plt.plot(result.index, result['PPO 50 epochs'], label='PPO 50 epochs')\n",
    "plt.plot(result.index, result['Nasdaq-100 index'], label='Nasdaq-100 index')\n",
    "plt.title('Portfolio Value Comparison')\n",
    "plt.xlabel('Date')\n",
    "plt.ylabel('Portfolio Value')\n",
    "plt.legend()\n",
    "plt.grid(True)\n",
    "\n",
    "\n",
    "# Move legend to upper left\n",
    "plt.legend(loc='upper left')\n",
    "\n",
    "\n",
    "plt.show()"
   ]
  },
  {
   "cell_type": "code",
   "execution_count": null,
   "metadata": {
    "colab": {
     "base_uri": "https://localhost:8080/",
     "height": 640
    },
    "executionInfo": {
     "elapsed": 407,
     "status": "ok",
     "timestamp": 1744649333253,
     "user": {
      "displayName": "Huma Ameer",
      "userId": "09038294176164290895"
     },
     "user_tz": -300
    },
    "id": "OUR0e59pD9OB",
    "outputId": "c31caff7-5c44-42de-93f0-b85d6d360dd0"
   },
   "outputs": [],
   "source": [
    "import numpy as np\n",
    "import pandas as pd\n",
    "import matplotlib.pyplot as plt\n",
    "\n",
    "# Assuming `df_assets_ppo_series` and `df_dji_normalized_close_series` are already created\n",
    "returns_strategy = df_assets_ppo_series.pct_change().dropna()\n",
    "returns_benchmark = df_dji_normalized_close_series.pct_change().dropna()\n",
    "\n",
    "# Align data\n",
    "returns_strategy, returns_benchmark = returns_strategy.align(returns_benchmark, join=\"inner\")\n",
    "\n",
    "# Information Ratio\n",
    "excess_return = returns_strategy - returns_benchmark\n",
    "information_ratio = excess_return.mean() / excess_return.std()\n",
    "\n",
    "# CVaR\n",
    "confidence_level = 0.05\n",
    "var = np.percentile(returns_strategy, confidence_level * 100)\n",
    "cvar = returns_strategy[returns_strategy <= var].mean()\n",
    "\n",
    "# Rachev Ratio\n",
    "upside_confidence = 0.95\n",
    "downside_confidence = 0.05\n",
    "upside_var = np.percentile(returns_strategy, upside_confidence * 100)\n",
    "downside_var = np.percentile(returns_strategy, downside_confidence * 100)\n",
    "rachev_ratio = returns_strategy[returns_strategy >= upside_var].mean() / abs(returns_strategy[returns_strategy <= downside_var].mean())\n",
    "\n",
    "# Print metrics\n",
    "print(f\"Information Ratio: {information_ratio:.4f}\")\n",
    "print(f\"CVaR (5%): {cvar:.4f}\")\n",
    "print(f\"Rachev Ratio: {rachev_ratio:.4f}\")\n",
    "\n",
    "# Plot\n",
    "plt.figure(figsize=(12, 6))\n",
    "\n",
    "# Strategy and benchmark cumulative returns\n",
    "cumulative_strategy = (1 + returns_strategy).cumprod()\n",
    "cumulative_benchmark = (1 + returns_benchmark).cumprod()\n",
    "\n",
    "plt.plot(cumulative_strategy, label=\"PPO 50 epochs (Strategy)\")\n",
    "plt.plot(cumulative_benchmark, label=\"Nasdaq-100 index (Baseline)\")\n",
    "\n",
    "# Add metrics to the plot\n",
    "plt.title(f\"Performance Metrics:\\nIR={information_ratio:.4f}, CVaR (5%)={cvar:.4f}, Rachev={rachev_ratio:.4f}\")\n",
    "plt.legend()\n",
    "plt.xlabel(\"Date\")\n",
    "plt.ylabel(\"Cumulative Return\")\n",
    "plt.grid()\n",
    "plt.show()\n"
   ]
  },
  {
   "cell_type": "code",
   "execution_count": null,
   "metadata": {
    "colab": {
     "base_uri": "https://localhost:8080/",
     "height": 562
    },
    "executionInfo": {
     "elapsed": 374,
     "status": "ok",
     "timestamp": 1744649334556,
     "user": {
      "displayName": "Huma Ameer",
      "userId": "09038294176164290895"
     },
     "user_tz": -300
    },
    "id": "_heZ_o2gEJNN",
    "outputId": "28a8af04-ea7b-43ef-e2cc-a2dbaf17f73c"
   },
   "outputs": [],
   "source": [
    "import matplotlib.pyplot as plt\n",
    "import pandas as pd\n",
    "import numpy as np\n",
    "\n",
    "# ... (your existing code to load data and calculate strategies) ...\n",
    "\n",
    "# Calculate daily returns (same as before)\n",
    "# ...\n",
    "\n",
    "# Calculate Sharpe and Sortino Ratios (same as before)\n",
    "# ...\n",
    "\n",
    "# Create a figure with two subplots\n",
    "fig, (ax1, ax2) = plt.subplots(1, 2, figsize=(14, 6))  # 1 row, 2 columns\n",
    "\n",
    "# --- Subplot 1: Sharpe Ratio Comparison ---\n",
    "ax1.bar(['PPO 50 epochs', 'Nasdaq-100 index'], [sharpe_ppo, sharpe_nasdaq], color=['blue', 'orange'])\n",
    "ax1.set_title('Sharpe Ratio Comparison')\n",
    "ax1.set_ylabel('Sharpe Ratio')\n",
    "\n",
    "# Add Sharpe ratio values as text on top of the bars\n",
    "for i, v in enumerate([sharpe_ppo, sharpe_nasdaq]):\n",
    "    ax1.text(i, v + 0.05, f\"{v:.2f}\", ha='center', va='bottom')\n",
    "\n",
    "# --- Subplot 2: Sortino Ratio Comparison ---\n",
    "ax2.bar(['PPO 50 epochs', 'Nasdaq-100 index'], [sortino_ppo, sortino_nasdaq], color=['green', 'red'])\n",
    "ax2.set_title('Sortino Ratio Comparison')\n",
    "ax2.set_ylabel('Sortino Ratio')\n",
    "\n",
    "# Add Sortino ratio values as text on top of the bars\n",
    "for i, v in enumerate([sortino_ppo, sortino_nasdaq]):\n",
    "    ax2.text(i, v + 0.05, f\"{v:.2f}\", ha='center', va='bottom')\n",
    "\n",
    "plt.tight_layout()\n",
    "plt.show()"
   ]
  },
  {
   "cell_type": "code",
   "execution_count": null,
   "metadata": {
    "colab": {
     "base_uri": "https://localhost:8080/",
     "height": 493
    },
    "executionInfo": {
     "elapsed": 1107,
     "status": "ok",
     "timestamp": 1744649345075,
     "user": {
      "displayName": "Huma Ameer",
      "userId": "09038294176164290895"
     },
     "user_tz": -300
    },
    "id": "GECa1AaPEVjn",
    "outputId": "da2e69e7-b3ec-4ff3-fea7-d1e5d4cdcfa0"
   },
   "outputs": [],
   "source": [
    "\n",
    "# Plotting\n",
    "plt.figure(figsize=(16, 6))\n",
    "for column in result.columns:\n",
    "    plt.plot(result.index, result[column], label=column)\n",
    "\n",
    "plt.xlabel(\"Date\")\n",
    "plt.ylabel(\"Portfolio Value\")\n",
    "plt.title(\"Backtesting Results (Tradable Days Only)\")\n",
    "\n",
    "\n",
    "# Get the first and last dates from the index\n",
    "first_day = result.index[0]\n",
    "last_day = result.index[-1]\n",
    "\n",
    "# Create a list of dates for ticks, including first, last, and every 15 days\n",
    "tick_dates = [first_day]  # Start with the first day\n",
    "current_date = first_day + pd.DateOffset(days=15)  # Add 15 days\n",
    "while current_date < last_day:\n",
    "    tick_dates.append(current_date)\n",
    "    current_date += pd.DateOffset(days=15)\n",
    "tick_dates.append(last_day)  # Add the last day\n",
    "\n",
    "\n",
    "# Remove December 13th if it's in the tick_dates list\n",
    "tick_dates = [d for d in tick_dates if d.strftime('%Y-%m-%d') != '2023-12-13']\n",
    "\n",
    "\n",
    "# Set x-axis ticks to the calculated tick_dates\n",
    "plt.xticks(tick_dates, [d.strftime('%Y-%m-%d') for d in tick_dates], rotation=45)\n",
    "\n",
    "\n",
    "#plt.xticks(rotation=45)\n",
    "plt.legend()\n",
    "plt.grid(True)\n",
    "plt.tight_layout()\n",
    "plt.show()"
   ]
  },
  {
   "cell_type": "code",
   "execution_count": null,
   "metadata": {
    "colab": {
     "base_uri": "https://localhost:8080/",
     "height": 478
    },
    "executionInfo": {
     "elapsed": 465,
     "status": "ok",
     "timestamp": 1744649346556,
     "user": {
      "displayName": "Huma Ameer",
      "userId": "09038294176164290895"
     },
     "user_tz": -300
    },
    "id": "OLe_mb5aE9OJ",
    "outputId": "c48b9198-2161-40d1-9784-b74985d4ab95"
   },
   "outputs": [],
   "source": [
    "plt.rcParams[\"figure.figsize\"] = (15,5)\n",
    "plt.figure()\n",
    "result.plot()"
   ]
  },
  {
   "cell_type": "code",
   "execution_count": null,
   "metadata": {
    "colab": {
     "base_uri": "https://localhost:8080/",
     "height": 478
    },
    "executionInfo": {
     "elapsed": 604,
     "status": "ok",
     "timestamp": 1744649347959,
     "user": {
      "displayName": "Huma Ameer",
      "userId": "09038294176164290895"
     },
     "user_tz": -300
    },
    "id": "L6HpIIg_FAsN",
    "outputId": "7468e599-45f9-477e-ec1e-8871a215d87f"
   },
   "outputs": [],
   "source": [
    "plt.rcParams[\"figure.figsize\"] = (15,5)\n",
    "plt.figure()\n",
    "result.plot()"
   ]
  },
  {
   "cell_type": "code",
   "execution_count": null,
   "metadata": {
    "id": "KfUMJgIYFJzp"
   },
   "outputs": [],
   "source": []
  }
 ],
 "metadata": {
  "colab": {
   "provenance": []
  },
  "kernelspec": {
   "display_name": "Python 3 (ipykernel)",
   "language": "python",
   "name": "python3"
  },
  "language_info": {
   "codemirror_mode": {
    "name": "ipython",
    "version": 3
   },
   "file_extension": ".py",
   "mimetype": "text/x-python",
   "name": "python",
   "nbconvert_exporter": "python",
   "pygments_lexer": "ipython3",
   "version": "3.9.21"
  },
  "widgets": {
   "application/vnd.jupyter.widget-state+json": {
    "09740299af8a458f8595292cee232400": {
     "model_module": "@jupyter-widgets/base",
     "model_module_version": "1.2.0",
     "model_name": "LayoutModel",
     "state": {
      "_model_module": "@jupyter-widgets/base",
      "_model_module_version": "1.2.0",
      "_model_name": "LayoutModel",
      "_view_count": null,
      "_view_module": "@jupyter-widgets/base",
      "_view_module_version": "1.2.0",
      "_view_name": "LayoutView",
      "align_content": null,
      "align_items": null,
      "align_self": null,
      "border": null,
      "bottom": null,
      "display": null,
      "flex": null,
      "flex_flow": null,
      "grid_area": null,
      "grid_auto_columns": null,
      "grid_auto_flow": null,
      "grid_auto_rows": null,
      "grid_column": null,
      "grid_gap": null,
      "grid_row": null,
      "grid_template_areas": null,
      "grid_template_columns": null,
      "grid_template_rows": null,
      "height": null,
      "justify_content": null,
      "justify_items": null,
      "left": null,
      "margin": null,
      "max_height": null,
      "max_width": null,
      "min_height": null,
      "min_width": null,
      "object_fit": null,
      "object_position": null,
      "order": null,
      "overflow": null,
      "overflow_x": null,
      "overflow_y": null,
      "padding": null,
      "right": null,
      "top": null,
      "visibility": null,
      "width": null
     }
    },
    "145d6cb536704ab3ab0e7ef54392c0ea": {
     "model_module": "@jupyter-widgets/controls",
     "model_module_version": "1.5.0",
     "model_name": "DescriptionStyleModel",
     "state": {
      "_model_module": "@jupyter-widgets/controls",
      "_model_module_version": "1.5.0",
      "_model_name": "DescriptionStyleModel",
      "_view_count": null,
      "_view_module": "@jupyter-widgets/base",
      "_view_module_version": "1.2.0",
      "_view_name": "StyleView",
      "description_width": ""
     }
    },
    "2602170430054884971b584ba66daafa": {
     "model_module": "@jupyter-widgets/controls",
     "model_module_version": "1.5.0",
     "model_name": "DescriptionStyleModel",
     "state": {
      "_model_module": "@jupyter-widgets/controls",
      "_model_module_version": "1.5.0",
      "_model_name": "DescriptionStyleModel",
      "_view_count": null,
      "_view_module": "@jupyter-widgets/base",
      "_view_module_version": "1.2.0",
      "_view_name": "StyleView",
      "description_width": ""
     }
    },
    "278c46e8c8b54ff092d7249ea66644d0": {
     "model_module": "@jupyter-widgets/controls",
     "model_module_version": "1.5.0",
     "model_name": "FloatProgressModel",
     "state": {
      "_dom_classes": [],
      "_model_module": "@jupyter-widgets/controls",
      "_model_module_version": "1.5.0",
      "_model_name": "FloatProgressModel",
      "_view_count": null,
      "_view_module": "@jupyter-widgets/controls",
      "_view_module_version": "1.5.0",
      "_view_name": "ProgressView",
      "bar_style": "success",
      "description": "",
      "description_tooltip": null,
      "layout": "IPY_MODEL_bc94fafb582847a9a4ef082d351169dc",
      "max": 30953286,
      "min": 0,
      "orientation": "horizontal",
      "style": "IPY_MODEL_292f19e0fccf46cfacc9686500fd24d9",
      "value": 30953286
     }
    },
    "292f19e0fccf46cfacc9686500fd24d9": {
     "model_module": "@jupyter-widgets/controls",
     "model_module_version": "1.5.0",
     "model_name": "ProgressStyleModel",
     "state": {
      "_model_module": "@jupyter-widgets/controls",
      "_model_module_version": "1.5.0",
      "_model_name": "ProgressStyleModel",
      "_view_count": null,
      "_view_module": "@jupyter-widgets/base",
      "_view_module_version": "1.2.0",
      "_view_name": "StyleView",
      "bar_color": null,
      "description_width": ""
     }
    },
    "2c53c1191bc34d36a81ddb36aab8a9f4": {
     "model_module": "@jupyter-widgets/base",
     "model_module_version": "1.2.0",
     "model_name": "LayoutModel",
     "state": {
      "_model_module": "@jupyter-widgets/base",
      "_model_module_version": "1.2.0",
      "_model_name": "LayoutModel",
      "_view_count": null,
      "_view_module": "@jupyter-widgets/base",
      "_view_module_version": "1.2.0",
      "_view_name": "LayoutView",
      "align_content": null,
      "align_items": null,
      "align_self": null,
      "border": null,
      "bottom": null,
      "display": null,
      "flex": null,
      "flex_flow": null,
      "grid_area": null,
      "grid_auto_columns": null,
      "grid_auto_flow": null,
      "grid_auto_rows": null,
      "grid_column": null,
      "grid_gap": null,
      "grid_row": null,
      "grid_template_areas": null,
      "grid_template_columns": null,
      "grid_template_rows": null,
      "height": null,
      "justify_content": null,
      "justify_items": null,
      "left": null,
      "margin": null,
      "max_height": null,
      "max_width": null,
      "min_height": null,
      "min_width": null,
      "object_fit": null,
      "object_position": null,
      "order": null,
      "overflow": null,
      "overflow_x": null,
      "overflow_y": null,
      "padding": null,
      "right": null,
      "top": null,
      "visibility": null,
      "width": null
     }
    },
    "2d6c6ae1de684f00abacb95e0a96c792": {
     "model_module": "@jupyter-widgets/base",
     "model_module_version": "1.2.0",
     "model_name": "LayoutModel",
     "state": {
      "_model_module": "@jupyter-widgets/base",
      "_model_module_version": "1.2.0",
      "_model_name": "LayoutModel",
      "_view_count": null,
      "_view_module": "@jupyter-widgets/base",
      "_view_module_version": "1.2.0",
      "_view_name": "LayoutView",
      "align_content": null,
      "align_items": null,
      "align_self": null,
      "border": null,
      "bottom": null,
      "display": null,
      "flex": null,
      "flex_flow": null,
      "grid_area": null,
      "grid_auto_columns": null,
      "grid_auto_flow": null,
      "grid_auto_rows": null,
      "grid_column": null,
      "grid_gap": null,
      "grid_row": null,
      "grid_template_areas": null,
      "grid_template_columns": null,
      "grid_template_rows": null,
      "height": null,
      "justify_content": null,
      "justify_items": null,
      "left": null,
      "margin": null,
      "max_height": null,
      "max_width": null,
      "min_height": null,
      "min_width": null,
      "object_fit": null,
      "object_position": null,
      "order": null,
      "overflow": null,
      "overflow_x": null,
      "overflow_y": null,
      "padding": null,
      "right": null,
      "top": null,
      "visibility": null,
      "width": "20px"
     }
    },
    "37a1247809324ee5a45f71a3be4dcc99": {
     "model_module": "@jupyter-widgets/controls",
     "model_module_version": "1.5.0",
     "model_name": "HTMLModel",
     "state": {
      "_dom_classes": [],
      "_model_module": "@jupyter-widgets/controls",
      "_model_module_version": "1.5.0",
      "_model_name": "HTMLModel",
      "_view_count": null,
      "_view_module": "@jupyter-widgets/controls",
      "_view_module_version": "1.5.0",
      "_view_name": "HTMLView",
      "description": "",
      "description_tooltip": null,
      "layout": "IPY_MODEL_2c53c1191bc34d36a81ddb36aab8a9f4",
      "placeholder": "​",
      "style": "IPY_MODEL_cc103831873240dab9f7dcbe4d18ccb8",
      "value": " 105588/0 [00:00&lt;00:00, 194437.92 examples/s]"
     }
    },
    "47ae5f0a390a470391346f19390bb4cb": {
     "model_module": "@jupyter-widgets/controls",
     "model_module_version": "1.5.0",
     "model_name": "FloatProgressModel",
     "state": {
      "_dom_classes": [],
      "_model_module": "@jupyter-widgets/controls",
      "_model_module_version": "1.5.0",
      "_model_name": "FloatProgressModel",
      "_view_count": null,
      "_view_module": "@jupyter-widgets/controls",
      "_view_module_version": "1.5.0",
      "_view_name": "ProgressView",
      "bar_style": "success",
      "description": "",
      "description_tooltip": null,
      "layout": "IPY_MODEL_2d6c6ae1de684f00abacb95e0a96c792",
      "max": 1,
      "min": 0,
      "orientation": "horizontal",
      "style": "IPY_MODEL_4919ae3d847c43689f2ab835b453ce91",
      "value": 1
     }
    },
    "4919ae3d847c43689f2ab835b453ce91": {
     "model_module": "@jupyter-widgets/controls",
     "model_module_version": "1.5.0",
     "model_name": "ProgressStyleModel",
     "state": {
      "_model_module": "@jupyter-widgets/controls",
      "_model_module_version": "1.5.0",
      "_model_name": "ProgressStyleModel",
      "_view_count": null,
      "_view_module": "@jupyter-widgets/base",
      "_view_module_version": "1.2.0",
      "_view_name": "StyleView",
      "bar_color": null,
      "description_width": ""
     }
    },
    "498371412bea48349228da463c0157de": {
     "model_module": "@jupyter-widgets/controls",
     "model_module_version": "1.5.0",
     "model_name": "FloatProgressModel",
     "state": {
      "_dom_classes": [],
      "_model_module": "@jupyter-widgets/controls",
      "_model_module_version": "1.5.0",
      "_model_name": "FloatProgressModel",
      "_view_count": null,
      "_view_module": "@jupyter-widgets/controls",
      "_view_module_version": "1.5.0",
      "_view_name": "ProgressView",
      "bar_style": "success",
      "description": "",
      "description_tooltip": null,
      "layout": "IPY_MODEL_96f019941be34001968cbaeb724b4b44",
      "max": 43,
      "min": 0,
      "orientation": "horizontal",
      "style": "IPY_MODEL_c703b3018ae6459881926316129176a6",
      "value": 43
     }
    },
    "4e0d2b1db6a94e4896f29ec60a2c4b16": {
     "model_module": "@jupyter-widgets/base",
     "model_module_version": "1.2.0",
     "model_name": "LayoutModel",
     "state": {
      "_model_module": "@jupyter-widgets/base",
      "_model_module_version": "1.2.0",
      "_model_name": "LayoutModel",
      "_view_count": null,
      "_view_module": "@jupyter-widgets/base",
      "_view_module_version": "1.2.0",
      "_view_name": "LayoutView",
      "align_content": null,
      "align_items": null,
      "align_self": null,
      "border": null,
      "bottom": null,
      "display": null,
      "flex": null,
      "flex_flow": null,
      "grid_area": null,
      "grid_auto_columns": null,
      "grid_auto_flow": null,
      "grid_auto_rows": null,
      "grid_column": null,
      "grid_gap": null,
      "grid_row": null,
      "grid_template_areas": null,
      "grid_template_columns": null,
      "grid_template_rows": null,
      "height": null,
      "justify_content": null,
      "justify_items": null,
      "left": null,
      "margin": null,
      "max_height": null,
      "max_width": null,
      "min_height": null,
      "min_width": null,
      "object_fit": null,
      "object_position": null,
      "order": null,
      "overflow": null,
      "overflow_x": null,
      "overflow_y": null,
      "padding": null,
      "right": null,
      "top": null,
      "visibility": null,
      "width": null
     }
    },
    "4ebc636b9e6a45189f5a7c78ea355bb4": {
     "model_module": "@jupyter-widgets/controls",
     "model_module_version": "1.5.0",
     "model_name": "HTMLModel",
     "state": {
      "_dom_classes": [],
      "_model_module": "@jupyter-widgets/controls",
      "_model_module_version": "1.5.0",
      "_model_name": "HTMLModel",
      "_view_count": null,
      "_view_module": "@jupyter-widgets/controls",
      "_view_module_version": "1.5.0",
      "_view_name": "HTMLView",
      "description": "",
      "description_tooltip": null,
      "layout": "IPY_MODEL_76d4ebe22d134f07921e851bc7c5b1ea",
      "placeholder": "​",
      "style": "IPY_MODEL_6835299ef115434b8cc9c1870dc9180b",
      "value": " 43.0/43.0 [00:00&lt;00:00, 3.42kB/s]"
     }
    },
    "543db501fb8e4054b70237a0428bacec": {
     "model_module": "@jupyter-widgets/controls",
     "model_module_version": "1.5.0",
     "model_name": "HTMLModel",
     "state": {
      "_dom_classes": [],
      "_model_module": "@jupyter-widgets/controls",
      "_model_module_version": "1.5.0",
      "_model_name": "HTMLModel",
      "_view_count": null,
      "_view_module": "@jupyter-widgets/controls",
      "_view_module_version": "1.5.0",
      "_view_name": "HTMLView",
      "description": "",
      "description_tooltip": null,
      "layout": "IPY_MODEL_4e0d2b1db6a94e4896f29ec60a2c4b16",
      "placeholder": "​",
      "style": "IPY_MODEL_f5c2fa071b3c4346a6c50afa6558b888",
      "value": " 31.0M/31.0M [00:01&lt;00:00, 22.5MB/s]"
     }
    },
    "5b3c49f30b2f445f86d0dba5a6d2157f": {
     "model_module": "@jupyter-widgets/base",
     "model_module_version": "1.2.0",
     "model_name": "LayoutModel",
     "state": {
      "_model_module": "@jupyter-widgets/base",
      "_model_module_version": "1.2.0",
      "_model_name": "LayoutModel",
      "_view_count": null,
      "_view_module": "@jupyter-widgets/base",
      "_view_module_version": "1.2.0",
      "_view_name": "LayoutView",
      "align_content": null,
      "align_items": null,
      "align_self": null,
      "border": null,
      "bottom": null,
      "display": null,
      "flex": null,
      "flex_flow": null,
      "grid_area": null,
      "grid_auto_columns": null,
      "grid_auto_flow": null,
      "grid_auto_rows": null,
      "grid_column": null,
      "grid_gap": null,
      "grid_row": null,
      "grid_template_areas": null,
      "grid_template_columns": null,
      "grid_template_rows": null,
      "height": null,
      "justify_content": null,
      "justify_items": null,
      "left": null,
      "margin": null,
      "max_height": null,
      "max_width": null,
      "min_height": null,
      "min_width": null,
      "object_fit": null,
      "object_position": null,
      "order": null,
      "overflow": null,
      "overflow_x": null,
      "overflow_y": null,
      "padding": null,
      "right": null,
      "top": null,
      "visibility": null,
      "width": null
     }
    },
    "67449d7583c34ba2a00bc7b2f695c66f": {
     "model_module": "@jupyter-widgets/controls",
     "model_module_version": "1.5.0",
     "model_name": "DescriptionStyleModel",
     "state": {
      "_model_module": "@jupyter-widgets/controls",
      "_model_module_version": "1.5.0",
      "_model_name": "DescriptionStyleModel",
      "_view_count": null,
      "_view_module": "@jupyter-widgets/base",
      "_view_module_version": "1.2.0",
      "_view_name": "StyleView",
      "description_width": ""
     }
    },
    "6835299ef115434b8cc9c1870dc9180b": {
     "model_module": "@jupyter-widgets/controls",
     "model_module_version": "1.5.0",
     "model_name": "DescriptionStyleModel",
     "state": {
      "_model_module": "@jupyter-widgets/controls",
      "_model_module_version": "1.5.0",
      "_model_name": "DescriptionStyleModel",
      "_view_count": null,
      "_view_module": "@jupyter-widgets/base",
      "_view_module_version": "1.2.0",
      "_view_name": "StyleView",
      "description_width": ""
     }
    },
    "6adbb7b8faeb4aafb4b0a93b56a76f15": {
     "model_module": "@jupyter-widgets/base",
     "model_module_version": "1.2.0",
     "model_name": "LayoutModel",
     "state": {
      "_model_module": "@jupyter-widgets/base",
      "_model_module_version": "1.2.0",
      "_model_name": "LayoutModel",
      "_view_count": null,
      "_view_module": "@jupyter-widgets/base",
      "_view_module_version": "1.2.0",
      "_view_name": "LayoutView",
      "align_content": null,
      "align_items": null,
      "align_self": null,
      "border": null,
      "bottom": null,
      "display": null,
      "flex": null,
      "flex_flow": null,
      "grid_area": null,
      "grid_auto_columns": null,
      "grid_auto_flow": null,
      "grid_auto_rows": null,
      "grid_column": null,
      "grid_gap": null,
      "grid_row": null,
      "grid_template_areas": null,
      "grid_template_columns": null,
      "grid_template_rows": null,
      "height": null,
      "justify_content": null,
      "justify_items": null,
      "left": null,
      "margin": null,
      "max_height": null,
      "max_width": null,
      "min_height": null,
      "min_width": null,
      "object_fit": null,
      "object_position": null,
      "order": null,
      "overflow": null,
      "overflow_x": null,
      "overflow_y": null,
      "padding": null,
      "right": null,
      "top": null,
      "visibility": null,
      "width": null
     }
    },
    "6fe7955b9599410cb3c5e94a56c2c8cc": {
     "model_module": "@jupyter-widgets/base",
     "model_module_version": "1.2.0",
     "model_name": "LayoutModel",
     "state": {
      "_model_module": "@jupyter-widgets/base",
      "_model_module_version": "1.2.0",
      "_model_name": "LayoutModel",
      "_view_count": null,
      "_view_module": "@jupyter-widgets/base",
      "_view_module_version": "1.2.0",
      "_view_name": "LayoutView",
      "align_content": null,
      "align_items": null,
      "align_self": null,
      "border": null,
      "bottom": null,
      "display": null,
      "flex": null,
      "flex_flow": null,
      "grid_area": null,
      "grid_auto_columns": null,
      "grid_auto_flow": null,
      "grid_auto_rows": null,
      "grid_column": null,
      "grid_gap": null,
      "grid_row": null,
      "grid_template_areas": null,
      "grid_template_columns": null,
      "grid_template_rows": null,
      "height": null,
      "justify_content": null,
      "justify_items": null,
      "left": null,
      "margin": null,
      "max_height": null,
      "max_width": null,
      "min_height": null,
      "min_width": null,
      "object_fit": null,
      "object_position": null,
      "order": null,
      "overflow": null,
      "overflow_x": null,
      "overflow_y": null,
      "padding": null,
      "right": null,
      "top": null,
      "visibility": null,
      "width": null
     }
    },
    "759d3c26f50546569f98e0f899c9217c": {
     "model_module": "@jupyter-widgets/controls",
     "model_module_version": "1.5.0",
     "model_name": "HTMLModel",
     "state": {
      "_dom_classes": [],
      "_model_module": "@jupyter-widgets/controls",
      "_model_module_version": "1.5.0",
      "_model_name": "HTMLModel",
      "_view_count": null,
      "_view_module": "@jupyter-widgets/controls",
      "_view_module_version": "1.5.0",
      "_view_name": "HTMLView",
      "description": "",
      "description_tooltip": null,
      "layout": "IPY_MODEL_6adbb7b8faeb4aafb4b0a93b56a76f15",
      "placeholder": "​",
      "style": "IPY_MODEL_67449d7583c34ba2a00bc7b2f695c66f",
      "value": "README.md: 100%"
     }
    },
    "76d4ebe22d134f07921e851bc7c5b1ea": {
     "model_module": "@jupyter-widgets/base",
     "model_module_version": "1.2.0",
     "model_name": "LayoutModel",
     "state": {
      "_model_module": "@jupyter-widgets/base",
      "_model_module_version": "1.2.0",
      "_model_name": "LayoutModel",
      "_view_count": null,
      "_view_module": "@jupyter-widgets/base",
      "_view_module_version": "1.2.0",
      "_view_name": "LayoutView",
      "align_content": null,
      "align_items": null,
      "align_self": null,
      "border": null,
      "bottom": null,
      "display": null,
      "flex": null,
      "flex_flow": null,
      "grid_area": null,
      "grid_auto_columns": null,
      "grid_auto_flow": null,
      "grid_auto_rows": null,
      "grid_column": null,
      "grid_gap": null,
      "grid_row": null,
      "grid_template_areas": null,
      "grid_template_columns": null,
      "grid_template_rows": null,
      "height": null,
      "justify_content": null,
      "justify_items": null,
      "left": null,
      "margin": null,
      "max_height": null,
      "max_width": null,
      "min_height": null,
      "min_width": null,
      "object_fit": null,
      "object_position": null,
      "order": null,
      "overflow": null,
      "overflow_x": null,
      "overflow_y": null,
      "padding": null,
      "right": null,
      "top": null,
      "visibility": null,
      "width": null
     }
    },
    "96f019941be34001968cbaeb724b4b44": {
     "model_module": "@jupyter-widgets/base",
     "model_module_version": "1.2.0",
     "model_name": "LayoutModel",
     "state": {
      "_model_module": "@jupyter-widgets/base",
      "_model_module_version": "1.2.0",
      "_model_name": "LayoutModel",
      "_view_count": null,
      "_view_module": "@jupyter-widgets/base",
      "_view_module_version": "1.2.0",
      "_view_name": "LayoutView",
      "align_content": null,
      "align_items": null,
      "align_self": null,
      "border": null,
      "bottom": null,
      "display": null,
      "flex": null,
      "flex_flow": null,
      "grid_area": null,
      "grid_auto_columns": null,
      "grid_auto_flow": null,
      "grid_auto_rows": null,
      "grid_column": null,
      "grid_gap": null,
      "grid_row": null,
      "grid_template_areas": null,
      "grid_template_columns": null,
      "grid_template_rows": null,
      "height": null,
      "justify_content": null,
      "justify_items": null,
      "left": null,
      "margin": null,
      "max_height": null,
      "max_width": null,
      "min_height": null,
      "min_width": null,
      "object_fit": null,
      "object_position": null,
      "order": null,
      "overflow": null,
      "overflow_x": null,
      "overflow_y": null,
      "padding": null,
      "right": null,
      "top": null,
      "visibility": null,
      "width": null
     }
    },
    "9a03b5e418924201910cc938b19f3e12": {
     "model_module": "@jupyter-widgets/controls",
     "model_module_version": "1.5.0",
     "model_name": "HBoxModel",
     "state": {
      "_dom_classes": [],
      "_model_module": "@jupyter-widgets/controls",
      "_model_module_version": "1.5.0",
      "_model_name": "HBoxModel",
      "_view_count": null,
      "_view_module": "@jupyter-widgets/controls",
      "_view_module_version": "1.5.0",
      "_view_name": "HBoxView",
      "box_style": "",
      "children": [
       "IPY_MODEL_c36641d8aa7c4dd195227115dfea2740",
       "IPY_MODEL_278c46e8c8b54ff092d7249ea66644d0",
       "IPY_MODEL_543db501fb8e4054b70237a0428bacec"
      ],
      "layout": "IPY_MODEL_6fe7955b9599410cb3c5e94a56c2c8cc"
     }
    },
    "ad889b584f5c4828bc960fee87cdb9fe": {
     "model_module": "@jupyter-widgets/base",
     "model_module_version": "1.2.0",
     "model_name": "LayoutModel",
     "state": {
      "_model_module": "@jupyter-widgets/base",
      "_model_module_version": "1.2.0",
      "_model_name": "LayoutModel",
      "_view_count": null,
      "_view_module": "@jupyter-widgets/base",
      "_view_module_version": "1.2.0",
      "_view_name": "LayoutView",
      "align_content": null,
      "align_items": null,
      "align_self": null,
      "border": null,
      "bottom": null,
      "display": null,
      "flex": null,
      "flex_flow": null,
      "grid_area": null,
      "grid_auto_columns": null,
      "grid_auto_flow": null,
      "grid_auto_rows": null,
      "grid_column": null,
      "grid_gap": null,
      "grid_row": null,
      "grid_template_areas": null,
      "grid_template_columns": null,
      "grid_template_rows": null,
      "height": null,
      "justify_content": null,
      "justify_items": null,
      "left": null,
      "margin": null,
      "max_height": null,
      "max_width": null,
      "min_height": null,
      "min_width": null,
      "object_fit": null,
      "object_position": null,
      "order": null,
      "overflow": null,
      "overflow_x": null,
      "overflow_y": null,
      "padding": null,
      "right": null,
      "top": null,
      "visibility": null,
      "width": null
     }
    },
    "bc94fafb582847a9a4ef082d351169dc": {
     "model_module": "@jupyter-widgets/base",
     "model_module_version": "1.2.0",
     "model_name": "LayoutModel",
     "state": {
      "_model_module": "@jupyter-widgets/base",
      "_model_module_version": "1.2.0",
      "_model_name": "LayoutModel",
      "_view_count": null,
      "_view_module": "@jupyter-widgets/base",
      "_view_module_version": "1.2.0",
      "_view_name": "LayoutView",
      "align_content": null,
      "align_items": null,
      "align_self": null,
      "border": null,
      "bottom": null,
      "display": null,
      "flex": null,
      "flex_flow": null,
      "grid_area": null,
      "grid_auto_columns": null,
      "grid_auto_flow": null,
      "grid_auto_rows": null,
      "grid_column": null,
      "grid_gap": null,
      "grid_row": null,
      "grid_template_areas": null,
      "grid_template_columns": null,
      "grid_template_rows": null,
      "height": null,
      "justify_content": null,
      "justify_items": null,
      "left": null,
      "margin": null,
      "max_height": null,
      "max_width": null,
      "min_height": null,
      "min_width": null,
      "object_fit": null,
      "object_position": null,
      "order": null,
      "overflow": null,
      "overflow_x": null,
      "overflow_y": null,
      "padding": null,
      "right": null,
      "top": null,
      "visibility": null,
      "width": null
     }
    },
    "c36641d8aa7c4dd195227115dfea2740": {
     "model_module": "@jupyter-widgets/controls",
     "model_module_version": "1.5.0",
     "model_name": "HTMLModel",
     "state": {
      "_dom_classes": [],
      "_model_module": "@jupyter-widgets/controls",
      "_model_module_version": "1.5.0",
      "_model_name": "HTMLModel",
      "_view_count": null,
      "_view_module": "@jupyter-widgets/controls",
      "_view_module_version": "1.5.0",
      "_view_name": "HTMLView",
      "description": "",
      "description_tooltip": null,
      "layout": "IPY_MODEL_5b3c49f30b2f445f86d0dba5a6d2157f",
      "placeholder": "​",
      "style": "IPY_MODEL_2602170430054884971b584ba66daafa",
      "value": "(…)de_data_deepseek_sentiment_2019_2023.csv: 100%"
     }
    },
    "c703b3018ae6459881926316129176a6": {
     "model_module": "@jupyter-widgets/controls",
     "model_module_version": "1.5.0",
     "model_name": "ProgressStyleModel",
     "state": {
      "_model_module": "@jupyter-widgets/controls",
      "_model_module_version": "1.5.0",
      "_model_name": "ProgressStyleModel",
      "_view_count": null,
      "_view_module": "@jupyter-widgets/base",
      "_view_module_version": "1.2.0",
      "_view_name": "StyleView",
      "bar_color": null,
      "description_width": ""
     }
    },
    "cc103831873240dab9f7dcbe4d18ccb8": {
     "model_module": "@jupyter-widgets/controls",
     "model_module_version": "1.5.0",
     "model_name": "DescriptionStyleModel",
     "state": {
      "_model_module": "@jupyter-widgets/controls",
      "_model_module_version": "1.5.0",
      "_model_name": "DescriptionStyleModel",
      "_view_count": null,
      "_view_module": "@jupyter-widgets/base",
      "_view_module_version": "1.2.0",
      "_view_name": "StyleView",
      "description_width": ""
     }
    },
    "cdf9ce230c1d44d1b980574fa61e6a88": {
     "model_module": "@jupyter-widgets/base",
     "model_module_version": "1.2.0",
     "model_name": "LayoutModel",
     "state": {
      "_model_module": "@jupyter-widgets/base",
      "_model_module_version": "1.2.0",
      "_model_name": "LayoutModel",
      "_view_count": null,
      "_view_module": "@jupyter-widgets/base",
      "_view_module_version": "1.2.0",
      "_view_name": "LayoutView",
      "align_content": null,
      "align_items": null,
      "align_self": null,
      "border": null,
      "bottom": null,
      "display": null,
      "flex": null,
      "flex_flow": null,
      "grid_area": null,
      "grid_auto_columns": null,
      "grid_auto_flow": null,
      "grid_auto_rows": null,
      "grid_column": null,
      "grid_gap": null,
      "grid_row": null,
      "grid_template_areas": null,
      "grid_template_columns": null,
      "grid_template_rows": null,
      "height": null,
      "justify_content": null,
      "justify_items": null,
      "left": null,
      "margin": null,
      "max_height": null,
      "max_width": null,
      "min_height": null,
      "min_width": null,
      "object_fit": null,
      "object_position": null,
      "order": null,
      "overflow": null,
      "overflow_x": null,
      "overflow_y": null,
      "padding": null,
      "right": null,
      "top": null,
      "visibility": null,
      "width": null
     }
    },
    "ef5d06e3c2c64ced93da1aed88abfd82": {
     "model_module": "@jupyter-widgets/controls",
     "model_module_version": "1.5.0",
     "model_name": "HTMLModel",
     "state": {
      "_dom_classes": [],
      "_model_module": "@jupyter-widgets/controls",
      "_model_module_version": "1.5.0",
      "_model_name": "HTMLModel",
      "_view_count": null,
      "_view_module": "@jupyter-widgets/controls",
      "_view_module_version": "1.5.0",
      "_view_name": "HTMLView",
      "description": "",
      "description_tooltip": null,
      "layout": "IPY_MODEL_09740299af8a458f8595292cee232400",
      "placeholder": "​",
      "style": "IPY_MODEL_145d6cb536704ab3ab0e7ef54392c0ea",
      "value": "Generating train split: "
     }
    },
    "f5c2fa071b3c4346a6c50afa6558b888": {
     "model_module": "@jupyter-widgets/controls",
     "model_module_version": "1.5.0",
     "model_name": "DescriptionStyleModel",
     "state": {
      "_model_module": "@jupyter-widgets/controls",
      "_model_module_version": "1.5.0",
      "_model_name": "DescriptionStyleModel",
      "_view_count": null,
      "_view_module": "@jupyter-widgets/base",
      "_view_module_version": "1.2.0",
      "_view_name": "StyleView",
      "description_width": ""
     }
    },
    "f6f6b07fd2534991a67ff7f364bb7227": {
     "model_module": "@jupyter-widgets/controls",
     "model_module_version": "1.5.0",
     "model_name": "HBoxModel",
     "state": {
      "_dom_classes": [],
      "_model_module": "@jupyter-widgets/controls",
      "_model_module_version": "1.5.0",
      "_model_name": "HBoxModel",
      "_view_count": null,
      "_view_module": "@jupyter-widgets/controls",
      "_view_module_version": "1.5.0",
      "_view_name": "HBoxView",
      "box_style": "",
      "children": [
       "IPY_MODEL_759d3c26f50546569f98e0f899c9217c",
       "IPY_MODEL_498371412bea48349228da463c0157de",
       "IPY_MODEL_4ebc636b9e6a45189f5a7c78ea355bb4"
      ],
      "layout": "IPY_MODEL_ad889b584f5c4828bc960fee87cdb9fe"
     }
    },
    "fc6b331abe3d4d0bb4b72b0fc1bf123b": {
     "model_module": "@jupyter-widgets/controls",
     "model_module_version": "1.5.0",
     "model_name": "HBoxModel",
     "state": {
      "_dom_classes": [],
      "_model_module": "@jupyter-widgets/controls",
      "_model_module_version": "1.5.0",
      "_model_name": "HBoxModel",
      "_view_count": null,
      "_view_module": "@jupyter-widgets/controls",
      "_view_module_version": "1.5.0",
      "_view_name": "HBoxView",
      "box_style": "",
      "children": [
       "IPY_MODEL_ef5d06e3c2c64ced93da1aed88abfd82",
       "IPY_MODEL_47ae5f0a390a470391346f19390bb4cb",
       "IPY_MODEL_37a1247809324ee5a45f71a3be4dcc99"
      ],
      "layout": "IPY_MODEL_cdf9ce230c1d44d1b980574fa61e6a88"
     }
    }
   }
  }
 },
 "nbformat": 4,
 "nbformat_minor": 4
}
