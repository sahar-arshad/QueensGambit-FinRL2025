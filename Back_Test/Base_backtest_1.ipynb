{
 "cells": [
  {
   "cell_type": "code",
   "execution_count": null,
   "metadata": {
    "colab": {
     "base_uri": "https://localhost:8080/"
    },
    "executionInfo": {
     "elapsed": 26416,
     "status": "ok",
     "timestamp": 1744739464420,
     "user": {
      "displayName": "Huma Ameer",
      "userId": "09038294176164290895"
     },
     "user_tz": -300
    },
    "id": "hnpORfCDqrBp",
    "outputId": "f0bb98ef-1e9a-429e-ac26-7053403d609c"
   },
   "outputs": [],
   "source": [
    "# Mount Google Drive\n",
    "from google.colab import drive\n",
    "drive.mount('/content/drive')\n"
   ]
  },
  {
   "cell_type": "markdown",
   "metadata": {
    "id": "Ossz1l2sq8sr"
   },
   "source": [
    "# Installation\n"
   ]
  },
  {
   "cell_type": "code",
   "execution_count": null,
   "metadata": {
    "colab": {
     "base_uri": "https://localhost:8080/"
    },
    "executionInfo": {
     "elapsed": 215064,
     "status": "ok",
     "timestamp": 1744739679489,
     "user": {
      "displayName": "Huma Ameer",
      "userId": "09038294176164290895"
     },
     "user_tz": -300
    },
    "id": "8HFYtmqpqtys",
    "outputId": "b15455c3-c9d5-4121-98fd-ad7a9dd32303"
   },
   "outputs": [],
   "source": [
    "!pip install git+https://github.com/AI4Finance-LLC/FinRL-Library.git"
   ]
  },
  {
   "cell_type": "code",
   "execution_count": null,
   "metadata": {
    "colab": {
     "base_uri": "https://localhost:8080/"
    },
    "executionInfo": {
     "elapsed": 14168,
     "status": "ok",
     "timestamp": 1744739693668,
     "user": {
      "displayName": "Huma Ameer",
      "userId": "09038294176164290895"
     },
     "user_tz": -300
    },
    "id": "V9QXmpAAq2jJ",
    "outputId": "bf504560-3070-4c16-906e-718dfdd63089"
   },
   "outputs": [],
   "source": [
    "!pip install selenium webdriver-manager alpaca-py datasets"
   ]
  },
  {
   "cell_type": "code",
   "execution_count": null,
   "metadata": {
    "colab": {
     "base_uri": "https://localhost:8080/"
    },
    "executionInfo": {
     "elapsed": 1221,
     "status": "ok",
     "timestamp": 1744739694891,
     "user": {
      "displayName": "Huma Ameer",
      "userId": "09038294176164290895"
     },
     "user_tz": -300
    },
    "id": "PC603SFdq3S9",
    "outputId": "823b4b5c-ce7f-4970-94f0-d9560596dd98"
   },
   "outputs": [],
   "source": [
    "!git clone https://github.com/benstaf/FinRL_DeepSeek.git\n",
    "%cd FinRL_DeepSeek"
   ]
  },
  {
   "cell_type": "code",
   "execution_count": null,
   "metadata": {
    "id": "XKCnDWHErBYP"
   },
   "outputs": [],
   "source": [
    "import sys\n",
    "sys.path.append(\"/content/FinRL_DeepSeek/\")"
   ]
  },
  {
   "cell_type": "code",
   "execution_count": null,
   "metadata": {
    "colab": {
     "base_uri": "https://localhost:8080/"
    },
    "executionInfo": {
     "elapsed": 2374,
     "status": "ok",
     "timestamp": 1744739697302,
     "user": {
      "displayName": "Huma Ameer",
      "userId": "09038294176164290895"
     },
     "user_tz": -300
    },
    "id": "wm-tTaATrB93",
    "outputId": "8f146c0b-0927-4cbb-b0fe-8c3946f5f329"
   },
   "outputs": [],
   "source": [
    "!git clone https://huggingface.co/benstaf/Trading_agents"
   ]
  },
  {
   "cell_type": "code",
   "execution_count": null,
   "metadata": {
    "colab": {
     "base_uri": "https://localhost:8080/"
    },
    "executionInfo": {
     "elapsed": 18558,
     "status": "ok",
     "timestamp": 1744739715861,
     "user": {
      "displayName": "Huma Ameer",
      "userId": "09038294176164290895"
     },
     "user_tz": -300
    },
    "id": "lVV6t2JcrCBP",
    "outputId": "bf0865ab-3e8e-4afb-9759-e14dbab25082"
   },
   "outputs": [],
   "source": [
    "!pip install pandas_market_calendars\n",
    "!pip install datasets"
   ]
  },
  {
   "cell_type": "markdown",
   "metadata": {
    "id": "q6xBnF1ZrJS-"
   },
   "source": [
    "# Import libraries"
   ]
  },
  {
   "cell_type": "code",
   "execution_count": null,
   "metadata": {
    "id": "AXnjOB5HrLzO"
   },
   "outputs": [],
   "source": [
    "import matplotlib.pyplot as plt\n",
    "import numpy as np\n",
    "import pandas as pd\n",
    "#from stable_baselines3 import A2C, DDPG, PPO, SAC, TD3\n",
    "\n",
    "#from finrl.agents.stablebaselines3.models import DRLAgent\n",
    "from finrl.config import INDICATORS, TRAINED_MODEL_DIR\n",
    "from env_stocktrading import StockTradingEnv\n",
    "\n",
    "\n",
    "# Import PPO-DeepSeek environments\n",
    "from env_stocktrading_llm import StockTradingEnv as StockTradingEnv_llm\n",
    "from env_stocktrading_llm_1 import StockTradingEnv as StockTradingEnv_llm_1\n",
    "from env_stocktrading_llm_01 import StockTradingEnv as StockTradingEnv_llm_01\n",
    "\n",
    "# Import CPPO-DeepSeek risk environments\n",
    "from env_stocktrading_llm_risk import StockTradingEnv as StockTradingEnv_llm_risk\n",
    "from env_stocktrading_llm_risk_1 import StockTradingEnv as StockTradingEnv_llm_risk_1\n",
    "from env_stocktrading_llm_risk_01 import StockTradingEnv as StockTradingEnv_llm_risk_01\n",
    "\n",
    "#from env_stocktrading_llm import StockTradingEnv as StockTradingEnv_llm\n",
    "\n",
    "#from env_stocktrading_llm_risk import StockTradingEnv as StockTradingEnv_llm_risk\n",
    "\n",
    "\n",
    "#from finrl.meta.env_stock_trading.env_stocktrading_llm import StockTradingEnv\n",
    "from finrl.meta.preprocessor.yahoodownloader import YahooDownloader\n",
    "\n",
    "\n",
    "from datasets import load_dataset\n",
    "\n",
    "%matplotlib inline"
   ]
  },
  {
   "cell_type": "markdown",
   "metadata": {
    "id": "HMsiawUhrNyT"
   },
   "source": [
    "# Part2.Backtesting"
   ]
  },
  {
   "cell_type": "code",
   "execution_count": null,
   "metadata": {
    "colab": {
     "base_uri": "https://localhost:8080/",
     "height": 407,
     "referenced_widgets": [
      "74788b87a3b843e9b61c6c65e35b8034",
      "af45313bd95442ce8d6dbb4041ca9a6f",
      "30c811d6807246f38485686400ed1087",
      "677ea19031c941ccb624ce2f7357abfc",
      "c81055b314a5474890ec2ab2888a4a01",
      "e413c5146e824678a3384f8bfd239554",
      "d71537f2fa804cf391a5adb61e97c44f",
      "8968d88431864300a829d5deef0d6426",
      "83cbcf79ceb045ceac2aa17ddf0902f2",
      "fdfd16a9612744d08cff5199ec12ef5e",
      "ce60979713f3494c9515edcb6b47d8d0",
      "7085b52c12a74a519a59f76a5fe7e5ca",
      "c29b135307e74f2fa212968c794b3206",
      "9bfb6883df5a4e34a06fe22138e79741",
      "7362c0ece3674999bfae76c33666ff99",
      "24da682c1bff4b5d9cdfb82c39aedf35",
      "fea49cdb52a2414682060231e96fda75",
      "fbb86f61b0e143d9b5e29f056763c90b",
      "29475fe6468444fd9d19bd4e1fca532d",
      "ba9712385e1f45fe8287003922ba130d",
      "6919fec67f184226bc4deb3ea4c539f3",
      "86c672d0480c45849ff82f263305024f",
      "8489ef27d9eb45a2921d6ff9ebb3d9e6",
      "c035e24e3efd44299d4e78af97556a75",
      "c85d9ccf364f47e58217661f2117480a",
      "c4a8ab3fe3e94f8b816c46f1d6b8fc7b",
      "927fe0b86e85424d884137cdb88da28d",
      "5c8c4585c1b74871a26092067327e564",
      "776ec41e40ab4835a99ddcb63a47812f",
      "7e4a427544f9466a84ff011ead5141b8",
      "a701a051310d4a04be51a5353b755bf5",
      "2e47fc4fba4c4f55a34bf2881b01ca5b",
      "7b21985f64f24a09aff18a93f679399d"
     ]
    },
    "executionInfo": {
     "elapsed": 24861,
     "status": "ok",
     "timestamp": 1744739775334,
     "user": {
      "displayName": "Huma Ameer",
      "userId": "09038294176164290895"
     },
     "user_tz": -300
    },
    "id": "WqMAWD88rM0d",
    "outputId": "8f276053-80af-4538-f8a1-95748fdef4aa"
   },
   "outputs": [],
   "source": [
    "# from Huggging Face :\n",
    "dataset = load_dataset(\"benstaf/nasdaq_2013_2023\", data_files='trade_data_deepseek_sentiment_2019_2023.csv')\n",
    "\n",
    "# Convert to pandas DataFrame\n",
    "trade = pd.DataFrame(dataset['train'])\n",
    "\n",
    "#trade= pd.read_csv('/content/machine_learning/trade_data_qwen_sentiment.csv')\n",
    "\n",
    "trade = trade.drop('Unnamed: 0',axis=1)\n",
    "\n",
    "# Create a new index based on unique dates\n",
    "unique_dates = trade['date'].unique()\n",
    "date_to_idx = {date: idx for idx, date in enumerate(unique_dates)}\n",
    "\n",
    "# Create new index based on the date mapping\n",
    "trade['new_idx'] = trade['date'].map(date_to_idx)\n",
    "\n",
    "# Set this as the index\n",
    "trade = trade.set_index('new_idx')\n",
    "\n",
    "\n",
    "#missing values with 0\n",
    "trade['llm_sentiment'].fillna(0, inplace=True)\n",
    "trade_llm=trade.copy()"
   ]
  },
  {
   "cell_type": "markdown",
   "metadata": {
    "id": "lMh8V2RssXlh"
   },
   "source": [
    "###  Reducing size from 84 to 8 companies"
   ]
  },
  {
   "cell_type": "code",
   "execution_count": null,
   "metadata": {
    "id": "WGh0qd1OsSoL"
   },
   "outputs": [],
   "source": [
    "tickers = ['AMD', 'ADBE', 'PYPL', 'CSCO', 'NFLX', 'NVDA', 'EBAY', 'MNST', 'GOOGL']\n",
    "trade = trade[\n",
    "    (trade['tic'].isin(tickers))\n",
    "].sort_values(by='date')\n",
    "\n",
    "# Step 3: Create a mapping from unique dates to a new index\n",
    "date_to_idx = {date: idx for idx, date in enumerate(sorted(trade['date'].unique()))}\n",
    "\n",
    "# Step 4: Map that to a new column\n",
    "trade['new_idx'] = trade['date'].map(date_to_idx)\n",
    "\n",
    "# Step 5: Set new_idx as the actual DataFrame index\n",
    "trade.set_index('new_idx', inplace=True)"
   ]
  },
  {
   "cell_type": "code",
   "execution_count": null,
   "metadata": {
    "id": "E1HjZaq5sUr8"
   },
   "outputs": [],
   "source": [
    "if 'new_idx' in trade.columns:\n",
    "    trade.drop(columns='new_idx', inplace=True)"
   ]
  },
  {
   "cell_type": "code",
   "execution_count": null,
   "metadata": {
    "colab": {
     "base_uri": "https://localhost:8080/",
     "height": 344
    },
    "executionInfo": {
     "elapsed": 220,
     "status": "ok",
     "timestamp": 1744739808413,
     "user": {
      "displayName": "Huma Ameer",
      "userId": "09038294176164290895"
     },
     "user_tz": -300
    },
    "id": "fqozQzezsdqq",
    "outputId": "f911e169-02b4-4a17-dd10-9070300ce9c8"
   },
   "outputs": [],
   "source": [
    "trade.head()"
   ]
  },
  {
   "cell_type": "code",
   "execution_count": null,
   "metadata": {
    "colab": {
     "base_uri": "https://localhost:8080/"
    },
    "executionInfo": {
     "elapsed": 9,
     "status": "ok",
     "timestamp": 1744739809411,
     "user": {
      "displayName": "Huma Ameer",
      "userId": "09038294176164290895"
     },
     "user_tz": -300
    },
    "id": "0iUi6s0FseAq",
    "outputId": "2085d8d3-b81f-4209-8ef6-058018143e98"
   },
   "outputs": [],
   "source": [
    "trade.shape"
   ]
  },
  {
   "cell_type": "code",
   "execution_count": null,
   "metadata": {
    "id": "HEkuL05dsf_r"
   },
   "outputs": [],
   "source": [
    "trade_llm=trade.copy()"
   ]
  },
  {
   "cell_type": "code",
   "execution_count": null,
   "metadata": {
    "colab": {
     "base_uri": "https://localhost:8080/",
     "height": 344
    },
    "executionInfo": {
     "elapsed": 101,
     "status": "ok",
     "timestamp": 1744739810984,
     "user": {
      "displayName": "Huma Ameer",
      "userId": "09038294176164290895"
     },
     "user_tz": -300
    },
    "id": "BmbWE8f6shp_",
    "outputId": "c0838165-2260-42e6-8c19-d468eb108561"
   },
   "outputs": [],
   "source": [
    "trade_llm.head()"
   ]
  },
  {
   "cell_type": "code",
   "execution_count": null,
   "metadata": {
    "colab": {
     "base_uri": "https://localhost:8080/"
    },
    "executionInfo": {
     "elapsed": 34,
     "status": "ok",
     "timestamp": 1744739811722,
     "user": {
      "displayName": "Huma Ameer",
      "userId": "09038294176164290895"
     },
     "user_tz": -300
    },
    "id": "aTyuokJ-sjEQ",
    "outputId": "cb3aec88-8ce8-470f-de5d-0d43431c318e"
   },
   "outputs": [],
   "source": [
    "len(trade_llm['date'].unique())"
   ]
  },
  {
   "cell_type": "markdown",
   "metadata": {
    "id": "RIeSj56ssl2Z"
   },
   "source": [
    "### Continue with base code"
   ]
  },
  {
   "cell_type": "markdown",
   "metadata": {
    "id": "zyJXbCxss2eG"
   },
   "source": [
    "### Trading (Out-of-sample Performance)\n",
    "\n",
    "We update periodically in order to take full advantage of the data, e.g., retrain quarterly, monthly or weekly. We also tune the parameters along the way, in this notebook we use the in-sample data from 2009-01 to 2020-07 to tune the parameters once, so there is some alpha decay here as the length of trade date extends.\n",
    "\n",
    "Numerous hyperparameters – e.g. the learning rate, the total number of samples to train on – influence the learning process and are usually determined by testing some variations."
   ]
  },
  {
   "cell_type": "code",
   "execution_count": null,
   "metadata": {
    "colab": {
     "base_uri": "https://localhost:8080/"
    },
    "executionInfo": {
     "elapsed": 34,
     "status": "ok",
     "timestamp": 1744739814112,
     "user": {
      "displayName": "Huma Ameer",
      "userId": "09038294176164290895"
     },
     "user_tz": -300
    },
    "id": "Y9LFQALgs1jv",
    "outputId": "644a1145-f21a-4d24-d2cd-8f0719fab4f6"
   },
   "outputs": [],
   "source": [
    "stock_dimension_llm = len(trade_llm.tic.unique())\n",
    "state_space_llm = 1 + 2 * stock_dimension_llm + (1+len(INDICATORS)) * stock_dimension_llm #+ stock_dimension # +LLM sentiment\n",
    "print(f\"Stock Dimension: {stock_dimension_llm}, State Space: {state_space_llm}\")\n"
   ]
  },
  {
   "cell_type": "code",
   "execution_count": null,
   "metadata": {
    "id": "6TGtFgL0slMd"
   },
   "outputs": [],
   "source": [
    "buy_cost_list_llm = sell_cost_list_llm = [0.001] * stock_dimension_llm\n",
    "num_stock_shares_llm = [0] * stock_dimension_llm\n",
    "#Environment indicators + sentiments\n",
    "env_kwargs_llm = {\n",
    "    \"hmax\": 100,\n",
    "    \"initial_amount\": 1000000,\n",
    "    \"num_stock_shares\": num_stock_shares_llm,\n",
    "    \"buy_cost_pct\": buy_cost_list_llm,\n",
    "    \"sell_cost_pct\": sell_cost_list_llm,\n",
    "    \"state_space\": state_space_llm,\n",
    "    \"stock_dim\": stock_dimension_llm,\n",
    "    \"tech_indicator_list\": INDICATORS,\n",
    "    \"action_space\": stock_dimension_llm,\n",
    "    \"reward_scaling\": 1e-4\n",
    "}"
   ]
  },
  {
   "cell_type": "code",
   "execution_count": null,
   "metadata": {
    "id": "21iUAq3es-IJ"
   },
   "outputs": [],
   "source": [
    "e_trade_llm_gym = StockTradingEnv_llm(df = trade_llm, turbulence_threshold = 70,risk_indicator_col='vix', **env_kwargs_llm)\n",
    "# env_trade, obs_trade = e_trade_gym.get_sb_env()"
   ]
  },
  {
   "cell_type": "code",
   "execution_count": null,
   "metadata": {
    "id": "jy4jC1aEtAEG"
   },
   "outputs": [],
   "source": [
    "observation_space_llm=e_trade_llm_gym.observation_space\n",
    "action_space_llm=e_trade_llm_gym.action_space"
   ]
  },
  {
   "cell_type": "code",
   "execution_count": null,
   "metadata": {
    "colab": {
     "base_uri": "https://localhost:8080/"
    },
    "executionInfo": {
     "elapsed": 6,
     "status": "ok",
     "timestamp": 1744739817052,
     "user": {
      "displayName": "Huma Ameer",
      "userId": "09038294176164290895"
     },
     "user_tz": -300
    },
    "id": "0-2Y5fQ-tCl4",
    "outputId": "d458d7b5-20cd-43d3-9519-0e5e33a93e74"
   },
   "outputs": [],
   "source": [
    "print(\"observation shape:\", observation_space_llm.shape)"
   ]
  },
  {
   "cell_type": "code",
   "execution_count": null,
   "metadata": {
    "colab": {
     "base_uri": "https://localhost:8080/"
    },
    "executionInfo": {
     "elapsed": 5,
     "status": "ok",
     "timestamp": 1744739817815,
     "user": {
      "displayName": "Huma Ameer",
      "userId": "09038294176164290895"
     },
     "user_tz": -300
    },
    "id": "-vl4YYPdtE03",
    "outputId": "b04daccb-64ea-4952-dfad-8c50c3c9c812"
   },
   "outputs": [],
   "source": [
    "print(\"action shape:\", action_space_llm.shape)"
   ]
  },
  {
   "cell_type": "code",
   "execution_count": null,
   "metadata": {
    "id": "gVVBKedztGeG"
   },
   "outputs": [],
   "source": [
    "\n",
    "import numpy as np\n",
    "import scipy.signal\n",
    "from gymnasium.spaces import Box, Discrete\n",
    "\n",
    "import torch\n",
    "import torch.nn as nn\n",
    "from torch.distributions.normal import Normal\n",
    "from torch.distributions.categorical import Categorical\n",
    "\n",
    "\n",
    "def combined_shape(length, shape=None):\n",
    "    if shape is None:\n",
    "        return (length,)\n",
    "    return (length, shape) if np.isscalar(shape) else (length, *shape)\n",
    "\n",
    "\n",
    "def mlp(sizes, activation, output_activation=nn.Identity):\n",
    "    layers = []\n",
    "    for j in range(len(sizes)-1):\n",
    "        act = activation if j < len(sizes)-2 else output_activation\n",
    "        layers += [nn.Linear(sizes[j], sizes[j+1]), act()]\n",
    "    return nn.Sequential(*layers)\n",
    "\n",
    "\n",
    "def count_vars(module):\n",
    "    return sum([np.prod(p.shape) for p in module.parameters()])\n",
    "\n",
    "\n",
    "def discount_cumsum(x, discount):\n",
    "    \"\"\"\n",
    "    magic from rllab for computing discounted cumulative sums of vectors.\n",
    "\n",
    "    input:\n",
    "        vector x,\n",
    "        [x0,\n",
    "         x1,\n",
    "         x2]\n",
    "\n",
    "    output:\n",
    "        [x0 + discount * x1 + discount^2 * x2,\n",
    "         x1 + discount * x2,\n",
    "         x2]\n",
    "    \"\"\"\n",
    "    return scipy.signal.lfilter([1], [1, float(-discount)], x[::-1], axis=0)[::-1]\n",
    "\n",
    "\n",
    "class Actor(nn.Module):\n",
    "\n",
    "    def _distribution(self, obs):\n",
    "        raise NotImplementedError\n",
    "\n",
    "    def _log_prob_from_distribution(self, pi, act):\n",
    "        raise NotImplementedError\n",
    "\n",
    "    def forward(self, obs, act=None):\n",
    "        # Produce action distributions for given observations, and\n",
    "        # optionally compute the log likelihood of given actions under\n",
    "        # those distributions.\n",
    "        pi = self._distribution(obs)\n",
    "        logp_a = None\n",
    "        if act is not None:\n",
    "            logp_a = self._log_prob_from_distribution(pi, act)\n",
    "        return pi, logp_a\n",
    "\n",
    "\n",
    "class MLPCategoricalActor(Actor):\n",
    "\n",
    "    def __init__(self, obs_dim, act_dim, hidden_sizes, activation):\n",
    "        super().__init__()\n",
    "        self.logits_net = mlp([obs_dim] + list(hidden_sizes) + [act_dim], activation)\n",
    "\n",
    "    def _distribution(self, obs):\n",
    "        logits = self.logits_net(obs)\n",
    "        return Categorical(logits=logits)\n",
    "\n",
    "    def _log_prob_from_distribution(self, pi, act):\n",
    "        return pi.log_prob(act)\n",
    "\n",
    "\n",
    "class MLPGaussianActor(Actor):\n",
    "\n",
    "    def __init__(self, obs_dim, act_dim, hidden_sizes, activation):\n",
    "        super().__init__()\n",
    "        log_std = -0.5 * np.ones(act_dim, dtype=np.float32)\n",
    "        self.log_std = torch.nn.Parameter(torch.as_tensor(log_std))\n",
    "        self.mu_net = mlp([obs_dim] + list(hidden_sizes) + [act_dim], activation)\n",
    "\n",
    "    def _distribution(self, obs):\n",
    "        mu = self.mu_net(obs)\n",
    "        std = torch.exp(self.log_std)\n",
    "        return Normal(mu, std)\n",
    "\n",
    "    def _log_prob_from_distribution(self, pi, act):\n",
    "        return pi.log_prob(act).sum(axis=-1)    # Last axis sum needed for Torch Normal distribution\n",
    "\n",
    "\n",
    "class MLPCritic(nn.Module):\n",
    "\n",
    "    def __init__(self, obs_dim, hidden_sizes, activation):\n",
    "        super().__init__()\n",
    "        self.v_net = mlp([obs_dim] + list(hidden_sizes) + [1], activation)\n",
    "\n",
    "    def forward(self, obs):\n",
    "        return torch.squeeze(self.v_net(obs), -1) # Critical to ensure v has right shape.\n",
    "\n",
    "\n",
    "\n",
    "class MLPActorCritic(nn.Module):\n",
    "    def __init__(self, observation_space, action_space,\n",
    "                 hidden_sizes=(64, 64), activation=nn.Tanh):\n",
    "        super().__init__()\n",
    "\n",
    "        obs_dim = observation_space.shape[0]\n",
    "\n",
    "        # policy builder depends on action space\n",
    "        if isinstance(action_space, Box):\n",
    "            self.pi = MLPGaussianActor(obs_dim, action_space.shape[0], hidden_sizes, activation)\n",
    "        elif isinstance(action_space, Discrete):\n",
    "            self.pi = MLPCategoricalActor(obs_dim, action_space.n, hidden_sizes, activation)\n",
    "\n",
    "        # build value function\n",
    "        self.v = MLPCritic(obs_dim, hidden_sizes, activation)\n",
    "\n",
    "    def step(self, obs):\n",
    "        with torch.no_grad():\n",
    "            pi = self.pi._distribution(obs)\n",
    "            a = pi.sample()\n",
    "            logp_a = self.pi._log_prob_from_distribution(pi, a)\n",
    "            v = self.v(obs)\n",
    "        return a.numpy(), v.numpy(), logp_a.numpy()\n",
    "\n",
    "    def act(self, obs):\n",
    "        return self.step(obs)[0]"
   ]
  },
  {
   "cell_type": "code",
   "execution_count": null,
   "metadata": {
    "colab": {
     "base_uri": "https://localhost:8080/"
    },
    "executionInfo": {
     "elapsed": 107,
     "status": "ok",
     "timestamp": 1744739819544,
     "user": {
      "displayName": "Huma Ameer",
      "userId": "09038294176164290895"
     },
     "user_tz": -300
    },
    "id": "PPwerTR0tIwP",
    "outputId": "cc1d275e-80c0-45c4-aa6d-6339951cb519"
   },
   "outputs": [],
   "source": [
    "!dir"
   ]
  },
  {
   "cell_type": "markdown",
   "metadata": {
    "id": "DwASPQydtXTQ"
   },
   "source": [
    "finRL_working_subset_train_ppo_llm_50_epochs_8k_steps_"
   ]
  },
  {
   "cell_type": "code",
   "execution_count": null,
   "metadata": {
    "colab": {
     "base_uri": "https://localhost:8080/"
    },
    "executionInfo": {
     "elapsed": 2964,
     "status": "ok",
     "timestamp": 1744739824758,
     "user": {
      "displayName": "Huma Ameer",
      "userId": "09038294176164290895"
     },
     "user_tz": -300
    },
    "id": "GSZyOGCKtLEM",
    "outputId": "e4bcea94-5c29-4f0f-946b-d3a9071803ca"
   },
   "outputs": [],
   "source": [
    "# Load the model\n",
    "loaded_ppo_llm = MLPActorCritic(observation_space_llm,action_space_llm, hidden_sizes=(512, 512))\n",
    "\n",
    "loaded_ppo_llm.load_state_dict(torch.load('/content/drive/MyDrive/FinRL/finrl_ppo_models/finRL_working_subset_train_ppo_llm_50_epochs_8k_steps_01_.pth'))\n",
    "\n",
    "loaded_ppo_llm.eval()  # Set the model to evaluation mode"
   ]
  },
  {
   "cell_type": "markdown",
   "metadata": {
    "id": "lcVP4OFoteej"
   },
   "source": [
    "MIST_1_ppo_deepseek_50_epochs_8k_steps_01"
   ]
  },
  {
   "cell_type": "code",
   "execution_count": null,
   "metadata": {
    "colab": {
     "base_uri": "https://localhost:8080/"
    },
    "executionInfo": {
     "elapsed": 1183,
     "status": "ok",
     "timestamp": 1744739828936,
     "user": {
      "displayName": "Huma Ameer",
      "userId": "09038294176164290895"
     },
     "user_tz": -300
    },
    "id": "Yeudla-_tQ5v",
    "outputId": "d661e682-7ae7-42d0-a495-6f2637e42f3f"
   },
   "outputs": [],
   "source": [
    "# Load the model\n",
    "loaded_ppo_llm_mist = MLPActorCritic(observation_space_llm,action_space_llm, hidden_sizes=(512, 512))\n",
    "\n",
    "loaded_ppo_llm_mist.load_state_dict(torch.load('/content/drive/MyDrive/FinRL/finrl_ppo_models/MIST_1_ppo_deepseek_50_epochs_8k_steps_01_cpu.pth'))\n",
    "\n",
    "\n",
    "loaded_ppo_llm_mist.eval()  # Set the model to evaluation mode"
   ]
  },
  {
   "cell_type": "code",
   "execution_count": null,
   "metadata": {
    "id": "cSjCqYVWtWJC"
   },
   "outputs": [],
   "source": [
    "\n",
    "def DRL_prediction(act, environment):\n",
    "    import torch\n",
    "    _torch = torch\n",
    "\n",
    "    state, _ = environment.reset()\n",
    "    account_memory = []  # To store portfolio values\n",
    "    actions_memory = []  # To store actions taken\n",
    "    portfolio_distribution = []  # To store portfolio distribution\n",
    "    episode_total_assets = [environment.initial_amount]\n",
    "\n",
    "    with _torch.no_grad():\n",
    "        for i in range(len(environment.df.index.unique())):\n",
    "            s_tensor = _torch.as_tensor((state,), dtype=torch.float32, device=torch.device(\"cuda\" if torch.cuda.is_available() else \"cpu\"))\n",
    "            a_tensor, _, _ = act.step(s_tensor)  # Compute action\n",
    "            action = a_tensor[0]  # Extract action\n",
    "\n",
    "            # Step through the environment\n",
    "            state, reward, done, _, _ = environment.step(action)\n",
    "\n",
    "            # Get stock prices for the current day\n",
    "            price_array = environment.df.loc[environment.day, \"close\"].values\n",
    "\n",
    "            # Stock holdings and cash balance\n",
    "            stock_holdings = environment.num_stock_shares\n",
    "            cash_balance = environment.asset_memory[-1]\n",
    "\n",
    "            # Calculate total portfolio value\n",
    "            total_asset = cash_balance + (price_array * stock_holdings).sum()\n",
    "\n",
    "            # Calculate portfolio distribution\n",
    "            stock_values = price_array * stock_holdings\n",
    "            total_invested = stock_values.sum()\n",
    "            distribution = stock_values / total_asset  # Fraction of each stock in the total portfolio\n",
    "            cash_fraction = cash_balance / total_asset\n",
    "\n",
    "            # Store results\n",
    "            episode_total_assets.append(total_asset)\n",
    "            account_memory.append(total_asset)\n",
    "            actions_memory.append(action)\n",
    "            portfolio_distribution.append({\"cash\": cash_fraction, \"stocks\": distribution.tolist()})\n",
    "\n",
    "       #     print(\"Total Asset Value:\", total_asset)\n",
    "        #    print(\"Portfolio Distribution:\", {\"cash\": cash_fraction, \"stocks\": distribution.tolist()})\n",
    "\n",
    "            if done:\n",
    "                break\n",
    "\n",
    "    print(\"Test Finished!\")\n",
    "    return episode_total_assets, account_memory, actions_memory, portfolio_distribution"
   ]
  },
  {
   "cell_type": "code",
   "execution_count": null,
   "metadata": {
    "colab": {
     "base_uri": "https://localhost:8080/"
    },
    "executionInfo": {
     "elapsed": 13870,
     "status": "ok",
     "timestamp": 1744739844156,
     "user": {
      "displayName": "Huma Ameer",
      "userId": "09038294176164290895"
     },
     "user_tz": -300
    },
    "id": "f5IRDCWftkOh",
    "outputId": "e1a4a767-551e-4b5d-e6e2-713b579055f2"
   },
   "outputs": [],
   "source": [
    "df_assets_ppo_llm, df_account_value_ppo_llm, df_actions_ppo_llm, df_portfolio_distribution_ppo_llm = DRL_prediction(act=loaded_ppo_llm, environment=e_trade_llm_gym)"
   ]
  },
  {
   "cell_type": "markdown",
   "metadata": {
    "id": "hnrIWUt0u38E"
   },
   "source": [
    "# Part 4: NASDAQ 100 index"
   ]
  },
  {
   "cell_type": "code",
   "execution_count": null,
   "metadata": {
    "id": "B1Z1KTrPtnZR"
   },
   "outputs": [],
   "source": [
    "TRAIN_START_DATE = '2013-01-01'\n",
    "TRAIN_END_DATE = '2018-12-31'\n",
    "TRADE_START_DATE = '2019-01-01'\n",
    "TRADE_END_DATE = '2023-12-31'"
   ]
  },
  {
   "cell_type": "code",
   "execution_count": null,
   "metadata": {
    "colab": {
     "base_uri": "https://localhost:8080/"
    },
    "executionInfo": {
     "elapsed": 365,
     "status": "ok",
     "timestamp": 1744739875509,
     "user": {
      "displayName": "Huma Ameer",
      "userId": "09038294176164290895"
     },
     "user_tz": -300
    },
    "id": "-icpemtxu6x8",
    "outputId": "f66d7599-8c11-4183-b8a1-e5a711bcc5eb"
   },
   "outputs": [],
   "source": [
    "df_dji = YahooDownloader(\n",
    "    start_date=TRADE_START_DATE, end_date=TRADE_END_DATE, ticker_list=[\"ndx\"]\n",
    ").fetch_data()"
   ]
  },
  {
   "cell_type": "code",
   "execution_count": null,
   "metadata": {
    "colab": {
     "base_uri": "https://localhost:8080/"
    },
    "executionInfo": {
     "elapsed": 16,
     "status": "ok",
     "timestamp": 1744739876419,
     "user": {
      "displayName": "Huma Ameer",
      "userId": "09038294176164290895"
     },
     "user_tz": -300
    },
    "id": "j1XafMTswP6K",
    "outputId": "7558738e-5a6c-4965-9a18-d44f7083260f"
   },
   "outputs": [],
   "source": [
    "len(df_dji)"
   ]
  },
  {
   "cell_type": "code",
   "execution_count": null,
   "metadata": {
    "colab": {
     "base_uri": "https://localhost:8080/",
     "height": 1000
    },
    "executionInfo": {
     "elapsed": 41,
     "status": "ok",
     "timestamp": 1744739876908,
     "user": {
      "displayName": "Huma Ameer",
      "userId": "09038294176164290895"
     },
     "user_tz": -300
    },
    "id": "UlbIC8_iwRyw",
    "outputId": "7b11d279-6619-490a-e3f6-5e41c16a198a"
   },
   "outputs": [],
   "source": [
    "df_dji[:50]"
   ]
  },
  {
   "cell_type": "code",
   "execution_count": null,
   "metadata": {
    "id": "OUlAHJRcwTlv"
   },
   "outputs": [],
   "source": [
    "df_dji = df_dji[[\"date\", \"close\"]]\n",
    "fst_day = df_dji[\"close\"][0]\n",
    "dji = pd.merge(\n",
    "    df_dji[\"date\"],\n",
    "    df_dji[\"close\"].div(fst_day).mul(1000000),\n",
    "    how=\"outer\",\n",
    "    left_index=True,\n",
    "    right_index=True,\n",
    ").set_index(\"date\")"
   ]
  },
  {
   "cell_type": "code",
   "execution_count": null,
   "metadata": {
    "colab": {
     "base_uri": "https://localhost:8080/",
     "height": 237
    },
    "executionInfo": {
     "elapsed": 36,
     "status": "ok",
     "timestamp": 1744739878189,
     "user": {
      "displayName": "Huma Ameer",
      "userId": "09038294176164290895"
     },
     "user_tz": -300
    },
    "id": "f7f_RzAIwtQO",
    "outputId": "f62357d8-baa0-4db7-ec8c-329c8020541c"
   },
   "outputs": [],
   "source": [
    "dji.head(5)"
   ]
  },
  {
   "cell_type": "code",
   "execution_count": null,
   "metadata": {
    "id": "pOhmETggw1bJ"
   },
   "outputs": [],
   "source": [
    "fst_day = df_dji[\"close\"].iloc[0]  # Safely get the first value\n",
    "df_dji_normalized_close = list(df_dji[\"close\"].div(fst_day).mul(1000000))"
   ]
  },
  {
   "cell_type": "code",
   "execution_count": null,
   "metadata": {
    "colab": {
     "base_uri": "https://localhost:8080/"
    },
    "executionInfo": {
     "elapsed": 5,
     "status": "ok",
     "timestamp": 1744739879288,
     "user": {
      "displayName": "Huma Ameer",
      "userId": "09038294176164290895"
     },
     "user_tz": -300
    },
    "id": "cEwJ-Z_XxGTA",
    "outputId": "048166c0-e767-4581-be26-31ccc42ed8dc"
   },
   "outputs": [],
   "source": [
    "#df_dji_normalized_close[0]\n",
    "len(df_dji_normalized_close),"
   ]
  },
  {
   "cell_type": "markdown",
   "metadata": {
    "id": "IoVR6xeMxg_X"
   },
   "source": [
    "<a id='4'></a>\n",
    "# Part 5: Backtesting Results\n",
    "Backtesting plays a key role in evaluating the performance of a trading strategy. Automated backtesting tool is preferred because it reduces the human error. We usually use the Quantopian pyfolio package to backtest our trading strategies. It is easy to use and consists of various individual plots that provide a comprehensive image of the performance of a trading strategy."
   ]
  },
  {
   "cell_type": "code",
   "execution_count": null,
   "metadata": {
    "id": "bhpfpdd-xM4E"
   },
   "outputs": [],
   "source": [
    "fst_day_ppo_llm = df_assets_ppo_llm[1]  # Safely get the first value\n",
    "df_assets_ppo_llm_series = pd.Series(df_assets_ppo_llm[1:])\n",
    "df_ppo_llm_normalized_close = list(df_assets_ppo_llm_series.div(fst_day_ppo_llm).mul(1000000))"
   ]
  },
  {
   "cell_type": "code",
   "execution_count": null,
   "metadata": {
    "colab": {
     "base_uri": "https://localhost:8080/"
    },
    "executionInfo": {
     "elapsed": 20,
     "status": "ok",
     "timestamp": 1744739882128,
     "user": {
      "displayName": "Huma Ameer",
      "userId": "09038294176164290895"
     },
     "user_tz": -300
    },
    "id": "fi6Y8uXNx92-",
    "outputId": "ef4d8b74-eb0e-462f-892d-946945166557"
   },
   "outputs": [],
   "source": [
    "len(trade['date'].drop_duplicates().values)"
   ]
  },
  {
   "cell_type": "code",
   "execution_count": null,
   "metadata": {
    "id": "brYI6oCJyEHE"
   },
   "outputs": [],
   "source": [
    "def filter_to_common_dates(trade, df_dji, df_assets_ppo, df_dji_normalized_close):\n",
    "    \"\"\"\n",
    "    Filters df_assets_ppo and df_dji_normalized_close based on the common dates from trade and df_dji.\n",
    "\n",
    "    Parameters:\n",
    "        trade (pd.DataFrame): DataFrame containing a 'date' column for the trade data.\n",
    "        df_dji (pd.DataFrame): DataFrame containing a 'date' column for DJI data.\n",
    "        df_assets_ppo (list or array-like): Values corresponding to trade['date'].\n",
    "        df_dji_normalized_close (list or array-like): Values corresponding to df_dji['date'].\n",
    "\n",
    "    Returns:\n",
    "        pd.Series, pd.Series: Filtered series for df_assets_ppo and df_dji_normalized_close.\n",
    "    \"\"\"\n",
    "    # Extract unique trading dates from trade and DJI dates\n",
    "    trade_dates = pd.to_datetime(trade['date'].unique())\n",
    "    dji_dates = pd.to_datetime(df_dji['date'].unique())\n",
    "\n",
    "\n",
    "  #  first_date = trade_dates[0]\n",
    "   # date_before_first = first_date - pd.DateOffset(days=1)\n",
    "\n",
    "# Prepend the date before the first date to trade_dates\n",
    "    #trade_dates = pd.DatetimeIndex([date_before_first] + trade_dates.tolist())\n",
    "\n",
    "    # Convert inputs to pandas Series with their respective dates as indices\n",
    "    df_assets_ppo_series = pd.Series(df_assets_ppo, index=trade_dates)\n",
    "    df_dji_normalized_close_series = pd.Series(df_dji_normalized_close, index=dji_dates)\n",
    "\n",
    "    # Find the common dates\n",
    "    common_dates = trade_dates.intersection(dji_dates)\n",
    "\n",
    "    # Filter both series to the common dates\n",
    "    df_assets_ppo_filtered = df_assets_ppo_series.reindex(common_dates)\n",
    "    df_dji_normalized_close_filtered = df_dji_normalized_close_series.reindex(common_dates)\n",
    "\n",
    "    # Return the filtered series\n",
    "    return df_assets_ppo_filtered, df_dji_normalized_close_filtered, common_dates"
   ]
  },
  {
   "cell_type": "code",
   "execution_count": null,
   "metadata": {
    "id": "lSEvRpDtyP1D"
   },
   "outputs": [],
   "source": [
    "df_assets_ppo_llm_filtered, df_dji_normalized_close_filtered, common_dates = filter_to_common_dates(trade, df_dji, df_ppo_llm_normalized_close, df_dji_normalized_close)"
   ]
  },
  {
   "cell_type": "code",
   "execution_count": null,
   "metadata": {
    "colab": {
     "base_uri": "https://localhost:8080/"
    },
    "executionInfo": {
     "elapsed": 13,
     "status": "ok",
     "timestamp": 1744739885577,
     "user": {
      "displayName": "Huma Ameer",
      "userId": "09038294176164290895"
     },
     "user_tz": -300
    },
    "id": "CHEDPGrkyTl1",
    "outputId": "82b2b244-2968-4880-b9a7-a0259ee39068"
   },
   "outputs": [],
   "source": [
    "df_dji_normalized_close_filtered[1]"
   ]
  },
  {
   "cell_type": "code",
   "execution_count": null,
   "metadata": {
    "colab": {
     "base_uri": "https://localhost:8080/"
    },
    "executionInfo": {
     "elapsed": 51,
     "status": "ok",
     "timestamp": 1744739888701,
     "user": {
      "displayName": "Huma Ameer",
      "userId": "09038294176164290895"
     },
     "user_tz": -300
    },
    "id": "cgmAJMoTyWl9",
    "outputId": "6c25faf9-2957-495a-84bd-704060596e54"
   },
   "outputs": [],
   "source": [
    "result = pd.DataFrame(\n",
    "    {\n",
    "        \"PPO-DeepSeek 50 epochs\": df_assets_ppo_llm_filtered,\n",
    "      #  \"PPO-DeepSeek_MIST-1 epochs\": df_assets_ppo_llama_filtered,\n",
    "        \"Nasdaq-100 index\": df_dji_normalized_close_filtered,\n",
    "    }\n",
    ")\n",
    "\n",
    "# Display the result\n",
    "print(result)"
   ]
  },
  {
   "cell_type": "code",
   "execution_count": null,
   "metadata": {
    "colab": {
     "base_uri": "https://localhost:8080/",
     "height": 423
    },
    "executionInfo": {
     "elapsed": 31,
     "status": "ok",
     "timestamp": 1744739889465,
     "user": {
      "displayName": "Huma Ameer",
      "userId": "09038294176164290895"
     },
     "user_tz": -300
    },
    "id": "-CYUc9r6Fuo-",
    "outputId": "bc90018e-d52e-47b4-f4fb-8e742d7c4472"
   },
   "outputs": [],
   "source": [
    "result"
   ]
  },
  {
   "cell_type": "code",
   "execution_count": null,
   "metadata": {
    "id": "V3-IhrqfFdCL"
   },
   "outputs": [],
   "source": [
    "result.to_csv('/content/ppo_deepseek_output_vs_nasdaq_100_index.csv')"
   ]
  },
  {
   "cell_type": "code",
   "execution_count": null,
   "metadata": {
    "id": "o5jQ93dFy1D-"
   },
   "outputs": [],
   "source": [
    "\n",
    "import numpy as np\n",
    "import pandas as pd\n",
    "import matplotlib.pyplot as plt\n",
    "%matplotlib inline\n",
    "\n",
    "# Utility Functions\n",
    "def calculate_metric(returns_strategy, returns_benchmark, confidence_level=0.05, upside_confidence=0.95):\n",
    "    \"\"\"Calculate performance metrics: IR, CVaR, and Rachev Ratio.\"\"\"\n",
    "    excess_return = returns_strategy - returns_benchmark\n",
    "    ir = excess_return.mean() / excess_return.std()\n",
    "    var = np.percentile(returns_strategy, confidence_level * 100)\n",
    "    cvar = returns_strategy[returns_strategy <= var].mean()\n",
    "    upside_var = np.percentile(returns_strategy, upside_confidence * 100)\n",
    "    downside_var = var\n",
    "    rachev_ratio = returns_strategy[returns_strategy >= upside_var].mean() / abs(returns_strategy[returns_strategy <= downside_var].mean())\n",
    "    return {\"Information Ratio\": ir, \"CVaR\": cvar, \"Rachev Ratio\": rachev_ratio}\n",
    "\n",
    "def align_returns(result, col_strategy, col_benchmark):\n",
    "    \"\"\"Align returns for strategy and benchmark.\"\"\"\n",
    "    returns_strategy = result[col_strategy].pct_change().dropna()\n",
    "    returns_benchmark = result[col_benchmark].pct_change().dropna()\n",
    "    return returns_strategy.align(returns_benchmark, join=\"inner\")\n",
    "\n",
    "# Metrics Calculation\n",
    "def compute_metrics(result, strategies, benchmark, confidence_level=0.05, upside_confidence=0.95):\n",
    "    \"\"\"\n",
    "    Compute metrics for multiple strategies compared to a benchmark.\n",
    "\n",
    "    Parameters:\n",
    "        result (pd.DataFrame): DataFrame with strategies and benchmark columns.\n",
    "        strategies (list): List of strategy column names.\n",
    "        benchmark (str): Benchmark column name.\n",
    "        confidence_level (float): Confidence level for CVaR calculation.\n",
    "        upside_confidence (float): Confidence level for upside in Rachev Ratio.\n",
    "\n",
    "    Returns:\n",
    "        dict: Performance metrics for each strategy.\n",
    "    \"\"\"\n",
    "    metrics = {}\n",
    "    for strategy in strategies:\n",
    "        aligned_strategy, aligned_benchmark = align_returns(result, strategy, benchmark)\n",
    "        metrics[strategy] = calculate_metric(\n",
    "            aligned_strategy, aligned_benchmark, confidence_level, upside_confidence\n",
    "        )\n",
    "    return metrics\n",
    "\n",
    "# Plotting\n",
    "def plot_cumulative_returns(result, metrics, strategies, benchmark):\n",
    "    \"\"\"\n",
    "    Plot cumulative returns for strategies and benchmark with annotated metrics.\n",
    "\n",
    "    Parameters:\n",
    "        result (pd.DataFrame): DataFrame with strategies and benchmark.\n",
    "        metrics (dict): Performance metrics.\n",
    "        strategies (list): List of strategy column names.\n",
    "        benchmark (str): Benchmark column name.\n",
    "    \"\"\"\n",
    "    plt.figure(figsize=(12, 6))\n",
    "    for strategy in strategies:\n",
    "        cumulative_returns = (1 + result[strategy].pct_change().dropna()).cumprod()\n",
    "        plt.plot(cumulative_returns, label=f\"{strategy}\")\n",
    "    cumulative_benchmark = (1 + result[benchmark].pct_change().dropna()).cumprod()\n",
    "    plt.plot(cumulative_benchmark, label=f\"{benchmark} (Benchmark)\")\n",
    "    plt.title(\"Cumulative Returns with Performance Metrics\")\n",
    "    plt.legend()\n",
    "    plt.xlabel(\"Date\")\n",
    "    plt.ylabel(\"Cumulative Return\")\n",
    "    plt.grid()\n",
    "    plt.show()"
   ]
  },
  {
   "cell_type": "code",
   "execution_count": null,
   "metadata": {
    "colab": {
     "base_uri": "https://localhost:8080/",
     "height": 637
    },
    "executionInfo": {
     "elapsed": 533,
     "status": "ok",
     "timestamp": 1744739892874,
     "user": {
      "displayName": "Huma Ameer",
      "userId": "09038294176164290895"
     },
     "user_tz": -300
    },
    "id": "3BZaVKsaz_GG",
    "outputId": "96a850d7-13e9-4362-d9a8-c24fb1e5bcda"
   },
   "outputs": [],
   "source": [
    "import numpy as np\n",
    "import pandas as pd\n",
    "import matplotlib.pyplot as plt\n",
    "%matplotlib inline\n",
    "\n",
    "# Utility Functions\n",
    "def calculate_metric(returns_strategy, returns_benchmark, confidence_level=0.05, upside_confidence=0.95):\n",
    "    \"\"\"Calculate performance metrics: IR, CVaR, and Rachev Ratio.\"\"\"\n",
    "    excess_return = returns_strategy - returns_benchmark\n",
    "    ir = excess_return.mean() / excess_return.std()\n",
    "    var = np.percentile(returns_strategy, confidence_level * 100)\n",
    "    cvar = returns_strategy[returns_strategy <= var].mean()\n",
    "    upside_var = np.percentile(returns_strategy, upside_confidence * 100)\n",
    "    downside_var = var\n",
    "    rachev_ratio = returns_strategy[returns_strategy >= upside_var].mean() / abs(returns_strategy[returns_strategy <= downside_var].mean())\n",
    "    return {\"Information Ratio\": ir, \"CVaR\": cvar, \"Rachev Ratio\": rachev_ratio}\n",
    "\n",
    "def align_returns(result, col_strategy, col_benchmark):\n",
    "    \"\"\"Align returns for strategy and benchmark.\"\"\"\n",
    "    returns_strategy = result[col_strategy].pct_change().dropna()\n",
    "    returns_benchmark = result[col_benchmark].pct_change().dropna()\n",
    "    return returns_strategy.align(returns_benchmark, join=\"inner\")\n",
    "\n",
    "# Metrics Calculation\n",
    "def compute_metrics(result, strategies, benchmark, confidence_level=0.05, upside_confidence=0.95):\n",
    "    \"\"\"\n",
    "    Compute metrics for multiple strategies compared to a benchmark.\n",
    "\n",
    "    Parameters:\n",
    "        result (pd.DataFrame): DataFrame with strategies and benchmark columns.\n",
    "        strategies (list): List of strategy column names.\n",
    "        benchmark (str): Benchmark column name.\n",
    "        confidence_level (float): Confidence level for CVaR calculation.\n",
    "        upside_confidence (float): Confidence level for upside in Rachev Ratio.\n",
    "\n",
    "    Returns:\n",
    "        dict: Performance metrics for each strategy.\n",
    "    \"\"\"\n",
    "    metrics = {}\n",
    "    for strategy in strategies:\n",
    "        aligned_strategy, aligned_benchmark = align_returns(result, strategy, benchmark)\n",
    "        metrics[strategy] = calculate_metric(\n",
    "            aligned_strategy, aligned_benchmark, confidence_level, upside_confidence\n",
    "        )\n",
    "    return metrics\n",
    "\n",
    "# Plotting\n",
    "def plot_cumulative_returns(result, metrics, strategies, benchmark):\n",
    "    \"\"\"\n",
    "    Plot cumulative returns for strategies and benchmark with annotated metrics.\n",
    "\n",
    "    Parameters:\n",
    "        result (pd.DataFrame): DataFrame with strategies and benchmark.\n",
    "        metrics (dict): Performance metrics.\n",
    "        strategies (list): List of strategy column names.\n",
    "        benchmark (str): Benchmark column name.\n",
    "    \"\"\"\n",
    "    plt.figure(figsize=(12, 6))\n",
    "    for strategy in strategies:\n",
    "        cumulative_returns = (1 + result[strategy].pct_change().dropna()).cumprod()\n",
    "        plt.plot(cumulative_returns, label=f\"{strategy}\")\n",
    "    cumulative_benchmark = (1 + result[benchmark].pct_change().dropna()).cumprod()\n",
    "    plt.plot(cumulative_benchmark, label=f\"{benchmark} (Benchmark)\")\n",
    "    plt.title(\"Cumulative Returns with Performance Metrics\")\n",
    "    plt.legend()\n",
    "    plt.xlabel(\"Date\")\n",
    "    plt.ylabel(\"Cumulative Return\")\n",
    "    plt.grid()\n",
    "    plt.show()\n",
    "\n",
    "# Example Usage\n",
    "# Assuming `result` DataFrame is prepared with \"PPO 25 epochs\", \"CPPO 25 epochs\", and \"Nasdaq-100 index\"\n",
    "strategies = [\n",
    "\n",
    "\"PPO-DeepSeek 50 epochs\",\n",
    "\n",
    "]\n",
    "#strategies = [\"PPO 20 epochs\", \"CPPO 20 epochs\", \"CPPO-DeepSeek 20 epochs\"]\n",
    "benchmark = \"Nasdaq-100 index\"\n",
    "metrics = compute_metrics(result, strategies, benchmark)\n",
    "plot_cumulative_returns(result, metrics, strategies, benchmark)\n",
    "\n",
    "# Print metrics\n",
    "for strategy, strategy_metrics in metrics.items():\n",
    "    print(f\"{strategy} Metrics:\")\n",
    "    for metric_name, value in strategy_metrics.items():\n",
    "        print(f\"  {metric_name}: {value:.4f}\")"
   ]
  },
  {
   "cell_type": "code",
   "execution_count": null,
   "metadata": {
    "colab": {
     "base_uri": "https://localhost:8080/",
     "height": 637
    },
    "executionInfo": {
     "elapsed": 594,
     "status": "ok",
     "timestamp": 1744739894343,
     "user": {
      "displayName": "Huma Ameer",
      "userId": "09038294176164290895"
     },
     "user_tz": -300
    },
    "id": "6E_rQAPx0ad9",
    "outputId": "9e7f4fdf-ac09-425f-f47b-16dba7301b49"
   },
   "outputs": [],
   "source": [
    "import numpy as np\n",
    "import pandas as pd\n",
    "import matplotlib.pyplot as plt\n",
    "%matplotlib inline\n",
    "\n",
    "def calculate_information_ratio(returns_strategy, returns_benchmark):\n",
    "    \"\"\"Calculate the Information Ratio (IR).\"\"\"\n",
    "    excess_return = returns_strategy - returns_benchmark\n",
    "    return excess_return.mean() / excess_return.std()\n",
    "\n",
    "def calculate_cvar(returns_strategy, confidence_level=0.05):\n",
    "    \"\"\"Calculate the Conditional Value at Risk (CVaR).\"\"\"\n",
    "    var = np.percentile(returns_strategy, confidence_level * 100)\n",
    "    return returns_strategy[returns_strategy <= var].mean()\n",
    "\n",
    "def calculate_rachev_ratio(returns_strategy, upside_confidence=0.95, downside_confidence=0.05):\n",
    "    \"\"\"Calculate the Rachev Ratio.\"\"\"\n",
    "    upside_var = np.percentile(returns_strategy, upside_confidence * 100)\n",
    "    downside_var = np.percentile(returns_strategy, downside_confidence * 100)\n",
    "    upside_mean = returns_strategy[returns_strategy >= upside_var].mean()\n",
    "    downside_mean = abs(returns_strategy[returns_strategy <= downside_var].mean())\n",
    "    return upside_mean / downside_mean\n",
    "\n",
    "def align_and_compute_metrics(result, confidence_level=0.05, upside_confidence=0.95):\n",
    "    \"\"\"\n",
    "    Align data for PPO, CPPO, and benchmark, and compute performance metrics.\n",
    "\n",
    "    Parameters:\n",
    "        result (pd.DataFrame): DataFrame with strategies and benchmark.\n",
    "        confidence_level (float): Confidence level for CVaR calculation.\n",
    "        upside_confidence (float): Confidence level for upside in Rachev Ratio.\n",
    "\n",
    "    Returns:\n",
    "        dict: Performance metrics for PPO and CPPO.\n",
    "    \"\"\"\n",
    "    # Calculate returns\n",
    "    returns_ppo = result[\"PPO-DeepSeek 50 epochs\"].pct_change().dropna()\n",
    "   # returns_cppo = result[\"CPPO 100 epochs\"].pct_change().dropna()\n",
    "    returns_benchmark = result[\"Nasdaq-100 index\"].pct_change().dropna()\n",
    "\n",
    "    # Align returns\n",
    "    returns_ppo, returns_benchmark_ppo = returns_ppo.align(returns_benchmark, join=\"inner\")\n",
    "\n",
    "\n",
    "    # Compute metrics\n",
    "    metrics = {\n",
    "        \"PPO\": {\n",
    "            \"Information Ratio\": calculate_information_ratio(returns_ppo, returns_benchmark_ppo),\n",
    "            \"CVaR\": calculate_cvar(returns_ppo, confidence_level),\n",
    "            \"Rachev Ratio\": calculate_rachev_ratio(returns_ppo, upside_confidence, confidence_level),\n",
    "        }\n",
    "    }\n",
    "    return metrics\n",
    "\n",
    "def plot_cumulative_returns(result, metrics):\n",
    "    \"\"\"\n",
    "    Plot cumulative returns for PPO, CPPO, and benchmark with annotated metrics.\n",
    "\n",
    "    Parameters:\n",
    "        result (pd.DataFrame): DataFrame with strategies and benchmark.\n",
    "        metrics (dict): Performance metrics.\n",
    "    \"\"\"\n",
    "    # Calculate cumulative returns\n",
    "    cumulative_ppo = (1 + result[\"PPO-DeepSeek 50 epochs\"].pct_change().dropna()).cumprod()\n",
    "\n",
    "    cumulative_benchmark = (1 + result[\"Nasdaq-100 index\"].pct_change().dropna()).cumprod()\n",
    "\n",
    "    # Plot\n",
    "    plt.figure(figsize=(12, 6))\n",
    "    plt.plot(cumulative_ppo, label=f\"PPO 50 epochs (IR={metrics['PPO']['Information Ratio']:.4f})\")\n",
    "\n",
    "    plt.plot(cumulative_benchmark, label=\"Nasdaq-100 index (Benchmark)\")\n",
    "    plt.title(\"Cumulative Returns with Performance Metrics\")\n",
    "    plt.legend()\n",
    "    plt.xlabel(\"Date\")\n",
    "    plt.ylabel(\"Cumulative Return\")\n",
    "    plt.grid()\n",
    "    plt.show()\n",
    "\n",
    "# Example Usage\n",
    "# Assuming `result` DataFrame is prepared with \"PPO 25 epochs\", \"CPPO 25 epochs\", and \"Nasdaq-100 index\"\n",
    "metrics = align_and_compute_metrics(result)\n",
    "plot_cumulative_returns(result, metrics)\n",
    "\n",
    "# Print metrics\n",
    "for strategy, strategy_metrics in metrics.items():\n",
    "    print(f\"{strategy} Metrics:\")\n",
    "    for metric_name, value in strategy_metrics.items():\n",
    "        print(f\"  {metric_name}: {value:.4f}\")"
   ]
  },
  {
   "cell_type": "code",
   "execution_count": null,
   "metadata": {
    "colab": {
     "base_uri": "https://localhost:8080/"
    },
    "executionInfo": {
     "elapsed": 8,
     "status": "ok",
     "timestamp": 1744739895104,
     "user": {
      "displayName": "Huma Ameer",
      "userId": "09038294176164290895"
     },
     "user_tz": -300
    },
    "id": "vwbB-nssAeLE",
    "outputId": "72169f92-7b1e-4748-b984-cbe81fc1452f"
   },
   "outputs": [],
   "source": [
    "print(df_dji.columns)"
   ]
  },
  {
   "cell_type": "code",
   "execution_count": null,
   "metadata": {
    "colab": {
     "base_uri": "https://localhost:8080/",
     "height": 537
    },
    "executionInfo": {
     "elapsed": 603,
     "status": "ok",
     "timestamp": 1744739896557,
     "user": {
      "displayName": "Huma Ameer",
      "userId": "09038294176164290895"
     },
     "user_tz": -300
    },
    "id": "UsQRApd6Al_H",
    "outputId": "517ce66f-826e-4ab5-9acb-071a18f67936"
   },
   "outputs": [],
   "source": [
    "# Step 1: Get unique trading dates from your trade data\n",
    "trade_dates = pd.to_datetime(trade['date'].unique())\n",
    "first_date = trade_dates[0]\n",
    "date_before_first = first_date - pd.DateOffset(days=1)\n",
    "trade_dates = pd.DatetimeIndex([date_before_first] + trade_dates.tolist())\n",
    "\n",
    "# Step 2: Reindex your strategy results to match the extended trading dates\n",
    "df_assets_ppo_series = pd.Series(df_assets_ppo_llm_filtered, index=trade_dates)\n",
    "\n",
    "# Step 3: Fix df_dji columns – remove column name and normalize\n",
    "df_dji.columns.name = None  # Remove 'Price' header name\n",
    "df_dji['date'] = pd.to_datetime(df_dji['date'])\n",
    "df_dji = df_dji.set_index('date')\n",
    "df_dji['normalized_close'] = df_dji['close'] / df_dji['close'].iloc[0]\n",
    "\n",
    "# Step 4: Align both series using common dates\n",
    "common_dates = trade_dates.intersection(df_dji.index)\n",
    "df_assets_ppo_series = df_assets_ppo_series.reindex(common_dates)\n",
    "df_dji_normalized_close_series = df_dji['normalized_close'].reindex(common_dates)\n",
    "\n",
    "# Step 5: Create result DataFrame\n",
    "result = pd.DataFrame({\n",
    "    \"PPO 50 epochs\": df_assets_ppo_series,\n",
    "    \"Nasdaq-100 index\": df_dji_normalized_close_series,\n",
    "})\n",
    "\n",
    "# Optional: Plot the comparison\n",
    "result.plot(title=\"Strategy vs Nasdaq-100\", figsize=(12, 6))\n",
    "plt.xlabel(\"Date\")\n",
    "plt.ylabel(\"Normalized Value\")\n",
    "plt.grid(True)\n",
    "plt.show()"
   ]
  },
  {
   "cell_type": "code",
   "execution_count": null,
   "metadata": {
    "colab": {
     "base_uri": "https://localhost:8080/",
     "height": 564
    },
    "executionInfo": {
     "elapsed": 487,
     "status": "ok",
     "timestamp": 1744739897913,
     "user": {
      "displayName": "Huma Ameer",
      "userId": "09038294176164290895"
     },
     "user_tz": -300
    },
    "id": "YzbUB8ZjDTsC",
    "outputId": "f8fa78c3-434d-4da9-fce0-7e3df1fa2102"
   },
   "outputs": [],
   "source": [
    "# prompt: plot also the sharpe ratio and sortino ratio of nasdaq and ppo\n",
    "\n",
    "import matplotlib.pyplot as plt\n",
    "import pandas as pd\n",
    "import numpy as np\n",
    "\n",
    "# Assuming 'result' DataFrame is already created as in your provided code\n",
    "\n",
    "# Calculate daily returns\n",
    "result['PPO 50 epochs_daily_return'] = result['PPO 50 epochs'].pct_change()\n",
    "result['Nasdaq-100 index_daily_return'] = result['Nasdaq-100 index'].pct_change()\n",
    "\n",
    "\n",
    "# Calculate Sharpe Ratio\n",
    "sharpe_ppo = np.sqrt(252) * (result['PPO 50 epochs_daily_return'].mean() / result['PPO 50 epochs_daily_return'].std())\n",
    "sharpe_nasdaq = np.sqrt(252) * (result['Nasdaq-100 index_daily_return'].mean() / result['Nasdaq-100 index_daily_return'].std())\n",
    "\n",
    "# Calculate Sortino Ratio (assuming a target return of 0)\n",
    "downside_returns_ppo = result['PPO 50 epochs_daily_return'].where(result['PPO 50 epochs_daily_return'] < 0, 0)\n",
    "downside_returns_nasdaq = result['Nasdaq-100 index_daily_return'].where(result['Nasdaq-100 index_daily_return'] < 0, 0)\n",
    "\n",
    "sortino_ppo = np.sqrt(252) * (result['PPO 50 epochs_daily_return'].mean() / downside_returns_ppo.std())\n",
    "sortino_nasdaq = np.sqrt(252) * (result['Nasdaq-100 index_daily_return'].mean() / downside_returns_nasdaq.std())\n",
    "\n",
    "\n",
    "#Plotting\n",
    "plt.figure(figsize=(12, 6))\n",
    "plt.plot(result.index, result['PPO 50 epochs'], label='PPO 50 epochs')\n",
    "plt.plot(result.index, result['Nasdaq-100 index'], label='Nasdaq-100 index')\n",
    "plt.title('Portfolio Value Comparison')\n",
    "plt.xlabel('Date')\n",
    "plt.ylabel('Portfolio Value')\n",
    "plt.legend()\n",
    "plt.grid(True)\n",
    "\n",
    "\n",
    "# Move legend to upper left\n",
    "plt.legend(loc='upper left')\n",
    "\n",
    "\n",
    "plt.show()"
   ]
  },
  {
   "cell_type": "code",
   "execution_count": null,
   "metadata": {
    "colab": {
     "base_uri": "https://localhost:8080/",
     "height": 640
    },
    "executionInfo": {
     "elapsed": 479,
     "status": "ok",
     "timestamp": 1744739899139,
     "user": {
      "displayName": "Huma Ameer",
      "userId": "09038294176164290895"
     },
     "user_tz": -300
    },
    "id": "OUR0e59pD9OB",
    "outputId": "ed2fa530-5e0d-48fe-8971-6e742b355706"
   },
   "outputs": [],
   "source": [
    "import numpy as np\n",
    "import pandas as pd\n",
    "import matplotlib.pyplot as plt\n",
    "\n",
    "# Assuming `df_assets_ppo_series` and `df_dji_normalized_close_series` are already created\n",
    "returns_strategy = df_assets_ppo_series.pct_change().dropna()\n",
    "returns_benchmark = df_dji_normalized_close_series.pct_change().dropna()\n",
    "\n",
    "# Align data\n",
    "returns_strategy, returns_benchmark = returns_strategy.align(returns_benchmark, join=\"inner\")\n",
    "\n",
    "# Information Ratio\n",
    "excess_return = returns_strategy - returns_benchmark\n",
    "information_ratio = excess_return.mean() / excess_return.std()\n",
    "\n",
    "# CVaR\n",
    "confidence_level = 0.05\n",
    "var = np.percentile(returns_strategy, confidence_level * 100)\n",
    "cvar = returns_strategy[returns_strategy <= var].mean()\n",
    "\n",
    "# Rachev Ratio\n",
    "upside_confidence = 0.95\n",
    "downside_confidence = 0.05\n",
    "upside_var = np.percentile(returns_strategy, upside_confidence * 100)\n",
    "downside_var = np.percentile(returns_strategy, downside_confidence * 100)\n",
    "rachev_ratio = returns_strategy[returns_strategy >= upside_var].mean() / abs(returns_strategy[returns_strategy <= downside_var].mean())\n",
    "\n",
    "# Print metrics\n",
    "print(f\"Information Ratio: {information_ratio:.4f}\")\n",
    "print(f\"CVaR (5%): {cvar:.4f}\")\n",
    "print(f\"Rachev Ratio: {rachev_ratio:.4f}\")\n",
    "\n",
    "# Plot\n",
    "plt.figure(figsize=(12, 6))\n",
    "\n",
    "# Strategy and benchmark cumulative returns\n",
    "cumulative_strategy = (1 + returns_strategy).cumprod()\n",
    "cumulative_benchmark = (1 + returns_benchmark).cumprod()\n",
    "\n",
    "plt.plot(cumulative_strategy, label=\"PPO 50 epochs (Strategy)\")\n",
    "plt.plot(cumulative_benchmark, label=\"Nasdaq-100 index (Baseline)\")\n",
    "\n",
    "# Add metrics to the plot\n",
    "plt.title(f\"Performance Metrics:\\nIR={information_ratio:.4f}, CVaR (5%)={cvar:.4f}, Rachev={rachev_ratio:.4f}\")\n",
    "plt.legend()\n",
    "plt.xlabel(\"Date\")\n",
    "plt.ylabel(\"Cumulative Return\")\n",
    "plt.grid()\n",
    "plt.show()\n"
   ]
  },
  {
   "cell_type": "code",
   "execution_count": null,
   "metadata": {
    "colab": {
     "base_uri": "https://localhost:8080/",
     "height": 607
    },
    "executionInfo": {
     "elapsed": 570,
     "status": "ok",
     "timestamp": 1744739900493,
     "user": {
      "displayName": "Huma Ameer",
      "userId": "09038294176164290895"
     },
     "user_tz": -300
    },
    "id": "_heZ_o2gEJNN",
    "outputId": "9fc78661-ecb6-4c8c-f6d8-05b5e4e6d753"
   },
   "outputs": [],
   "source": [
    "import matplotlib.pyplot as plt\n",
    "import pandas as pd\n",
    "import numpy as np\n",
    "\n",
    "# ... (your existing code to load data and calculate strategies) ...\n",
    "\n",
    "# Calculate daily returns (same as before)\n",
    "# ...\n",
    "\n",
    "# Calculate Sharpe and Sortino Ratios (same as before)\n",
    "# ...\n",
    "\n",
    "# Create a figure with two subplots\n",
    "fig, (ax1, ax2) = plt.subplots(1, 2, figsize=(14, 6))  # 1 row, 2 columns\n",
    "\n",
    "# --- Subplot 1: Sharpe Ratio Comparison ---\n",
    "ax1.bar(['PPO 50 epochs', 'Nasdaq-100 index'], [sharpe_ppo, sharpe_nasdaq], color=['blue', 'orange'])\n",
    "ax1.set_title('Sharpe Ratio Comparison')\n",
    "ax1.set_ylabel('Sharpe Ratio')\n",
    "\n",
    "# Add Sharpe ratio values as text on top of the bars\n",
    "for i, v in enumerate([sharpe_ppo, sharpe_nasdaq]):\n",
    "    ax1.text(i, v + 0.05, f\"{v:.2f}\", ha='center', va='bottom')\n",
    "\n",
    "# --- Subplot 2: Sortino Ratio Comparison ---\n",
    "ax2.bar(['PPO 50 epochs', 'Nasdaq-100 index'], [sortino_ppo, sortino_nasdaq], color=['green', 'red'])\n",
    "ax2.set_title('Sortino Ratio Comparison')\n",
    "ax2.set_ylabel('Sortino Ratio')\n",
    "\n",
    "# Add Sortino ratio values as text on top of the bars\n",
    "for i, v in enumerate([sortino_ppo, sortino_nasdaq]):\n",
    "    ax2.text(i, v + 0.05, f\"{v:.2f}\", ha='center', va='bottom')\n",
    "\n",
    "plt.tight_layout()\n",
    "plt.show()"
   ]
  },
  {
   "cell_type": "code",
   "execution_count": null,
   "metadata": {
    "colab": {
     "base_uri": "https://localhost:8080/",
     "height": 605
    },
    "executionInfo": {
     "elapsed": 954,
     "status": "ok",
     "timestamp": 1744739903520,
     "user": {
      "displayName": "Huma Ameer",
      "userId": "09038294176164290895"
     },
     "user_tz": -300
    },
    "id": "GECa1AaPEVjn",
    "outputId": "ee05b87e-8066-4a68-ac0a-234e1145fd15"
   },
   "outputs": [],
   "source": [
    "\n",
    "# Plotting\n",
    "plt.figure(figsize=(16, 6))\n",
    "for column in result.columns:\n",
    "    plt.plot(result.index, result[column], label=column)\n",
    "\n",
    "plt.xlabel(\"Date\")\n",
    "plt.ylabel(\"Portfolio Value\")\n",
    "plt.title(\"Backtesting Results (Tradable Days Only)\")\n",
    "\n",
    "\n",
    "# Get the first and last dates from the index\n",
    "first_day = result.index[0]\n",
    "last_day = result.index[-1]\n",
    "\n",
    "# Create a list of dates for ticks, including first, last, and every 15 days\n",
    "tick_dates = [first_day]  # Start with the first day\n",
    "current_date = first_day + pd.DateOffset(days=15)  # Add 15 days\n",
    "while current_date < last_day:\n",
    "    tick_dates.append(current_date)\n",
    "    current_date += pd.DateOffset(days=15)\n",
    "tick_dates.append(last_day)  # Add the last day\n",
    "\n",
    "\n",
    "# Remove December 13th if it's in the tick_dates list\n",
    "tick_dates = [d for d in tick_dates if d.strftime('%Y-%m-%d') != '2023-12-13']\n",
    "\n",
    "\n",
    "# Set x-axis ticks to the calculated tick_dates\n",
    "plt.xticks(tick_dates, [d.strftime('%Y-%m-%d') for d in tick_dates], rotation=45)\n",
    "\n",
    "\n",
    "#plt.xticks(rotation=45)\n",
    "plt.legend()\n",
    "plt.grid(True)\n",
    "plt.tight_layout()\n",
    "plt.show()"
   ]
  },
  {
   "cell_type": "code",
   "execution_count": null,
   "metadata": {
    "colab": {
     "base_uri": "https://localhost:8080/",
     "height": 478
    },
    "executionInfo": {
     "elapsed": 549,
     "status": "ok",
     "timestamp": 1744739905024,
     "user": {
      "displayName": "Huma Ameer",
      "userId": "09038294176164290895"
     },
     "user_tz": -300
    },
    "id": "OLe_mb5aE9OJ",
    "outputId": "447d1d05-f9de-4373-91a1-72f857ed17e4"
   },
   "outputs": [],
   "source": [
    "plt.rcParams[\"figure.figsize\"] = (15,5)\n",
    "plt.figure()\n",
    "result.plot()"
   ]
  },
  {
   "cell_type": "code",
   "execution_count": null,
   "metadata": {
    "colab": {
     "base_uri": "https://localhost:8080/",
     "height": 478
    },
    "executionInfo": {
     "elapsed": 431,
     "status": "ok",
     "timestamp": 1744739906170,
     "user": {
      "displayName": "Huma Ameer",
      "userId": "09038294176164290895"
     },
     "user_tz": -300
    },
    "id": "L6HpIIg_FAsN",
    "outputId": "991c5ee8-010e-44f0-d38e-c3cbf679fed9"
   },
   "outputs": [],
   "source": [
    "plt.rcParams[\"figure.figsize\"] = (15,5)\n",
    "plt.figure()\n",
    "result.plot()"
   ]
  },
  {
   "cell_type": "code",
   "execution_count": null,
   "metadata": {
    "id": "KfUMJgIYFJzp"
   },
   "outputs": [],
   "source": []
  }
 ],
 "metadata": {
  "colab": {
   "provenance": []
  },
  "kernelspec": {
   "display_name": "Python 3 (ipykernel)",
   "language": "python",
   "name": "python3"
  },
  "language_info": {
   "codemirror_mode": {
    "name": "ipython",
    "version": 3
   },
   "file_extension": ".py",
   "mimetype": "text/x-python",
   "name": "python",
   "nbconvert_exporter": "python",
   "pygments_lexer": "ipython3",
   "version": "3.9.21"
  },
  "widgets": {
   "application/vnd.jupyter.widget-state+json": {
    "24da682c1bff4b5d9cdfb82c39aedf35": {
     "model_module": "@jupyter-widgets/base",
     "model_module_version": "1.2.0",
     "model_name": "LayoutModel",
     "state": {
      "_model_module": "@jupyter-widgets/base",
      "_model_module_version": "1.2.0",
      "_model_name": "LayoutModel",
      "_view_count": null,
      "_view_module": "@jupyter-widgets/base",
      "_view_module_version": "1.2.0",
      "_view_name": "LayoutView",
      "align_content": null,
      "align_items": null,
      "align_self": null,
      "border": null,
      "bottom": null,
      "display": null,
      "flex": null,
      "flex_flow": null,
      "grid_area": null,
      "grid_auto_columns": null,
      "grid_auto_flow": null,
      "grid_auto_rows": null,
      "grid_column": null,
      "grid_gap": null,
      "grid_row": null,
      "grid_template_areas": null,
      "grid_template_columns": null,
      "grid_template_rows": null,
      "height": null,
      "justify_content": null,
      "justify_items": null,
      "left": null,
      "margin": null,
      "max_height": null,
      "max_width": null,
      "min_height": null,
      "min_width": null,
      "object_fit": null,
      "object_position": null,
      "order": null,
      "overflow": null,
      "overflow_x": null,
      "overflow_y": null,
      "padding": null,
      "right": null,
      "top": null,
      "visibility": null,
      "width": null
     }
    },
    "29475fe6468444fd9d19bd4e1fca532d": {
     "model_module": "@jupyter-widgets/base",
     "model_module_version": "1.2.0",
     "model_name": "LayoutModel",
     "state": {
      "_model_module": "@jupyter-widgets/base",
      "_model_module_version": "1.2.0",
      "_model_name": "LayoutModel",
      "_view_count": null,
      "_view_module": "@jupyter-widgets/base",
      "_view_module_version": "1.2.0",
      "_view_name": "LayoutView",
      "align_content": null,
      "align_items": null,
      "align_self": null,
      "border": null,
      "bottom": null,
      "display": null,
      "flex": null,
      "flex_flow": null,
      "grid_area": null,
      "grid_auto_columns": null,
      "grid_auto_flow": null,
      "grid_auto_rows": null,
      "grid_column": null,
      "grid_gap": null,
      "grid_row": null,
      "grid_template_areas": null,
      "grid_template_columns": null,
      "grid_template_rows": null,
      "height": null,
      "justify_content": null,
      "justify_items": null,
      "left": null,
      "margin": null,
      "max_height": null,
      "max_width": null,
      "min_height": null,
      "min_width": null,
      "object_fit": null,
      "object_position": null,
      "order": null,
      "overflow": null,
      "overflow_x": null,
      "overflow_y": null,
      "padding": null,
      "right": null,
      "top": null,
      "visibility": null,
      "width": null
     }
    },
    "2e47fc4fba4c4f55a34bf2881b01ca5b": {
     "model_module": "@jupyter-widgets/base",
     "model_module_version": "1.2.0",
     "model_name": "LayoutModel",
     "state": {
      "_model_module": "@jupyter-widgets/base",
      "_model_module_version": "1.2.0",
      "_model_name": "LayoutModel",
      "_view_count": null,
      "_view_module": "@jupyter-widgets/base",
      "_view_module_version": "1.2.0",
      "_view_name": "LayoutView",
      "align_content": null,
      "align_items": null,
      "align_self": null,
      "border": null,
      "bottom": null,
      "display": null,
      "flex": null,
      "flex_flow": null,
      "grid_area": null,
      "grid_auto_columns": null,
      "grid_auto_flow": null,
      "grid_auto_rows": null,
      "grid_column": null,
      "grid_gap": null,
      "grid_row": null,
      "grid_template_areas": null,
      "grid_template_columns": null,
      "grid_template_rows": null,
      "height": null,
      "justify_content": null,
      "justify_items": null,
      "left": null,
      "margin": null,
      "max_height": null,
      "max_width": null,
      "min_height": null,
      "min_width": null,
      "object_fit": null,
      "object_position": null,
      "order": null,
      "overflow": null,
      "overflow_x": null,
      "overflow_y": null,
      "padding": null,
      "right": null,
      "top": null,
      "visibility": null,
      "width": null
     }
    },
    "30c811d6807246f38485686400ed1087": {
     "model_module": "@jupyter-widgets/controls",
     "model_module_version": "1.5.0",
     "model_name": "FloatProgressModel",
     "state": {
      "_dom_classes": [],
      "_model_module": "@jupyter-widgets/controls",
      "_model_module_version": "1.5.0",
      "_model_name": "FloatProgressModel",
      "_view_count": null,
      "_view_module": "@jupyter-widgets/controls",
      "_view_module_version": "1.5.0",
      "_view_name": "ProgressView",
      "bar_style": "success",
      "description": "",
      "description_tooltip": null,
      "layout": "IPY_MODEL_8968d88431864300a829d5deef0d6426",
      "max": 43,
      "min": 0,
      "orientation": "horizontal",
      "style": "IPY_MODEL_83cbcf79ceb045ceac2aa17ddf0902f2",
      "value": 43
     }
    },
    "5c8c4585c1b74871a26092067327e564": {
     "model_module": "@jupyter-widgets/base",
     "model_module_version": "1.2.0",
     "model_name": "LayoutModel",
     "state": {
      "_model_module": "@jupyter-widgets/base",
      "_model_module_version": "1.2.0",
      "_model_name": "LayoutModel",
      "_view_count": null,
      "_view_module": "@jupyter-widgets/base",
      "_view_module_version": "1.2.0",
      "_view_name": "LayoutView",
      "align_content": null,
      "align_items": null,
      "align_self": null,
      "border": null,
      "bottom": null,
      "display": null,
      "flex": null,
      "flex_flow": null,
      "grid_area": null,
      "grid_auto_columns": null,
      "grid_auto_flow": null,
      "grid_auto_rows": null,
      "grid_column": null,
      "grid_gap": null,
      "grid_row": null,
      "grid_template_areas": null,
      "grid_template_columns": null,
      "grid_template_rows": null,
      "height": null,
      "justify_content": null,
      "justify_items": null,
      "left": null,
      "margin": null,
      "max_height": null,
      "max_width": null,
      "min_height": null,
      "min_width": null,
      "object_fit": null,
      "object_position": null,
      "order": null,
      "overflow": null,
      "overflow_x": null,
      "overflow_y": null,
      "padding": null,
      "right": null,
      "top": null,
      "visibility": null,
      "width": null
     }
    },
    "677ea19031c941ccb624ce2f7357abfc": {
     "model_module": "@jupyter-widgets/controls",
     "model_module_version": "1.5.0",
     "model_name": "HTMLModel",
     "state": {
      "_dom_classes": [],
      "_model_module": "@jupyter-widgets/controls",
      "_model_module_version": "1.5.0",
      "_model_name": "HTMLModel",
      "_view_count": null,
      "_view_module": "@jupyter-widgets/controls",
      "_view_module_version": "1.5.0",
      "_view_name": "HTMLView",
      "description": "",
      "description_tooltip": null,
      "layout": "IPY_MODEL_fdfd16a9612744d08cff5199ec12ef5e",
      "placeholder": "​",
      "style": "IPY_MODEL_ce60979713f3494c9515edcb6b47d8d0",
      "value": " 43.0/43.0 [00:00&lt;00:00, 3.12kB/s]"
     }
    },
    "6919fec67f184226bc4deb3ea4c539f3": {
     "model_module": "@jupyter-widgets/base",
     "model_module_version": "1.2.0",
     "model_name": "LayoutModel",
     "state": {
      "_model_module": "@jupyter-widgets/base",
      "_model_module_version": "1.2.0",
      "_model_name": "LayoutModel",
      "_view_count": null,
      "_view_module": "@jupyter-widgets/base",
      "_view_module_version": "1.2.0",
      "_view_name": "LayoutView",
      "align_content": null,
      "align_items": null,
      "align_self": null,
      "border": null,
      "bottom": null,
      "display": null,
      "flex": null,
      "flex_flow": null,
      "grid_area": null,
      "grid_auto_columns": null,
      "grid_auto_flow": null,
      "grid_auto_rows": null,
      "grid_column": null,
      "grid_gap": null,
      "grid_row": null,
      "grid_template_areas": null,
      "grid_template_columns": null,
      "grid_template_rows": null,
      "height": null,
      "justify_content": null,
      "justify_items": null,
      "left": null,
      "margin": null,
      "max_height": null,
      "max_width": null,
      "min_height": null,
      "min_width": null,
      "object_fit": null,
      "object_position": null,
      "order": null,
      "overflow": null,
      "overflow_x": null,
      "overflow_y": null,
      "padding": null,
      "right": null,
      "top": null,
      "visibility": null,
      "width": null
     }
    },
    "7085b52c12a74a519a59f76a5fe7e5ca": {
     "model_module": "@jupyter-widgets/controls",
     "model_module_version": "1.5.0",
     "model_name": "HBoxModel",
     "state": {
      "_dom_classes": [],
      "_model_module": "@jupyter-widgets/controls",
      "_model_module_version": "1.5.0",
      "_model_name": "HBoxModel",
      "_view_count": null,
      "_view_module": "@jupyter-widgets/controls",
      "_view_module_version": "1.5.0",
      "_view_name": "HBoxView",
      "box_style": "",
      "children": [
       "IPY_MODEL_c29b135307e74f2fa212968c794b3206",
       "IPY_MODEL_9bfb6883df5a4e34a06fe22138e79741",
       "IPY_MODEL_7362c0ece3674999bfae76c33666ff99"
      ],
      "layout": "IPY_MODEL_24da682c1bff4b5d9cdfb82c39aedf35"
     }
    },
    "7362c0ece3674999bfae76c33666ff99": {
     "model_module": "@jupyter-widgets/controls",
     "model_module_version": "1.5.0",
     "model_name": "HTMLModel",
     "state": {
      "_dom_classes": [],
      "_model_module": "@jupyter-widgets/controls",
      "_model_module_version": "1.5.0",
      "_model_name": "HTMLModel",
      "_view_count": null,
      "_view_module": "@jupyter-widgets/controls",
      "_view_module_version": "1.5.0",
      "_view_name": "HTMLView",
      "description": "",
      "description_tooltip": null,
      "layout": "IPY_MODEL_6919fec67f184226bc4deb3ea4c539f3",
      "placeholder": "​",
      "style": "IPY_MODEL_86c672d0480c45849ff82f263305024f",
      "value": " 31.0M/31.0M [00:00&lt;00:00, 157MB/s]"
     }
    },
    "74788b87a3b843e9b61c6c65e35b8034": {
     "model_module": "@jupyter-widgets/controls",
     "model_module_version": "1.5.0",
     "model_name": "HBoxModel",
     "state": {
      "_dom_classes": [],
      "_model_module": "@jupyter-widgets/controls",
      "_model_module_version": "1.5.0",
      "_model_name": "HBoxModel",
      "_view_count": null,
      "_view_module": "@jupyter-widgets/controls",
      "_view_module_version": "1.5.0",
      "_view_name": "HBoxView",
      "box_style": "",
      "children": [
       "IPY_MODEL_af45313bd95442ce8d6dbb4041ca9a6f",
       "IPY_MODEL_30c811d6807246f38485686400ed1087",
       "IPY_MODEL_677ea19031c941ccb624ce2f7357abfc"
      ],
      "layout": "IPY_MODEL_c81055b314a5474890ec2ab2888a4a01"
     }
    },
    "776ec41e40ab4835a99ddcb63a47812f": {
     "model_module": "@jupyter-widgets/controls",
     "model_module_version": "1.5.0",
     "model_name": "DescriptionStyleModel",
     "state": {
      "_model_module": "@jupyter-widgets/controls",
      "_model_module_version": "1.5.0",
      "_model_name": "DescriptionStyleModel",
      "_view_count": null,
      "_view_module": "@jupyter-widgets/base",
      "_view_module_version": "1.2.0",
      "_view_name": "StyleView",
      "description_width": ""
     }
    },
    "7b21985f64f24a09aff18a93f679399d": {
     "model_module": "@jupyter-widgets/controls",
     "model_module_version": "1.5.0",
     "model_name": "DescriptionStyleModel",
     "state": {
      "_model_module": "@jupyter-widgets/controls",
      "_model_module_version": "1.5.0",
      "_model_name": "DescriptionStyleModel",
      "_view_count": null,
      "_view_module": "@jupyter-widgets/base",
      "_view_module_version": "1.2.0",
      "_view_name": "StyleView",
      "description_width": ""
     }
    },
    "7e4a427544f9466a84ff011ead5141b8": {
     "model_module": "@jupyter-widgets/base",
     "model_module_version": "1.2.0",
     "model_name": "LayoutModel",
     "state": {
      "_model_module": "@jupyter-widgets/base",
      "_model_module_version": "1.2.0",
      "_model_name": "LayoutModel",
      "_view_count": null,
      "_view_module": "@jupyter-widgets/base",
      "_view_module_version": "1.2.0",
      "_view_name": "LayoutView",
      "align_content": null,
      "align_items": null,
      "align_self": null,
      "border": null,
      "bottom": null,
      "display": null,
      "flex": null,
      "flex_flow": null,
      "grid_area": null,
      "grid_auto_columns": null,
      "grid_auto_flow": null,
      "grid_auto_rows": null,
      "grid_column": null,
      "grid_gap": null,
      "grid_row": null,
      "grid_template_areas": null,
      "grid_template_columns": null,
      "grid_template_rows": null,
      "height": null,
      "justify_content": null,
      "justify_items": null,
      "left": null,
      "margin": null,
      "max_height": null,
      "max_width": null,
      "min_height": null,
      "min_width": null,
      "object_fit": null,
      "object_position": null,
      "order": null,
      "overflow": null,
      "overflow_x": null,
      "overflow_y": null,
      "padding": null,
      "right": null,
      "top": null,
      "visibility": null,
      "width": "20px"
     }
    },
    "83cbcf79ceb045ceac2aa17ddf0902f2": {
     "model_module": "@jupyter-widgets/controls",
     "model_module_version": "1.5.0",
     "model_name": "ProgressStyleModel",
     "state": {
      "_model_module": "@jupyter-widgets/controls",
      "_model_module_version": "1.5.0",
      "_model_name": "ProgressStyleModel",
      "_view_count": null,
      "_view_module": "@jupyter-widgets/base",
      "_view_module_version": "1.2.0",
      "_view_name": "StyleView",
      "bar_color": null,
      "description_width": ""
     }
    },
    "8489ef27d9eb45a2921d6ff9ebb3d9e6": {
     "model_module": "@jupyter-widgets/controls",
     "model_module_version": "1.5.0",
     "model_name": "HBoxModel",
     "state": {
      "_dom_classes": [],
      "_model_module": "@jupyter-widgets/controls",
      "_model_module_version": "1.5.0",
      "_model_name": "HBoxModel",
      "_view_count": null,
      "_view_module": "@jupyter-widgets/controls",
      "_view_module_version": "1.5.0",
      "_view_name": "HBoxView",
      "box_style": "",
      "children": [
       "IPY_MODEL_c035e24e3efd44299d4e78af97556a75",
       "IPY_MODEL_c85d9ccf364f47e58217661f2117480a",
       "IPY_MODEL_c4a8ab3fe3e94f8b816c46f1d6b8fc7b"
      ],
      "layout": "IPY_MODEL_927fe0b86e85424d884137cdb88da28d"
     }
    },
    "86c672d0480c45849ff82f263305024f": {
     "model_module": "@jupyter-widgets/controls",
     "model_module_version": "1.5.0",
     "model_name": "DescriptionStyleModel",
     "state": {
      "_model_module": "@jupyter-widgets/controls",
      "_model_module_version": "1.5.0",
      "_model_name": "DescriptionStyleModel",
      "_view_count": null,
      "_view_module": "@jupyter-widgets/base",
      "_view_module_version": "1.2.0",
      "_view_name": "StyleView",
      "description_width": ""
     }
    },
    "8968d88431864300a829d5deef0d6426": {
     "model_module": "@jupyter-widgets/base",
     "model_module_version": "1.2.0",
     "model_name": "LayoutModel",
     "state": {
      "_model_module": "@jupyter-widgets/base",
      "_model_module_version": "1.2.0",
      "_model_name": "LayoutModel",
      "_view_count": null,
      "_view_module": "@jupyter-widgets/base",
      "_view_module_version": "1.2.0",
      "_view_name": "LayoutView",
      "align_content": null,
      "align_items": null,
      "align_self": null,
      "border": null,
      "bottom": null,
      "display": null,
      "flex": null,
      "flex_flow": null,
      "grid_area": null,
      "grid_auto_columns": null,
      "grid_auto_flow": null,
      "grid_auto_rows": null,
      "grid_column": null,
      "grid_gap": null,
      "grid_row": null,
      "grid_template_areas": null,
      "grid_template_columns": null,
      "grid_template_rows": null,
      "height": null,
      "justify_content": null,
      "justify_items": null,
      "left": null,
      "margin": null,
      "max_height": null,
      "max_width": null,
      "min_height": null,
      "min_width": null,
      "object_fit": null,
      "object_position": null,
      "order": null,
      "overflow": null,
      "overflow_x": null,
      "overflow_y": null,
      "padding": null,
      "right": null,
      "top": null,
      "visibility": null,
      "width": null
     }
    },
    "927fe0b86e85424d884137cdb88da28d": {
     "model_module": "@jupyter-widgets/base",
     "model_module_version": "1.2.0",
     "model_name": "LayoutModel",
     "state": {
      "_model_module": "@jupyter-widgets/base",
      "_model_module_version": "1.2.0",
      "_model_name": "LayoutModel",
      "_view_count": null,
      "_view_module": "@jupyter-widgets/base",
      "_view_module_version": "1.2.0",
      "_view_name": "LayoutView",
      "align_content": null,
      "align_items": null,
      "align_self": null,
      "border": null,
      "bottom": null,
      "display": null,
      "flex": null,
      "flex_flow": null,
      "grid_area": null,
      "grid_auto_columns": null,
      "grid_auto_flow": null,
      "grid_auto_rows": null,
      "grid_column": null,
      "grid_gap": null,
      "grid_row": null,
      "grid_template_areas": null,
      "grid_template_columns": null,
      "grid_template_rows": null,
      "height": null,
      "justify_content": null,
      "justify_items": null,
      "left": null,
      "margin": null,
      "max_height": null,
      "max_width": null,
      "min_height": null,
      "min_width": null,
      "object_fit": null,
      "object_position": null,
      "order": null,
      "overflow": null,
      "overflow_x": null,
      "overflow_y": null,
      "padding": null,
      "right": null,
      "top": null,
      "visibility": null,
      "width": null
     }
    },
    "9bfb6883df5a4e34a06fe22138e79741": {
     "model_module": "@jupyter-widgets/controls",
     "model_module_version": "1.5.0",
     "model_name": "FloatProgressModel",
     "state": {
      "_dom_classes": [],
      "_model_module": "@jupyter-widgets/controls",
      "_model_module_version": "1.5.0",
      "_model_name": "FloatProgressModel",
      "_view_count": null,
      "_view_module": "@jupyter-widgets/controls",
      "_view_module_version": "1.5.0",
      "_view_name": "ProgressView",
      "bar_style": "success",
      "description": "",
      "description_tooltip": null,
      "layout": "IPY_MODEL_29475fe6468444fd9d19bd4e1fca532d",
      "max": 30953286,
      "min": 0,
      "orientation": "horizontal",
      "style": "IPY_MODEL_ba9712385e1f45fe8287003922ba130d",
      "value": 30953286
     }
    },
    "a701a051310d4a04be51a5353b755bf5": {
     "model_module": "@jupyter-widgets/controls",
     "model_module_version": "1.5.0",
     "model_name": "ProgressStyleModel",
     "state": {
      "_model_module": "@jupyter-widgets/controls",
      "_model_module_version": "1.5.0",
      "_model_name": "ProgressStyleModel",
      "_view_count": null,
      "_view_module": "@jupyter-widgets/base",
      "_view_module_version": "1.2.0",
      "_view_name": "StyleView",
      "bar_color": null,
      "description_width": ""
     }
    },
    "af45313bd95442ce8d6dbb4041ca9a6f": {
     "model_module": "@jupyter-widgets/controls",
     "model_module_version": "1.5.0",
     "model_name": "HTMLModel",
     "state": {
      "_dom_classes": [],
      "_model_module": "@jupyter-widgets/controls",
      "_model_module_version": "1.5.0",
      "_model_name": "HTMLModel",
      "_view_count": null,
      "_view_module": "@jupyter-widgets/controls",
      "_view_module_version": "1.5.0",
      "_view_name": "HTMLView",
      "description": "",
      "description_tooltip": null,
      "layout": "IPY_MODEL_e413c5146e824678a3384f8bfd239554",
      "placeholder": "​",
      "style": "IPY_MODEL_d71537f2fa804cf391a5adb61e97c44f",
      "value": "README.md: 100%"
     }
    },
    "ba9712385e1f45fe8287003922ba130d": {
     "model_module": "@jupyter-widgets/controls",
     "model_module_version": "1.5.0",
     "model_name": "ProgressStyleModel",
     "state": {
      "_model_module": "@jupyter-widgets/controls",
      "_model_module_version": "1.5.0",
      "_model_name": "ProgressStyleModel",
      "_view_count": null,
      "_view_module": "@jupyter-widgets/base",
      "_view_module_version": "1.2.0",
      "_view_name": "StyleView",
      "bar_color": null,
      "description_width": ""
     }
    },
    "c035e24e3efd44299d4e78af97556a75": {
     "model_module": "@jupyter-widgets/controls",
     "model_module_version": "1.5.0",
     "model_name": "HTMLModel",
     "state": {
      "_dom_classes": [],
      "_model_module": "@jupyter-widgets/controls",
      "_model_module_version": "1.5.0",
      "_model_name": "HTMLModel",
      "_view_count": null,
      "_view_module": "@jupyter-widgets/controls",
      "_view_module_version": "1.5.0",
      "_view_name": "HTMLView",
      "description": "",
      "description_tooltip": null,
      "layout": "IPY_MODEL_5c8c4585c1b74871a26092067327e564",
      "placeholder": "​",
      "style": "IPY_MODEL_776ec41e40ab4835a99ddcb63a47812f",
      "value": "Generating train split: "
     }
    },
    "c29b135307e74f2fa212968c794b3206": {
     "model_module": "@jupyter-widgets/controls",
     "model_module_version": "1.5.0",
     "model_name": "HTMLModel",
     "state": {
      "_dom_classes": [],
      "_model_module": "@jupyter-widgets/controls",
      "_model_module_version": "1.5.0",
      "_model_name": "HTMLModel",
      "_view_count": null,
      "_view_module": "@jupyter-widgets/controls",
      "_view_module_version": "1.5.0",
      "_view_name": "HTMLView",
      "description": "",
      "description_tooltip": null,
      "layout": "IPY_MODEL_fea49cdb52a2414682060231e96fda75",
      "placeholder": "​",
      "style": "IPY_MODEL_fbb86f61b0e143d9b5e29f056763c90b",
      "value": "(…)de_data_deepseek_sentiment_2019_2023.csv: 100%"
     }
    },
    "c4a8ab3fe3e94f8b816c46f1d6b8fc7b": {
     "model_module": "@jupyter-widgets/controls",
     "model_module_version": "1.5.0",
     "model_name": "HTMLModel",
     "state": {
      "_dom_classes": [],
      "_model_module": "@jupyter-widgets/controls",
      "_model_module_version": "1.5.0",
      "_model_name": "HTMLModel",
      "_view_count": null,
      "_view_module": "@jupyter-widgets/controls",
      "_view_module_version": "1.5.0",
      "_view_name": "HTMLView",
      "description": "",
      "description_tooltip": null,
      "layout": "IPY_MODEL_2e47fc4fba4c4f55a34bf2881b01ca5b",
      "placeholder": "​",
      "style": "IPY_MODEL_7b21985f64f24a09aff18a93f679399d",
      "value": " 105588/0 [00:00&lt;00:00, 178923.11 examples/s]"
     }
    },
    "c81055b314a5474890ec2ab2888a4a01": {
     "model_module": "@jupyter-widgets/base",
     "model_module_version": "1.2.0",
     "model_name": "LayoutModel",
     "state": {
      "_model_module": "@jupyter-widgets/base",
      "_model_module_version": "1.2.0",
      "_model_name": "LayoutModel",
      "_view_count": null,
      "_view_module": "@jupyter-widgets/base",
      "_view_module_version": "1.2.0",
      "_view_name": "LayoutView",
      "align_content": null,
      "align_items": null,
      "align_self": null,
      "border": null,
      "bottom": null,
      "display": null,
      "flex": null,
      "flex_flow": null,
      "grid_area": null,
      "grid_auto_columns": null,
      "grid_auto_flow": null,
      "grid_auto_rows": null,
      "grid_column": null,
      "grid_gap": null,
      "grid_row": null,
      "grid_template_areas": null,
      "grid_template_columns": null,
      "grid_template_rows": null,
      "height": null,
      "justify_content": null,
      "justify_items": null,
      "left": null,
      "margin": null,
      "max_height": null,
      "max_width": null,
      "min_height": null,
      "min_width": null,
      "object_fit": null,
      "object_position": null,
      "order": null,
      "overflow": null,
      "overflow_x": null,
      "overflow_y": null,
      "padding": null,
      "right": null,
      "top": null,
      "visibility": null,
      "width": null
     }
    },
    "c85d9ccf364f47e58217661f2117480a": {
     "model_module": "@jupyter-widgets/controls",
     "model_module_version": "1.5.0",
     "model_name": "FloatProgressModel",
     "state": {
      "_dom_classes": [],
      "_model_module": "@jupyter-widgets/controls",
      "_model_module_version": "1.5.0",
      "_model_name": "FloatProgressModel",
      "_view_count": null,
      "_view_module": "@jupyter-widgets/controls",
      "_view_module_version": "1.5.0",
      "_view_name": "ProgressView",
      "bar_style": "success",
      "description": "",
      "description_tooltip": null,
      "layout": "IPY_MODEL_7e4a427544f9466a84ff011ead5141b8",
      "max": 1,
      "min": 0,
      "orientation": "horizontal",
      "style": "IPY_MODEL_a701a051310d4a04be51a5353b755bf5",
      "value": 1
     }
    },
    "ce60979713f3494c9515edcb6b47d8d0": {
     "model_module": "@jupyter-widgets/controls",
     "model_module_version": "1.5.0",
     "model_name": "DescriptionStyleModel",
     "state": {
      "_model_module": "@jupyter-widgets/controls",
      "_model_module_version": "1.5.0",
      "_model_name": "DescriptionStyleModel",
      "_view_count": null,
      "_view_module": "@jupyter-widgets/base",
      "_view_module_version": "1.2.0",
      "_view_name": "StyleView",
      "description_width": ""
     }
    },
    "d71537f2fa804cf391a5adb61e97c44f": {
     "model_module": "@jupyter-widgets/controls",
     "model_module_version": "1.5.0",
     "model_name": "DescriptionStyleModel",
     "state": {
      "_model_module": "@jupyter-widgets/controls",
      "_model_module_version": "1.5.0",
      "_model_name": "DescriptionStyleModel",
      "_view_count": null,
      "_view_module": "@jupyter-widgets/base",
      "_view_module_version": "1.2.0",
      "_view_name": "StyleView",
      "description_width": ""
     }
    },
    "e413c5146e824678a3384f8bfd239554": {
     "model_module": "@jupyter-widgets/base",
     "model_module_version": "1.2.0",
     "model_name": "LayoutModel",
     "state": {
      "_model_module": "@jupyter-widgets/base",
      "_model_module_version": "1.2.0",
      "_model_name": "LayoutModel",
      "_view_count": null,
      "_view_module": "@jupyter-widgets/base",
      "_view_module_version": "1.2.0",
      "_view_name": "LayoutView",
      "align_content": null,
      "align_items": null,
      "align_self": null,
      "border": null,
      "bottom": null,
      "display": null,
      "flex": null,
      "flex_flow": null,
      "grid_area": null,
      "grid_auto_columns": null,
      "grid_auto_flow": null,
      "grid_auto_rows": null,
      "grid_column": null,
      "grid_gap": null,
      "grid_row": null,
      "grid_template_areas": null,
      "grid_template_columns": null,
      "grid_template_rows": null,
      "height": null,
      "justify_content": null,
      "justify_items": null,
      "left": null,
      "margin": null,
      "max_height": null,
      "max_width": null,
      "min_height": null,
      "min_width": null,
      "object_fit": null,
      "object_position": null,
      "order": null,
      "overflow": null,
      "overflow_x": null,
      "overflow_y": null,
      "padding": null,
      "right": null,
      "top": null,
      "visibility": null,
      "width": null
     }
    },
    "fbb86f61b0e143d9b5e29f056763c90b": {
     "model_module": "@jupyter-widgets/controls",
     "model_module_version": "1.5.0",
     "model_name": "DescriptionStyleModel",
     "state": {
      "_model_module": "@jupyter-widgets/controls",
      "_model_module_version": "1.5.0",
      "_model_name": "DescriptionStyleModel",
      "_view_count": null,
      "_view_module": "@jupyter-widgets/base",
      "_view_module_version": "1.2.0",
      "_view_name": "StyleView",
      "description_width": ""
     }
    },
    "fdfd16a9612744d08cff5199ec12ef5e": {
     "model_module": "@jupyter-widgets/base",
     "model_module_version": "1.2.0",
     "model_name": "LayoutModel",
     "state": {
      "_model_module": "@jupyter-widgets/base",
      "_model_module_version": "1.2.0",
      "_model_name": "LayoutModel",
      "_view_count": null,
      "_view_module": "@jupyter-widgets/base",
      "_view_module_version": "1.2.0",
      "_view_name": "LayoutView",
      "align_content": null,
      "align_items": null,
      "align_self": null,
      "border": null,
      "bottom": null,
      "display": null,
      "flex": null,
      "flex_flow": null,
      "grid_area": null,
      "grid_auto_columns": null,
      "grid_auto_flow": null,
      "grid_auto_rows": null,
      "grid_column": null,
      "grid_gap": null,
      "grid_row": null,
      "grid_template_areas": null,
      "grid_template_columns": null,
      "grid_template_rows": null,
      "height": null,
      "justify_content": null,
      "justify_items": null,
      "left": null,
      "margin": null,
      "max_height": null,
      "max_width": null,
      "min_height": null,
      "min_width": null,
      "object_fit": null,
      "object_position": null,
      "order": null,
      "overflow": null,
      "overflow_x": null,
      "overflow_y": null,
      "padding": null,
      "right": null,
      "top": null,
      "visibility": null,
      "width": null
     }
    },
    "fea49cdb52a2414682060231e96fda75": {
     "model_module": "@jupyter-widgets/base",
     "model_module_version": "1.2.0",
     "model_name": "LayoutModel",
     "state": {
      "_model_module": "@jupyter-widgets/base",
      "_model_module_version": "1.2.0",
      "_model_name": "LayoutModel",
      "_view_count": null,
      "_view_module": "@jupyter-widgets/base",
      "_view_module_version": "1.2.0",
      "_view_name": "LayoutView",
      "align_content": null,
      "align_items": null,
      "align_self": null,
      "border": null,
      "bottom": null,
      "display": null,
      "flex": null,
      "flex_flow": null,
      "grid_area": null,
      "grid_auto_columns": null,
      "grid_auto_flow": null,
      "grid_auto_rows": null,
      "grid_column": null,
      "grid_gap": null,
      "grid_row": null,
      "grid_template_areas": null,
      "grid_template_columns": null,
      "grid_template_rows": null,
      "height": null,
      "justify_content": null,
      "justify_items": null,
      "left": null,
      "margin": null,
      "max_height": null,
      "max_width": null,
      "min_height": null,
      "min_width": null,
      "object_fit": null,
      "object_position": null,
      "order": null,
      "overflow": null,
      "overflow_x": null,
      "overflow_y": null,
      "padding": null,
      "right": null,
      "top": null,
      "visibility": null,
      "width": null
     }
    }
   }
  }
 },
 "nbformat": 4,
 "nbformat_minor": 4
}
