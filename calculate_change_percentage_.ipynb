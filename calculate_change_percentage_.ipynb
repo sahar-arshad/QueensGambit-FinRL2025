{
  "nbformat": 4,
  "nbformat_minor": 0,
  "metadata": {
    "colab": {
      "provenance": []
    },
    "kernelspec": {
      "name": "python3",
      "display_name": "Python 3"
    },
    "language_info": {
      "name": "python"
    }
  },
  "cells": [
    {
      "cell_type": "code",
      "execution_count": null,
      "metadata": {
        "colab": {
          "base_uri": "https://localhost:8080/"
        },
        "id": "-BU4s3Z8YGdZ",
        "outputId": "ffc9cf8e-55e9-4fbc-b9bd-00645de25c1c"
      },
      "outputs": [
        {
          "output_type": "stream",
          "name": "stdout",
          "text": [
            "Drive already mounted at /content/drive; to attempt to forcibly remount, call drive.mount(\"/content/drive\", force_remount=True).\n",
            "Processed and saved: AAPL.csv\n",
            "Processed and saved: ADBE.csv\n",
            "Processed and saved: AMD.csv\n",
            "Processed and saved: AMZN.csv\n",
            "Processed and saved: CSCO.csv\n",
            "Processed and saved: EBAY.csv\n",
            "Processed and saved: GOOG.csv\n",
            "Processed and saved: GOOGL.csv\n",
            "Processed and saved: GPRO.csv\n",
            "Processed and saved: LULU.csv\n",
            "Processed and saved: MNST.csv\n",
            "Processed and saved: NFLX.csv\n",
            "Processed and saved: nvda.csv\n",
            "Processed and saved: pypl.csv\n",
            "Processed and saved: UA.csv\n",
            "Processed and saved: TSLA.csv\n"
          ]
        }
      ],
      "source": [
        "from google.colab import drive\n",
        "import pandas as pd\n",
        "import os\n",
        "\n",
        "# Step 1: Mount Google Drive\n",
        "drive.mount('/content/drive')\n",
        "\n",
        "# Step 2: Path to your folder\n",
        "folder_path = '/content/drive/MyDrive/FinRL/Data/15_selected_companies'\n",
        "\n",
        "# Step 3: Process each CSV file\n",
        "for filename in os.listdir(folder_path):\n",
        "    if filename.endswith('.csv'):\n",
        "        file_path = os.path.join(folder_path, filename)\n",
        "\n",
        "        # Load CSV\n",
        "        df = pd.read_csv(file_path)\n",
        "\n",
        "        # Drop old 'change_percentage' column if it exists\n",
        "        if 'change_percentage' in df.columns:\n",
        "            df.drop(columns=['change_percentage'], inplace=True)\n",
        "        if 'trend' in df.columns:\n",
        "            df.drop(columns=['trend'], inplace=True)\n",
        "\n",
        "        # Ensure 'date' column is datetime and sort by it\n",
        "        df['date'] = pd.to_datetime(df['date'])\n",
        "        df = df.sort_values('date').reset_index(drop=True)\n",
        "\n",
        "        # Calculate % change using 'adj close'\n",
        "        df['change_percentage'] = df['adj close'].pct_change() * 100\n",
        "        df['change_percentage'] = df['change_percentage'].round(2)\n",
        "\n",
        "        # Copy 'close' value into first row of 'change_percentage'\n",
        "        df.loc[0, 'change_percentage'] = df.loc[0, 'close']\n",
        "\n",
        "        # Add 'trend' column\n",
        "        def classify_trend(pct):\n",
        "            try:\n",
        "                pct = float(pct)\n",
        "                if pct > 0:\n",
        "                    return 'upward direction'\n",
        "                elif pct < 0:\n",
        "                    return 'downward direction'\n",
        "                else:\n",
        "                    return 'no change'\n",
        "            except:\n",
        "                return 'no change'\n",
        "\n",
        "        df['trend'] = df['change_percentage'].apply(classify_trend)\n",
        "\n",
        "        # Save updated file back\n",
        "        df.to_csv(file_path, index=False)\n",
        "\n",
        "        print(f\"Processed and saved: {filename}\")\n"
      ]
    },
    {
      "cell_type": "code",
      "source": [],
      "metadata": {
        "id": "YnAm31iQYPeR"
      },
      "execution_count": null,
      "outputs": []
    }
  ]
}